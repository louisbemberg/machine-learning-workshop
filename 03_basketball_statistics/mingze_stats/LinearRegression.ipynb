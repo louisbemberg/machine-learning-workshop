{
 "cells": [
  {
   "cell_type": "markdown",
   "id": "0e9d3d4c",
   "metadata": {},
   "source": [
    "# Linear Regression test of NBA stats 🏀"
   ]
  },
  {
   "cell_type": "markdown",
   "id": "8f03a4b2",
   "metadata": {},
   "source": [
    "### Aim: Given a set of game data, predict whether the data belongs to (Jordan/Kobe/Lebron)"
   ]
  },
  {
   "cell_type": "code",
   "execution_count": 2,
   "id": "c7bef85c",
   "metadata": {},
   "outputs": [],
   "source": [
    "import numpy as np\n",
    "import pandas as pd\n",
    "import matplotlib.pyplot as plt\n",
    "from sklearn.linear_model import LinearRegression\n",
    "from sklearn.model_selection import train_test_split\n",
    "from sklearn import preprocessing"
   ]
  },
  {
   "cell_type": "markdown",
   "id": "b6b97625",
   "metadata": {},
   "source": [
    "### Data preparation"
   ]
  },
  {
   "cell_type": "code",
   "execution_count": 8,
   "id": "e3d688bb",
   "metadata": {},
   "outputs": [],
   "source": [
    "total = pd.read_csv('nba/allgames_stats.csv')\n",
    "total = total[['3P', '3PA', 'FT', 'FTA', 'AST', 'PTS', 'Player']]\n",
    "total.loc[:, 'True'] = 0\n",
    "total.replace(to_replace=[None], value=0, inplace=True)\n",
    "total.fillna(value=0, inplace=True)\n",
    "\n",
    "# whom to predict\n",
    "total['True'].iloc[total['Player'] == 'Kobe Bryant'] = 1\n",
    "\n",
    "mj = total.loc[total['Player'] == 'Michael Jordan']\n",
    "kb = total.loc[total['Player'] == 'Kobe Bryant']\n",
    "lj = total.loc[total['Player'] == 'Lebron James']\n",
    "\n",
    "total = pd.concat([kb, mj, lj])"
   ]
  },
  {
   "cell_type": "code",
   "execution_count": 9,
   "id": "960fcf2f",
   "metadata": {},
   "outputs": [
    {
     "name": "stdout",
     "output_type": "stream",
     "text": [
      "4254\n"
     ]
    },
    {
     "data": {
      "text/html": [
       "<div>\n",
       "<style scoped>\n",
       "    .dataframe tbody tr th:only-of-type {\n",
       "        vertical-align: middle;\n",
       "    }\n",
       "\n",
       "    .dataframe tbody tr th {\n",
       "        vertical-align: top;\n",
       "    }\n",
       "\n",
       "    .dataframe thead th {\n",
       "        text-align: right;\n",
       "    }\n",
       "</style>\n",
       "<table border=\"1\" class=\"dataframe\">\n",
       "  <thead>\n",
       "    <tr style=\"text-align: right;\">\n",
       "      <th></th>\n",
       "      <th>3P</th>\n",
       "      <th>3PA</th>\n",
       "      <th>FT</th>\n",
       "      <th>FTA</th>\n",
       "      <th>AST</th>\n",
       "      <th>PTS</th>\n",
       "      <th>Player</th>\n",
       "      <th>True</th>\n",
       "    </tr>\n",
       "  </thead>\n",
       "  <tbody>\n",
       "    <tr>\n",
       "      <th>0</th>\n",
       "      <td>0</td>\n",
       "      <td>0</td>\n",
       "      <td>0.0</td>\n",
       "      <td>0.0</td>\n",
       "      <td>0</td>\n",
       "      <td>0.0</td>\n",
       "      <td>Kobe Bryant</td>\n",
       "      <td>1</td>\n",
       "    </tr>\n",
       "    <tr>\n",
       "      <th>1</th>\n",
       "      <td>0</td>\n",
       "      <td>0</td>\n",
       "      <td>1.0</td>\n",
       "      <td>2.0</td>\n",
       "      <td>0</td>\n",
       "      <td>1.0</td>\n",
       "      <td>Kobe Bryant</td>\n",
       "      <td>1</td>\n",
       "    </tr>\n",
       "    <tr>\n",
       "      <th>2</th>\n",
       "      <td>1</td>\n",
       "      <td>2</td>\n",
       "      <td>0.0</td>\n",
       "      <td>0.0</td>\n",
       "      <td>0</td>\n",
       "      <td>5.0</td>\n",
       "      <td>Kobe Bryant</td>\n",
       "      <td>1</td>\n",
       "    </tr>\n",
       "    <tr>\n",
       "      <th>3</th>\n",
       "      <td>2</td>\n",
       "      <td>3</td>\n",
       "      <td>2.0</td>\n",
       "      <td>4.0</td>\n",
       "      <td>0</td>\n",
       "      <td>10.0</td>\n",
       "      <td>Kobe Bryant</td>\n",
       "      <td>1</td>\n",
       "    </tr>\n",
       "    <tr>\n",
       "      <th>4</th>\n",
       "      <td>0</td>\n",
       "      <td>0</td>\n",
       "      <td>2.0</td>\n",
       "      <td>2.0</td>\n",
       "      <td>1</td>\n",
       "      <td>2.0</td>\n",
       "      <td>Kobe Bryant</td>\n",
       "      <td>1</td>\n",
       "    </tr>\n",
       "  </tbody>\n",
       "</table>\n",
       "</div>"
      ],
      "text/plain": [
       "   3P  3PA   FT  FTA  AST   PTS       Player  True\n",
       "0   0    0  0.0  0.0    0   0.0  Kobe Bryant     1\n",
       "1   0    0  1.0  2.0    0   1.0  Kobe Bryant     1\n",
       "2   1    2  0.0  0.0    0   5.0  Kobe Bryant     1\n",
       "3   2    3  2.0  4.0    0  10.0  Kobe Bryant     1\n",
       "4   0    0  2.0  2.0    1   2.0  Kobe Bryant     1"
      ]
     },
     "execution_count": 9,
     "metadata": {},
     "output_type": "execute_result"
    }
   ],
   "source": [
    "print(len(total))\n",
    "total.head(5)"
   ]
  },
  {
   "cell_type": "code",
   "execution_count": 10,
   "id": "37d2f27a",
   "metadata": {},
   "outputs": [],
   "source": [
    "def normalization():\n",
    "    for i in ['3P', '3PA', 'AST', 'PTS']:\n",
    "        y = total.loc[:, i]\n",
    "        total.loc[:, i] = preprocessing.scale(y)"
   ]
  },
  {
   "cell_type": "code",
   "execution_count": 11,
   "id": "f7c56dbf",
   "metadata": {},
   "outputs": [
    {
     "name": "stdout",
     "output_type": "stream",
     "text": [
      "3P        False\n",
      "3PA       False\n",
      "FT        False\n",
      "FTA       False\n",
      "AST       False\n",
      "PTS       False\n",
      "Player    False\n",
      "True      False\n",
      "dtype: bool\n"
     ]
    }
   ],
   "source": [
    "normalization()\n",
    "total.head(100)\n",
    "print(total.isnull().any())"
   ]
  },
  {
   "cell_type": "code",
   "execution_count": 18,
   "id": "bd12e9de",
   "metadata": {},
   "outputs": [],
   "source": [
    "def build_lr(data):\n",
    "    X = data.loc[:, ['3P', '3PA', 'FT', 'FTA', 'AST', 'PTS']]\n",
    "    Y = data.loc[:, 'True']\n",
    "    X_train, X_test, Y_train, Y_test = train_test_split(X, Y, test_size=0.1)\n",
    "    \n",
    "    linreg = LinearRegression()\n",
    "    \n",
    "    model = linreg.fit(X_train, Y_train)\n",
    "    print('Parameter:', model)\n",
    "    print('Intercept:', linreg.intercept_)\n",
    "    print('Coef:', linreg.coef_)\n",
    "    \n",
    "    Y_pred = linreg.predict(X_test)\n",
    "    for i in range(len(Y_pred)):\n",
    "        Y_pred[i] = 1 if Y_pred[i] > 0.5 else 0\n",
    "    \n",
    "    sum_mean = 0\n",
    "    for i in range(len(Y_pred)):\n",
    "        sum_mean += 1 if Y_pred[i] == Y_test.values[i] else 0\n",
    "    rate = sum_mean / len(Y_pred)\n",
    "    \n",
    "    print('Accuracy:', rate*100, '%')\n",
    "    \n",
    "#     sum_mean = 0\n",
    "#     for i in range(len(Y_pred)):\n",
    "#         sum_mean += (Y_pred[i] - Y_test.values[i]) ** 2\n",
    "#     sum_erro = np.sqrt(sum_mean / len(Y_pred))\n",
    "\n",
    "#     print('RMSE:', sum_erro)\n",
    "\n",
    "    plt.figure()\n",
    "    plt.scatter(range(len(Y_pred)), Y_pred, label='Predict', color='r')\n",
    "    plt.scatter(range(len(Y_pred)), Y_test, label='True', color='g')\n",
    "    plt.legend()\n",
    "    plt.show()"
   ]
  },
  {
   "cell_type": "code",
   "execution_count": 19,
   "id": "7e4407bd",
   "metadata": {},
   "outputs": [
    {
     "name": "stdout",
     "output_type": "stream",
     "text": [
      "Parameter: LinearRegression()\n",
      "Intercept: 0.3223931713707018\n",
      "Coef: [ 0.00194172  0.13207512  0.06634813 -0.04692313 -0.11890587 -0.14272471]\n",
      "Accuracy: 74.88262910798123 %\n"
     ]
    },
    {
     "data": {
      "image/png": "[encoded data removed]",
      "text/plain": [
       "<Figure size 432x288 with 1 Axes>"
      ]
     },
     "metadata": {
      "needs_background": "light"
     },
     "output_type": "display_data"
    }
   ],
   "source": [
    "build_lr(total)"
   ]
  },
  {
   "cell_type": "code",
   "execution_count": 20,
   "id": "7a0c89e5",
   "metadata": {},
   "outputs": [
    {
     "name": "stdout",
     "output_type": "stream",
     "text": [
      "Parameter: LinearRegression()\n",
      "Intercept: 0.3116202514463981\n",
      "Coef: [ 0.00763376  0.12712548  0.06496697 -0.0452453  -0.1166302  -0.14218185]\n",
      "Accuracy: 73.94366197183099 %\n"
     ]
    },
    {
     "data": {
      "image/png": "[encoded data removed]",
      "text/plain": [
       "<Figure size 432x288 with 1 Axes>"
      ]
     },
     "metadata": {
      "needs_background": "light"
     },
     "output_type": "display_data"
    }
   ],
   "source": [
    "build_lr(total)"
   ]
  },
  {
   "cell_type": "code",
   "execution_count": 21,
   "id": "b5345d09",
   "metadata": {},
   "outputs": [
    {
     "name": "stdout",
     "output_type": "stream",
     "text": [
      "Parameter: LinearRegression()\n",
      "Intercept: 0.3084650743108155\n",
      "Coef: [-1.27646680e-04  1.31773057e-01  6.67861572e-02 -4.59675665e-02\n",
      " -1.20749692e-01 -1.37662332e-01]\n",
      "Accuracy: 75.11737089201877 %\n"
     ]
    },
    {
     "data": {
      "image/png": "[encoded data removed]",
      "text/plain": [
       "<Figure size 432x288 with 1 Axes>"
      ]
     },
     "metadata": {
      "needs_background": "light"
     },
     "output_type": "display_data"
    }
   ],
   "source": [
    "build_lr(total)"
   ]
  },
  {
   "cell_type": "code",
   "execution_count": null,
   "id": "5062b2b6",
   "metadata": {},
   "outputs": [],
   "source": []
  }
 ],
 "metadata": {
  "kernelspec": {
   "display_name": "Python 3 (ipykernel)",
   "language": "python",
   "name": "python3"
  },
  "language_info": {
   "codemirror_mode": {
    "name": "ipython",
    "version": 3
   },
   "file_extension": ".py",
   "mimetype": "text/x-python",
   "name": "python",
   "nbconvert_exporter": "python",
   "pygments_lexer": "ipython3",
   "version": "3.9.7"
  }
 },
 "nbformat": 4,
 "nbformat_minor": 5
}
