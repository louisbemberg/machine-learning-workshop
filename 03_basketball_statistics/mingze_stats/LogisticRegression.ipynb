{
 "cells": [
  {
   "cell_type": "markdown",
   "id": "0e9d3d4c",
   "metadata": {},
   "source": [
    "# Logistic Regression test of NBA stats 🏀"
   ]
  },
  {
   "cell_type": "markdown",
   "id": "8f03a4b2",
   "metadata": {},
   "source": [
    "### Aim: Given a set of game data, predict whether the data belongs to (Jordan/Kobe/Lebron)"
   ]
  },
  {
   "cell_type": "code",
   "execution_count": 1,
   "id": "c7bef85c",
   "metadata": {},
   "outputs": [],
   "source": [
    "import numpy as np\n",
    "import pandas as pd\n",
    "import matplotlib.pyplot as plt\n",
    "import statsmodels.api as sm\n",
    "import sklearn.metrics\n",
    "from sklearn.model_selection import train_test_split\n",
    "from sklearn import preprocessing"
   ]
  },
  {
   "cell_type": "markdown",
   "id": "b6b97625",
   "metadata": {},
   "source": [
    "### Data preparation"
   ]
  },
  {
   "cell_type": "code",
   "execution_count": 8,
   "id": "e3d688bb",
   "metadata": {},
   "outputs": [],
   "source": [
    "raw = pd.read_csv('nba/allgames_stats.csv')\n",
    "total = raw.loc[:, ['FG', 'FGA', 'FG%', '3P', '3PA', 'FT', 'FTA', 'TRB', 'AST', 'STL',\n",
    "                    'BLK', 'PF', 'PTS', 'Player']]\n",
    "total.loc[:, 'True'] = 0\n",
    "# total.replace(to_replace=[None], value=0, inplace=True)\n",
    "total.fillna(value=0, inplace=True)\n",
    "\n",
    "# whom to predict\n",
    "total.loc[:, 'True'].iloc[total['Player'] == 'Kobe Bryant'] = 1\n",
    "\n",
    "# mj = total.loc[total['Player'] == 'Michael Jordan']\n",
    "# kb = total.loc[total['Player'] == 'Kobe Bryant']\n",
    "# lj = total.loc[total['Player'] == 'Lebron James']\n",
    "# total = pd.concat([kb, mj[:500], lj[:500]])"
   ]
  },
  {
   "cell_type": "code",
   "execution_count": 3,
   "id": "960fcf2f",
   "metadata": {},
   "outputs": [
    {
     "name": "stdout",
     "output_type": "stream",
     "text": [
      "<class 'pandas.core.frame.DataFrame'>\n",
      "RangeIndex: 4254 entries, 0 to 4253\n",
      "Data columns (total 15 columns):\n",
      " #   Column  Non-Null Count  Dtype  \n",
      "---  ------  --------------  -----  \n",
      " 0   FG      4254 non-null   float64\n",
      " 1   FGA     4254 non-null   float64\n",
      " 2   FG%     4254 non-null   float64\n",
      " 3   3P      4254 non-null   int64  \n",
      " 4   3PA     4254 non-null   int64  \n",
      " 5   FT      4254 non-null   float64\n",
      " 6   FTA     4254 non-null   float64\n",
      " 7   TRB     4254 non-null   int64  \n",
      " 8   AST     4254 non-null   int64  \n",
      " 9   STL     4254 non-null   float64\n",
      " 10  BLK     4254 non-null   float64\n",
      " 11  PF      4254 non-null   int64  \n",
      " 12  PTS     4254 non-null   float64\n",
      " 13  Player  4254 non-null   object \n",
      " 14  True    4254 non-null   int64  \n",
      "dtypes: float64(8), int64(6), object(1)\n",
      "memory usage: 498.6+ KB\n"
     ]
    },
    {
     "data": {
      "text/html": [
       "<div>\n",
       "<style scoped>\n",
       "    .dataframe tbody tr th:only-of-type {\n",
       "        vertical-align: middle;\n",
       "    }\n",
       "\n",
       "    .dataframe tbody tr th {\n",
       "        vertical-align: top;\n",
       "    }\n",
       "\n",
       "    .dataframe thead th {\n",
       "        text-align: right;\n",
       "    }\n",
       "</style>\n",
       "<table border=\"1\" class=\"dataframe\">\n",
       "  <thead>\n",
       "    <tr style=\"text-align: right;\">\n",
       "      <th></th>\n",
       "      <th>FG</th>\n",
       "      <th>FGA</th>\n",
       "      <th>FG%</th>\n",
       "      <th>3P</th>\n",
       "      <th>3PA</th>\n",
       "      <th>FT</th>\n",
       "      <th>FTA</th>\n",
       "      <th>TRB</th>\n",
       "      <th>AST</th>\n",
       "      <th>STL</th>\n",
       "      <th>BLK</th>\n",
       "      <th>PF</th>\n",
       "      <th>PTS</th>\n",
       "      <th>Player</th>\n",
       "      <th>True</th>\n",
       "    </tr>\n",
       "  </thead>\n",
       "  <tbody>\n",
       "    <tr>\n",
       "      <th>0</th>\n",
       "      <td>0.0</td>\n",
       "      <td>1.0</td>\n",
       "      <td>0.00</td>\n",
       "      <td>0</td>\n",
       "      <td>0</td>\n",
       "      <td>0.0</td>\n",
       "      <td>0.0</td>\n",
       "      <td>1</td>\n",
       "      <td>0</td>\n",
       "      <td>0.0</td>\n",
       "      <td>1.0</td>\n",
       "      <td>1</td>\n",
       "      <td>0.0</td>\n",
       "      <td>Kobe Bryant</td>\n",
       "      <td>1</td>\n",
       "    </tr>\n",
       "    <tr>\n",
       "      <th>1</th>\n",
       "      <td>0.0</td>\n",
       "      <td>1.0</td>\n",
       "      <td>0.00</td>\n",
       "      <td>0</td>\n",
       "      <td>0</td>\n",
       "      <td>1.0</td>\n",
       "      <td>2.0</td>\n",
       "      <td>0</td>\n",
       "      <td>0</td>\n",
       "      <td>0.0</td>\n",
       "      <td>0.0</td>\n",
       "      <td>0</td>\n",
       "      <td>1.0</td>\n",
       "      <td>Kobe Bryant</td>\n",
       "      <td>1</td>\n",
       "    </tr>\n",
       "    <tr>\n",
       "      <th>2</th>\n",
       "      <td>2.0</td>\n",
       "      <td>3.0</td>\n",
       "      <td>0.67</td>\n",
       "      <td>1</td>\n",
       "      <td>2</td>\n",
       "      <td>0.0</td>\n",
       "      <td>0.0</td>\n",
       "      <td>0</td>\n",
       "      <td>0</td>\n",
       "      <td>0.0</td>\n",
       "      <td>0.0</td>\n",
       "      <td>0</td>\n",
       "      <td>5.0</td>\n",
       "      <td>Kobe Bryant</td>\n",
       "      <td>1</td>\n",
       "    </tr>\n",
       "    <tr>\n",
       "      <th>3</th>\n",
       "      <td>3.0</td>\n",
       "      <td>8.0</td>\n",
       "      <td>0.38</td>\n",
       "      <td>2</td>\n",
       "      <td>3</td>\n",
       "      <td>2.0</td>\n",
       "      <td>4.0</td>\n",
       "      <td>3</td>\n",
       "      <td>0</td>\n",
       "      <td>0.0</td>\n",
       "      <td>1.0</td>\n",
       "      <td>3</td>\n",
       "      <td>10.0</td>\n",
       "      <td>Kobe Bryant</td>\n",
       "      <td>1</td>\n",
       "    </tr>\n",
       "    <tr>\n",
       "      <th>4</th>\n",
       "      <td>0.0</td>\n",
       "      <td>3.0</td>\n",
       "      <td>0.00</td>\n",
       "      <td>0</td>\n",
       "      <td>0</td>\n",
       "      <td>2.0</td>\n",
       "      <td>2.0</td>\n",
       "      <td>3</td>\n",
       "      <td>1</td>\n",
       "      <td>0.0</td>\n",
       "      <td>0.0</td>\n",
       "      <td>0</td>\n",
       "      <td>2.0</td>\n",
       "      <td>Kobe Bryant</td>\n",
       "      <td>1</td>\n",
       "    </tr>\n",
       "  </tbody>\n",
       "</table>\n",
       "</div>"
      ],
      "text/plain": [
       "    FG  FGA   FG%  3P  3PA   FT  FTA  TRB  AST  STL  BLK  PF   PTS  \\\n",
       "0  0.0  1.0  0.00   0    0  0.0  0.0    1    0  0.0  1.0   1   0.0   \n",
       "1  0.0  1.0  0.00   0    0  1.0  2.0    0    0  0.0  0.0   0   1.0   \n",
       "2  2.0  3.0  0.67   1    2  0.0  0.0    0    0  0.0  0.0   0   5.0   \n",
       "3  3.0  8.0  0.38   2    3  2.0  4.0    3    0  0.0  1.0   3  10.0   \n",
       "4  0.0  3.0  0.00   0    0  2.0  2.0    3    1  0.0  0.0   0   2.0   \n",
       "\n",
       "        Player  True  \n",
       "0  Kobe Bryant     1  \n",
       "1  Kobe Bryant     1  \n",
       "2  Kobe Bryant     1  \n",
       "3  Kobe Bryant     1  \n",
       "4  Kobe Bryant     1  "
      ]
     },
     "execution_count": 3,
     "metadata": {},
     "output_type": "execute_result"
    }
   ],
   "source": [
    "total.info()\n",
    "total.head(5)"
   ]
  },
  {
   "cell_type": "markdown",
   "id": "30dc7320",
   "metadata": {},
   "source": [
    "### Model training"
   ]
  },
  {
   "cell_type": "code",
   "execution_count": 28,
   "id": "040a2f11",
   "metadata": {},
   "outputs": [
    {
     "name": "stdout",
     "output_type": "stream",
     "text": [
      "Optimization terminated successfully.\n",
      "         Current function value: 0.518275\n",
      "         Iterations 6\n"
     ]
    },
    {
     "data": {
      "text/html": [
       "<table class=\"simpletable\">\n",
       "<caption>Logit Regression Results</caption>\n",
       "<tr>\n",
       "  <th>Dep. Variable:</th>         <td>True</td>       <th>  No. Observations:  </th>   <td>  3403</td>  \n",
       "</tr>\n",
       "<tr>\n",
       "  <th>Model:</th>                 <td>Logit</td>      <th>  Df Residuals:      </th>   <td>  3390</td>  \n",
       "</tr>\n",
       "<tr>\n",
       "  <th>Method:</th>                 <td>MLE</td>       <th>  Df Model:          </th>   <td>    12</td>  \n",
       "</tr>\n",
       "<tr>\n",
       "  <th>Date:</th>            <td>Fri, 29 Oct 2021</td> <th>  Pseudo R-squ.:     </th>   <td>0.2110</td>  \n",
       "</tr>\n",
       "<tr>\n",
       "  <th>Time:</th>                <td>14:31:01</td>     <th>  Log-Likelihood:    </th>  <td> -1763.7</td> \n",
       "</tr>\n",
       "<tr>\n",
       "  <th>converged:</th>             <td>True</td>       <th>  LL-Null:           </th>  <td> -2235.3</td> \n",
       "</tr>\n",
       "<tr>\n",
       "  <th>Covariance Type:</th>     <td>nonrobust</td>    <th>  LLR p-value:       </th> <td>2.874e-194</td>\n",
       "</tr>\n",
       "</table>\n",
       "<table class=\"simpletable\">\n",
       "<tr>\n",
       "   <td></td>      <th>coef</th>     <th>std err</th>      <th>z</th>      <th>P>|z|</th>  <th>[0.025</th>    <th>0.975]</th>  \n",
       "</tr>\n",
       "<tr>\n",
       "  <th>FG</th>  <td>   -0.2891</td> <td>    0.043</td> <td>   -6.691</td> <td> 0.000</td> <td>   -0.374</td> <td>   -0.204</td>\n",
       "</tr>\n",
       "<tr>\n",
       "  <th>FGA</th> <td>    0.0976</td> <td>    0.013</td> <td>    7.726</td> <td> 0.000</td> <td>    0.073</td> <td>    0.122</td>\n",
       "</tr>\n",
       "<tr>\n",
       "  <th>FG%</th> <td>    3.2031</td> <td>    0.378</td> <td>    8.469</td> <td> 0.000</td> <td>    2.462</td> <td>    3.944</td>\n",
       "</tr>\n",
       "<tr>\n",
       "  <th>3P</th>  <td>   -0.0228</td> <td>    0.056</td> <td>   -0.407</td> <td> 0.684</td> <td>   -0.133</td> <td>    0.087</td>\n",
       "</tr>\n",
       "<tr>\n",
       "  <th>3PA</th> <td>    0.2487</td> <td>    0.028</td> <td>    8.845</td> <td> 0.000</td> <td>    0.194</td> <td>    0.304</td>\n",
       "</tr>\n",
       "<tr>\n",
       "  <th>FT</th>  <td>    0.2785</td> <td>    0.041</td> <td>    6.816</td> <td> 0.000</td> <td>    0.198</td> <td>    0.359</td>\n",
       "</tr>\n",
       "<tr>\n",
       "  <th>FTA</th> <td>   -0.2270</td> <td>    0.032</td> <td>   -7.202</td> <td> 0.000</td> <td>   -0.289</td> <td>   -0.165</td>\n",
       "</tr>\n",
       "<tr>\n",
       "  <th>TRB</th> <td>   -0.1594</td> <td>    0.016</td> <td>  -10.265</td> <td> 0.000</td> <td>   -0.190</td> <td>   -0.129</td>\n",
       "</tr>\n",
       "<tr>\n",
       "  <th>AST</th> <td>   -0.1508</td> <td>    0.016</td> <td>   -9.668</td> <td> 0.000</td> <td>   -0.181</td> <td>   -0.120</td>\n",
       "</tr>\n",
       "<tr>\n",
       "  <th>STL</th> <td>   -0.1834</td> <td>    0.032</td> <td>   -5.750</td> <td> 0.000</td> <td>   -0.246</td> <td>   -0.121</td>\n",
       "</tr>\n",
       "<tr>\n",
       "  <th>BLK</th> <td>   -0.2549</td> <td>    0.050</td> <td>   -5.065</td> <td> 0.000</td> <td>   -0.353</td> <td>   -0.156</td>\n",
       "</tr>\n",
       "<tr>\n",
       "  <th>PF</th>  <td>    0.2553</td> <td>    0.030</td> <td>    8.488</td> <td> 0.000</td> <td>    0.196</td> <td>    0.314</td>\n",
       "</tr>\n",
       "<tr>\n",
       "  <th>PTS</th> <td>   -0.0170</td> <td>    0.019</td> <td>   -0.898</td> <td> 0.369</td> <td>   -0.054</td> <td>    0.020</td>\n",
       "</tr>\n",
       "</table>"
      ],
      "text/plain": [
       "<class 'statsmodels.iolib.summary.Summary'>\n",
       "\"\"\"\n",
       "                           Logit Regression Results                           \n",
       "==============================================================================\n",
       "Dep. Variable:                   True   No. Observations:                 3403\n",
       "Model:                          Logit   Df Residuals:                     3390\n",
       "Method:                           MLE   Df Model:                           12\n",
       "Date:                Fri, 29 Oct 2021   Pseudo R-squ.:                  0.2110\n",
       "Time:                        14:31:01   Log-Likelihood:                -1763.7\n",
       "converged:                       True   LL-Null:                       -2235.3\n",
       "Covariance Type:            nonrobust   LLR p-value:                2.874e-194\n",
       "==============================================================================\n",
       "                 coef    std err          z      P>|z|      [0.025      0.975]\n",
       "------------------------------------------------------------------------------\n",
       "FG            -0.2891      0.043     -6.691      0.000      -0.374      -0.204\n",
       "FGA            0.0976      0.013      7.726      0.000       0.073       0.122\n",
       "FG%            3.2031      0.378      8.469      0.000       2.462       3.944\n",
       "3P            -0.0228      0.056     -0.407      0.684      -0.133       0.087\n",
       "3PA            0.2487      0.028      8.845      0.000       0.194       0.304\n",
       "FT             0.2785      0.041      6.816      0.000       0.198       0.359\n",
       "FTA           -0.2270      0.032     -7.202      0.000      -0.289      -0.165\n",
       "TRB           -0.1594      0.016    -10.265      0.000      -0.190      -0.129\n",
       "AST           -0.1508      0.016     -9.668      0.000      -0.181      -0.120\n",
       "STL           -0.1834      0.032     -5.750      0.000      -0.246      -0.121\n",
       "BLK           -0.2549      0.050     -5.065      0.000      -0.353      -0.156\n",
       "PF             0.2553      0.030      8.488      0.000       0.196       0.314\n",
       "PTS           -0.0170      0.019     -0.898      0.369      -0.054       0.020\n",
       "==============================================================================\n",
       "\"\"\""
      ]
     },
     "execution_count": 28,
     "metadata": {},
     "output_type": "execute_result"
    }
   ],
   "source": [
    "X = total.loc[:, ['FG', 'FGA', 'FG%', '3P', '3PA', 'FT', 'FTA', 'TRB', 'AST', 'STL', \n",
    "                  'BLK', 'PF', 'PTS']]\n",
    "Y = total.loc[:, 'True']\n",
    "X_train, X_test, Y_train, Y_test = train_test_split(X, Y, test_size=0.2, random_state=0)\n",
    "\n",
    "logistic = sm.Logit(Y_train, X_train).fit()\n",
    "logistic.summary()"
   ]
  },
  {
   "cell_type": "markdown",
   "id": "81f0f7f3",
   "metadata": {},
   "source": [
    "### Test"
   ]
  },
  {
   "cell_type": "code",
   "execution_count": 29,
   "id": "d5c2f9e9",
   "metadata": {},
   "outputs": [
    {
     "data": {
      "image/png": "[encoded data removed]",
      "text/plain": [
       "<Figure size 360x360 with 1 Axes>"
      ]
     },
     "metadata": {
      "needs_background": "light"
     },
     "output_type": "display_data"
    },
    {
     "name": "stdout",
     "output_type": "stream",
     "text": [
      "Accuracy: 0.7520564042303173\n"
     ]
    }
   ],
   "source": [
    "prob = logistic.predict(X_test)\n",
    "pred = np.where(prob >= 0.5, 1, 0)\n",
    "\n",
    "cm = sklearn.metrics.confusion_matrix(Y_test, pred, labels=[0, 1])\n",
    "\n",
    "fig, ax = plt.subplots(figsize=(5, 5))\n",
    "ax.matshow(cm, cmap=plt.cm.Blues, alpha=0.6)\n",
    "for i in range(cm.shape[0]):\n",
    "    for j in range(cm.shape[1]):\n",
    "        ax.text(x=j, y=i, s=cm[i, j], va='center', ha='center')\n",
    "\n",
    "plt.xlabel('Predicted Value', fontsize=15)\n",
    "plt.ylabel('True Value', fontsize=15)\n",
    "plt.show()\n",
    "\n",
    "accuracy = cm.diagonal().sum()/cm.sum()\n",
    "print('Accuracy:', accuracy)"
   ]
  },
  {
   "cell_type": "markdown",
   "id": "10710c69",
   "metadata": {},
   "source": [
    "### Remove inputs of high P value: 3P, PTS"
   ]
  },
  {
   "cell_type": "code",
   "execution_count": 26,
   "id": "287cc126",
   "metadata": {},
   "outputs": [
    {
     "name": "stdout",
     "output_type": "stream",
     "text": [
      "Optimization terminated successfully.\n",
      "         Current function value: 0.518471\n",
      "         Iterations 6\n"
     ]
    },
    {
     "data": {
      "text/html": [
       "<table class=\"simpletable\">\n",
       "<caption>Logit Regression Results</caption>\n",
       "<tr>\n",
       "  <th>Dep. Variable:</th>         <td>True</td>       <th>  No. Observations:  </th>   <td>  3403</td>  \n",
       "</tr>\n",
       "<tr>\n",
       "  <th>Model:</th>                 <td>Logit</td>      <th>  Df Residuals:      </th>   <td>  3392</td>  \n",
       "</tr>\n",
       "<tr>\n",
       "  <th>Method:</th>                 <td>MLE</td>       <th>  Df Model:          </th>   <td>    10</td>  \n",
       "</tr>\n",
       "<tr>\n",
       "  <th>Date:</th>            <td>Fri, 29 Oct 2021</td> <th>  Pseudo R-squ.:     </th>   <td>0.2107</td>  \n",
       "</tr>\n",
       "<tr>\n",
       "  <th>Time:</th>                <td>14:30:50</td>     <th>  Log-Likelihood:    </th>  <td> -1764.4</td> \n",
       "</tr>\n",
       "<tr>\n",
       "  <th>converged:</th>             <td>True</td>       <th>  LL-Null:           </th>  <td> -2235.3</td> \n",
       "</tr>\n",
       "<tr>\n",
       "  <th>Covariance Type:</th>     <td>nonrobust</td>    <th>  LLR p-value:       </th> <td>5.885e-196</td>\n",
       "</tr>\n",
       "</table>\n",
       "<table class=\"simpletable\">\n",
       "<tr>\n",
       "   <td></td>      <th>coef</th>     <th>std err</th>      <th>z</th>      <th>P>|z|</th>  <th>[0.025</th>    <th>0.975]</th>  \n",
       "</tr>\n",
       "<tr>\n",
       "  <th>FG</th>  <td>   -0.3261</td> <td>    0.027</td> <td>  -12.195</td> <td> 0.000</td> <td>   -0.379</td> <td>   -0.274</td>\n",
       "</tr>\n",
       "<tr>\n",
       "  <th>FGA</th> <td>    0.0994</td> <td>    0.012</td> <td>    8.371</td> <td> 0.000</td> <td>    0.076</td> <td>    0.123</td>\n",
       "</tr>\n",
       "<tr>\n",
       "  <th>FG%</th> <td>    3.1836</td> <td>    0.377</td> <td>    8.444</td> <td> 0.000</td> <td>    2.445</td> <td>    3.923</td>\n",
       "</tr>\n",
       "<tr>\n",
       "  <th>3PA</th> <td>    0.2320</td> <td>    0.017</td> <td>   13.339</td> <td> 0.000</td> <td>    0.198</td> <td>    0.266</td>\n",
       "</tr>\n",
       "<tr>\n",
       "  <th>FT</th>  <td>    0.2609</td> <td>    0.036</td> <td>    7.230</td> <td> 0.000</td> <td>    0.190</td> <td>    0.332</td>\n",
       "</tr>\n",
       "<tr>\n",
       "  <th>FTA</th> <td>   -0.2255</td> <td>    0.031</td> <td>   -7.169</td> <td> 0.000</td> <td>   -0.287</td> <td>   -0.164</td>\n",
       "</tr>\n",
       "<tr>\n",
       "  <th>TRB</th> <td>   -0.1591</td> <td>    0.016</td> <td>  -10.241</td> <td> 0.000</td> <td>   -0.190</td> <td>   -0.129</td>\n",
       "</tr>\n",
       "<tr>\n",
       "  <th>AST</th> <td>   -0.1501</td> <td>    0.016</td> <td>   -9.639</td> <td> 0.000</td> <td>   -0.181</td> <td>   -0.120</td>\n",
       "</tr>\n",
       "<tr>\n",
       "  <th>STL</th> <td>   -0.1839</td> <td>    0.032</td> <td>   -5.768</td> <td> 0.000</td> <td>   -0.246</td> <td>   -0.121</td>\n",
       "</tr>\n",
       "<tr>\n",
       "  <th>BLK</th> <td>   -0.2556</td> <td>    0.050</td> <td>   -5.082</td> <td> 0.000</td> <td>   -0.354</td> <td>   -0.157</td>\n",
       "</tr>\n",
       "<tr>\n",
       "  <th>PF</th>  <td>    0.2563</td> <td>    0.030</td> <td>    8.532</td> <td> 0.000</td> <td>    0.197</td> <td>    0.315</td>\n",
       "</tr>\n",
       "</table>"
      ],
      "text/plain": [
       "<class 'statsmodels.iolib.summary.Summary'>\n",
       "\"\"\"\n",
       "                           Logit Regression Results                           \n",
       "==============================================================================\n",
       "Dep. Variable:                   True   No. Observations:                 3403\n",
       "Model:                          Logit   Df Residuals:                     3392\n",
       "Method:                           MLE   Df Model:                           10\n",
       "Date:                Fri, 29 Oct 2021   Pseudo R-squ.:                  0.2107\n",
       "Time:                        14:30:50   Log-Likelihood:                -1764.4\n",
       "converged:                       True   LL-Null:                       -2235.3\n",
       "Covariance Type:            nonrobust   LLR p-value:                5.885e-196\n",
       "==============================================================================\n",
       "                 coef    std err          z      P>|z|      [0.025      0.975]\n",
       "------------------------------------------------------------------------------\n",
       "FG            -0.3261      0.027    -12.195      0.000      -0.379      -0.274\n",
       "FGA            0.0994      0.012      8.371      0.000       0.076       0.123\n",
       "FG%            3.1836      0.377      8.444      0.000       2.445       3.923\n",
       "3PA            0.2320      0.017     13.339      0.000       0.198       0.266\n",
       "FT             0.2609      0.036      7.230      0.000       0.190       0.332\n",
       "FTA           -0.2255      0.031     -7.169      0.000      -0.287      -0.164\n",
       "TRB           -0.1591      0.016    -10.241      0.000      -0.190      -0.129\n",
       "AST           -0.1501      0.016     -9.639      0.000      -0.181      -0.120\n",
       "STL           -0.1839      0.032     -5.768      0.000      -0.246      -0.121\n",
       "BLK           -0.2556      0.050     -5.082      0.000      -0.354      -0.157\n",
       "PF             0.2563      0.030      8.532      0.000       0.197       0.315\n",
       "==============================================================================\n",
       "\"\"\""
      ]
     },
     "execution_count": 26,
     "metadata": {},
     "output_type": "execute_result"
    }
   ],
   "source": [
    "X = total.loc[:, ['FG', 'FGA', 'FG%', '3PA', 'FT', 'FTA', 'TRB', 'AST', 'STL', \n",
    "                  'BLK', 'PF']]\n",
    "Y = total.loc[:, 'True']\n",
    "X_train, X_test, Y_train, Y_test = train_test_split(X, Y, test_size=0.2, random_state=0)\n",
    "\n",
    "logistic = sm.Logit(Y_train, X_train).fit()\n",
    "logistic.summary()"
   ]
  },
  {
   "cell_type": "code",
   "execution_count": 27,
   "id": "d897da7c",
   "metadata": {},
   "outputs": [
    {
     "data": {
      "image/png": "[encoded data removed]",
      "text/plain": [
       "<Figure size 360x360 with 1 Axes>"
      ]
     },
     "metadata": {
      "needs_background": "light"
     },
     "output_type": "display_data"
    },
    {
     "name": "stdout",
     "output_type": "stream",
     "text": [
      "Accuracy: 0.7555816686251469\n"
     ]
    }
   ],
   "source": [
    "prob = logistic.predict(X_test)\n",
    "pred = np.where(prob >= 0.5, 1, 0)\n",
    "\n",
    "cm = sklearn.metrics.confusion_matrix(Y_test, pred, labels=[0, 1])\n",
    "\n",
    "fig, ax = plt.subplots(figsize=(5, 5))\n",
    "ax.matshow(cm, cmap=plt.cm.Blues, alpha=0.6)\n",
    "for i in range(cm.shape[0]):\n",
    "    for j in range(cm.shape[1]):\n",
    "        ax.text(x=j, y=i, s=cm[i, j], va='center', ha='center')\n",
    "\n",
    "plt.xlabel('Predicted Value', fontsize=15)\n",
    "plt.ylabel('True Value', fontsize=15)\n",
    "plt.show()\n",
    "\n",
    "accuracy = cm.diagonal().sum()/cm.sum()\n",
    "print('Accuracy:', accuracy)"
   ]
  },
  {
   "cell_type": "code",
   "execution_count": null,
   "id": "8f28a04e",
   "metadata": {},
   "outputs": [],
   "source": []
  }
 ],
 "metadata": {
  "kernelspec": {
   "display_name": "Python 3 (ipykernel)",
   "language": "python",
   "name": "python3"
  },
  "language_info": {
   "codemirror_mode": {
    "name": "ipython",
    "version": 3
   },
   "file_extension": ".py",
   "mimetype": "text/x-python",
   "name": "python",
   "nbconvert_exporter": "python",
   "pygments_lexer": "ipython3",
   "version": "3.9.7"
  }
 },
 "nbformat": 4,
 "nbformat_minor": 5
}
