{
 "cells": [
  {
   "cell_type": "markdown",
   "id": "ff67a99b",
   "metadata": {},
   "source": [
    "# NBA All-Start Prediction"
   ]
  },
  {
   "cell_type": "code",
   "execution_count": 32,
   "id": "8a7c5029",
   "metadata": {},
   "outputs": [],
   "source": [
    "import pandas as pd\n",
    "import numpy as np\n",
    "from sklearn import preprocessing\n",
    "import matplotlib.pyplot as plt\n",
    "from sklearn.linear_model import LogisticRegression\n",
    "from sklearn.model_selection import train_test_split\n",
    "from sklearn import metrics\n",
    "import seaborn as sns"
   ]
  },
  {
   "cell_type": "markdown",
   "id": "e5afb66c",
   "metadata": {},
   "source": [
    "## Loading data\n",
    "### 24 all-star players and 24 normal players are randomly selected as training and testing data\n",
    "### Dataset includes their PER, Win%, and all-star status (1:all-star, 0: normal)\n",
    "### PER: Player efficiency rating (PER) is a rating of a player's per-minute productivity\n",
    "### Win%: The winning percentage of the player's team at that season"
   ]
  },
  {
   "cell_type": "code",
   "execution_count": 33,
   "id": "a3da130e",
   "metadata": {},
   "outputs": [
    {
     "name": "stdout",
     "output_type": "stream",
     "text": [
      "start list= 24\n",
      "normal list= 24\n"
     ]
    }
   ],
   "source": [
    "# data set for 2019-2020 all-star players\n",
    "# [PER, Win%, all-star status]\n",
    "\n",
    "star = []\n",
    "star =  [[ 20.0 , 0.667 , 1 ], [ 23.9 , 0.299 , 1]]\n",
    "star.append([ 31.9 , 0.767 , 1])\n",
    "star.append([ 17.9 , 0.736 , 1 ])\n",
    "star.append([ 25.8 , 0.589 , 1 ])\n",
    "star.append([ 17.1 , 0.736 , 1 ])\n",
    "star.append([ 20.4 , 0.589 , 1 ])\n",
    "star.append([ 23.6 , 0.603 , 1])\n",
    "star.append([ 21.1 , 0.767 , 1 ])\n",
    "star.append([ 20.3 , 0.603 , 1 ])\n",
    "star.append([ 20.4 , 0.667 , 1 ])\n",
    "star.append([ 20.7 , 0.616 , 1 ])\n",
    "star.append([ 29.1 , 0.611 , 1 ])\n",
    "star.append([ 27.6 , 0.573 , 1 ])\n",
    "star.append([ 25.5 , 0.732 , 1])\n",
    "star.append([ 25.5 , 0.732 , 1])\n",
    "star.append([ 26.9 , 0.681 , 1])\n",
    "star.append([ 27.4 , 0.732 , 1])\n",
    "star.append([ 21.7 , 0.611 , 1])\n",
    "star.append([ 21.0 , 0.611 , 1])\n",
    "star.append([ 26.9 , 0.473 , 1])\n",
    "star.append([ 18.8 , 0.611 , 1])\n",
    "star.append([ 18.8 , 0.417 , 1])\n",
    "star.append([ 24.9 , 0.630 , 1])\n",
    "\n",
    "# data set for 2019-2020 non all-star players\n",
    "\n",
    "normal = []\n",
    "normal =  [[ 26.5 , 0.297 , 0 ], [ 23.2 , 0.347 , 0]]\n",
    "normal.append([ 21.0 , 0.303 , 0])\n",
    "normal.append([ 19.5 , 0.611 , 0 ])\n",
    "normal.append([ 18.4 , 0.616 , 0 ])\n",
    "normal.append([ 17.9 , 0.292 , 0 ])\n",
    "normal.append([ 17.4 , 0.464 , 0 ])\n",
    "normal.append([ 16 , 0.318 , 0 ])\n",
    "normal.append([ 15.6 , 0.611 , 0 ])\n",
    "normal.append([ 14.1 , 0.611 , 0 ])\n",
    "normal.append([ 14.3 , 0.452 , 0 ])\n",
    "normal.append([ 13.3 , 0.486 , 0 ])\n",
    "normal.append([ 13.1 , 0.417 , 0 ])\n",
    "normal.append([ 12.6 , 0.611 , 0 ])\n",
    "normal.append([ 14.5 , 0.573 , 0])\n",
    "normal.append([ 14.0 , 0.452 , 0])\n",
    "normal.append([ 13.3 , 0.736 , 0])\n",
    "normal.append([ 7.2 , 0.231 , 0])\n",
    "normal.append([ 10.7 , 0.318 , 0])\n",
    "normal.append([ 15.7 , 0.589 , 0])\n",
    "normal.append([ 12.9 , 0.603 , 0])\n",
    "normal.append([ 11.9 , 0.417 , 0])\n",
    "normal.append([ 12.2 , 0.732 , 0])\n",
    "normal.append([ 16.9 , 0.667 , 0])\n",
    "\n",
    "print('start list=',len(star))\n",
    "print('normal list=',len(normal))\n"
   ]
  },
  {
   "cell_type": "code",
   "execution_count": 42,
   "id": "bfd715d5",
   "metadata": {},
   "outputs": [],
   "source": [
    "star = np.array(star)\n",
    "normal = np.array(normal)\n",
    "data = np.concatenate((star, normal))\n"
   ]
  },
  {
   "cell_type": "markdown",
   "id": "f93a9001",
   "metadata": {},
   "source": [
    "## Split data set to train and test"
   ]
  },
  {
   "cell_type": "code",
   "execution_count": 43,
   "id": "d1a8664a",
   "metadata": {},
   "outputs": [
    {
     "name": "stdout",
     "output_type": "stream",
     "text": [
      "train set= [[14.1    0.611  0.   ]\n",
      " [25.5    0.732  1.   ]\n",
      " [26.9    0.681  1.   ]\n",
      " [19.5    0.611  0.   ]\n",
      " [12.6    0.611  0.   ]\n",
      " [26.9    0.473  1.   ]\n",
      " [26.5    0.297  0.   ]\n",
      " [11.9    0.417  0.   ]\n",
      " [27.6    0.573  1.   ]\n",
      " [20.4    0.667  1.   ]\n",
      " [21.     0.611  1.   ]\n",
      " [17.9    0.292  0.   ]\n",
      " [14.5    0.573  0.   ]\n",
      " [15.7    0.589  0.   ]\n",
      " [21.     0.303  0.   ]\n",
      " [15.6    0.611  0.   ]\n",
      " [27.4    0.732  1.   ]\n",
      " [10.7    0.318  0.   ]\n",
      " [14.3    0.452  0.   ]\n",
      " [25.5    0.732  1.   ]\n",
      " [31.9    0.767  1.   ]\n",
      " [ 7.2    0.231  0.   ]\n",
      " [13.3    0.486  0.   ]\n",
      " [18.8    0.611  1.   ]\n",
      " [20.     0.667  1.   ]\n",
      " [17.9    0.736  1.   ]\n",
      " [13.1    0.417  0.   ]\n",
      " [17.4    0.464  0.   ]\n",
      " [14.     0.452  0.   ]\n",
      " [20.3    0.603  1.   ]\n",
      " [21.1    0.767  1.   ]\n",
      " [24.9    0.63   1.   ]\n",
      " [13.3    0.736  0.   ]\n",
      " [23.9    0.299  1.   ]\n",
      " [17.1    0.736  1.   ]\n",
      " [12.2    0.732  0.   ]]\n",
      "test set= [[20.4    0.589  1.   ]\n",
      " [16.9    0.667  0.   ]\n",
      " [20.7    0.616  1.   ]\n",
      " [25.8    0.589  1.   ]\n",
      " [29.1    0.611  1.   ]\n",
      " [16.     0.318  0.   ]\n",
      " [23.6    0.603  1.   ]\n",
      " [23.2    0.347  0.   ]\n",
      " [12.9    0.603  0.   ]\n",
      " [21.7    0.611  1.   ]\n",
      " [18.8    0.417  1.   ]\n",
      " [18.4    0.616  0.   ]]\n"
     ]
    }
   ],
   "source": [
    "train, test = train_test_split(data, test_size=0.25, random_state = 4, shuffle=True)\n",
    "print('train set=', train)\n",
    "print('test set=', test)"
   ]
  },
  {
   "cell_type": "code",
   "execution_count": 44,
   "id": "286976e7",
   "metadata": {},
   "outputs": [
    {
     "name": "stdout",
     "output_type": "stream",
     "text": [
      "x(per)= [[14.1]\n",
      " [25.5]\n",
      " [26.9]\n",
      " [19.5]\n",
      " [12.6]\n",
      " [26.9]\n",
      " [26.5]\n",
      " [11.9]\n",
      " [27.6]\n",
      " [20.4]\n",
      " [21. ]\n",
      " [17.9]\n",
      " [14.5]\n",
      " [15.7]\n",
      " [21. ]\n",
      " [15.6]\n",
      " [27.4]\n",
      " [10.7]\n",
      " [14.3]\n",
      " [25.5]\n",
      " [31.9]\n",
      " [ 7.2]\n",
      " [13.3]\n",
      " [18.8]\n",
      " [20. ]\n",
      " [17.9]\n",
      " [13.1]\n",
      " [17.4]\n",
      " [14. ]\n",
      " [20.3]\n",
      " [21.1]\n",
      " [24.9]\n",
      " [13.3]\n",
      " [23.9]\n",
      " [17.1]\n",
      " [12.2]]\n",
      "x(win%)= [[0.611]\n",
      " [0.732]\n",
      " [0.681]\n",
      " [0.611]\n",
      " [0.611]\n",
      " [0.473]\n",
      " [0.297]\n",
      " [0.417]\n",
      " [0.573]\n",
      " [0.667]\n",
      " [0.611]\n",
      " [0.292]\n",
      " [0.573]\n",
      " [0.589]\n",
      " [0.303]\n",
      " [0.611]\n",
      " [0.732]\n",
      " [0.318]\n",
      " [0.452]\n",
      " [0.732]\n",
      " [0.767]\n",
      " [0.231]\n",
      " [0.486]\n",
      " [0.611]\n",
      " [0.667]\n",
      " [0.736]\n",
      " [0.417]\n",
      " [0.464]\n",
      " [0.452]\n",
      " [0.603]\n",
      " [0.767]\n",
      " [0.63 ]\n",
      " [0.736]\n",
      " [0.299]\n",
      " [0.736]\n",
      " [0.732]]\n",
      "y= [0. 1. 1. 0. 0. 1. 0. 0. 1. 1. 1. 0. 0. 0. 0. 0. 1. 0. 0. 1. 1. 0. 0. 1.\n",
      " 1. 1. 0. 0. 0. 1. 1. 1. 0. 1. 1. 0.]\n"
     ]
    }
   ],
   "source": [
    "#x_train\n",
    "x_p = train[:,0].reshape(-1, 1) \n",
    "x_w = train[:,1].reshape(-1, 1) \n",
    "#y_train\n",
    "y = train[:,2]               \n",
    "print('x(per)=',x_p)\n",
    "print('x(win%)=',x_w)\n",
    "print('y=',y)"
   ]
  },
  {
   "cell_type": "markdown",
   "id": "b03d7f8b",
   "metadata": {},
   "source": [
    "# Logistic regression (PER vs all-star) "
   ]
  },
  {
   "cell_type": "code",
   "execution_count": 45,
   "id": "a13a1e62",
   "metadata": {},
   "outputs": [
    {
     "data": {
      "text/plain": [
       "LogisticRegression(solver='liblinear')"
      ]
     },
     "execution_count": 45,
     "metadata": {},
     "output_type": "execute_result"
    }
   ],
   "source": [
    "model = LogisticRegression(solver='liblinear')\n",
    "model.fit(x_p, y)\n"
   ]
  },
  {
   "cell_type": "code",
   "execution_count": 46,
   "id": "298ac024",
   "metadata": {},
   "outputs": [
    {
     "data": {
      "text/plain": [
       "array([0., 1., 1., 1., 0., 1., 1., 0., 1., 1., 1., 1., 0., 0., 1., 0., 1.,\n",
       "       0., 0., 1., 1., 0., 0., 1., 1., 1., 0., 0., 0., 1., 1., 1., 0., 1.,\n",
       "       0., 0.])"
      ]
     },
     "execution_count": 46,
     "metadata": {},
     "output_type": "execute_result"
    }
   ],
   "source": [
    "predictions = model.predict(x_p)\n",
    "predictions"
   ]
  },
  {
   "cell_type": "code",
   "execution_count": 47,
   "id": "e5a06bce",
   "metadata": {},
   "outputs": [
    {
     "name": "stdout",
     "output_type": "stream",
     "text": [
      "true value= [1. 0. 1. 1. 1. 0. 1. 0. 0. 1. 1. 0.]\n",
      "prediction value= [1. 0. 1. 1. 1. 0. 1. 1. 0. 1. 1. 1.]\n"
     ]
    }
   ],
   "source": [
    "# x_test\n",
    "xt = test[:, 0]\n",
    "xt = xt.reshape(-1,1)\n",
    "xt\n",
    "# y_test\n",
    "yt = test[:, 2]\n",
    "\n",
    "tp = model.predict(xt)\n",
    "print('true value=', yt)\n",
    "print('prediction value=',tp)\n"
   ]
  },
  {
   "cell_type": "markdown",
   "id": "58a85ab9",
   "metadata": {},
   "source": [
    "## model assessment"
   ]
  },
  {
   "cell_type": "code",
   "execution_count": 48,
   "id": "6a916701",
   "metadata": {},
   "outputs": [
    {
     "data": {
      "text/plain": [
       "0.8611111111111112"
      ]
     },
     "execution_count": 48,
     "metadata": {},
     "output_type": "execute_result"
    }
   ],
   "source": [
    "# train set score\n",
    "\n",
    "model.score(x_p, y) "
   ]
  },
  {
   "cell_type": "code",
   "execution_count": 10,
   "id": "ec1129b8",
   "metadata": {},
   "outputs": [
    {
     "data": {
      "text/plain": [
       "0.8333333333333334"
      ]
     },
     "execution_count": 10,
     "metadata": {},
     "output_type": "execute_result"
    }
   ],
   "source": [
    "# test set score\n",
    "model.score(xt, yt)"
   ]
  },
  {
   "cell_type": "code",
   "execution_count": 11,
   "id": "fd2d8f64",
   "metadata": {},
   "outputs": [
    {
     "data": {
      "text/plain": [
       "array([[0.12224071]])"
      ]
     },
     "execution_count": 11,
     "metadata": {},
     "output_type": "execute_result"
    }
   ],
   "source": [
    "\n",
    "model.coef_"
   ]
  },
  {
   "cell_type": "code",
   "execution_count": 12,
   "id": "79239b53",
   "metadata": {},
   "outputs": [
    {
     "data": {
      "text/plain": [
       "array([-2.16407498])"
      ]
     },
     "execution_count": 12,
     "metadata": {},
     "output_type": "execute_result"
    }
   ],
   "source": [
    "model.intercept_"
   ]
  },
  {
   "cell_type": "code",
   "execution_count": 13,
   "id": "6c1b4e88",
   "metadata": {},
   "outputs": [],
   "source": [
    "def log_reg_model_cpredict(x):\n",
    "    return 1 / (1 + np.exp(-(model.intercept_ + model.coef_ * x)))\n"
   ]
  },
  {
   "cell_type": "code",
   "execution_count": 14,
   "id": "41050e4e",
   "metadata": {},
   "outputs": [
    {
     "data": {
      "text/plain": [
       "array([[0.60837364, 0.39162636],\n",
       "       [0.27826923, 0.72173077],\n",
       "       [0.24523305, 0.75476695],\n",
       "       [0.44531492, 0.55468508],\n",
       "       [0.65109186, 0.34890814],\n",
       "       [0.24523305, 0.75476695],\n",
       "       [0.25439576, 0.74560424],\n",
       "       [0.6702709 , 0.3297291 ],\n",
       "       [0.22974201, 0.77025799],\n",
       "       [0.41832933, 0.58167067],\n",
       "       [0.4005966 , 0.5994034 ],\n",
       "       [0.49399187, 0.50600813],\n",
       "       [0.59666413, 0.40333587],\n",
       "       [0.56091981, 0.43908019],\n",
       "       [0.4005966 , 0.5994034 ],\n",
       "       [0.56392818, 0.43607182],\n",
       "       [0.23409692, 0.76590308],\n",
       "       [0.70184507, 0.29815493],\n",
       "       [0.60253356, 0.39746644],\n",
       "       [0.27826923, 0.72173077],\n",
       "       [0.14989771, 0.85010229],\n",
       "       [0.78312003, 0.21687997],\n",
       "       [0.63141072, 0.36858928],\n",
       "       [0.46653751, 0.53346249],\n",
       "       [0.43027257, 0.56972743],\n",
       "       [0.49399187, 0.50600813],\n",
       "       [0.63708206, 0.36291794],\n",
       "       [0.50927061, 0.49072939],\n",
       "       [0.6112822 , 0.3887178 ],\n",
       "       [0.42130674, 0.57869326],\n",
       "       [0.39766497, 0.60233503],\n",
       "       [0.29323609, 0.70676391],\n",
       "       [0.63141072, 0.36858928],\n",
       "       [0.31919409, 0.68080591],\n",
       "       [0.51843137, 0.48156863],\n",
       "       [0.66211605, 0.33788395]])"
      ]
     },
     "execution_count": 14,
     "metadata": {},
     "output_type": "execute_result"
    }
   ],
   "source": [
    "L=model.predict_proba(x_p)\n",
    "L"
   ]
  },
  {
   "cell_type": "code",
   "execution_count": 15,
   "id": "2f3aed4d",
   "metadata": {
    "scrolled": true
   },
   "outputs": [
    {
     "data": {
      "image/png": "[encoded data removed]",
      "text/plain": [
       "<Figure size 432x288 with 1 Axes>"
      ]
     },
     "metadata": {
      "needs_background": "light"
     },
     "output_type": "display_data"
    }
   ],
   "source": [
    "plt.figure()\n",
    "plt.scatter(x=x_p, y=log_reg_model_cpredict(x_p), c='blueviolet', alpha=0.5, label = 'Prediction')\n",
    "plt.scatter(x=x_p, y=y, c='red', alpha=0.5, label = 'True value')\n",
    "plt.title(\"Predictions on Training Data\", y=1.015, fontsize=20)\n",
    "plt.legend()\n",
    "plt.xlabel(\"PER\", labelpad=14)\n",
    "plt.ylabel(\"probability of a prediction being all-star\", labelpad=14);"
   ]
  },
  {
   "cell_type": "markdown",
   "id": "2d4ee483",
   "metadata": {},
   "source": [
    "# Logistic regression (Win% vs all-start)"
   ]
  },
  {
   "cell_type": "code",
   "execution_count": 16,
   "id": "6a37f45f",
   "metadata": {},
   "outputs": [
    {
     "data": {
      "text/plain": [
       "LogisticRegression(solver='liblinear')"
      ]
     },
     "execution_count": 16,
     "metadata": {},
     "output_type": "execute_result"
    }
   ],
   "source": [
    "model = LogisticRegression(solver='liblinear')\n",
    "model.fit(x_w, y)"
   ]
  },
  {
   "cell_type": "code",
   "execution_count": 17,
   "id": "4496058e",
   "metadata": {},
   "outputs": [
    {
     "data": {
      "text/plain": [
       "array([0., 1., 1., 0., 0., 0., 0., 0., 0., 1., 0., 0., 0., 0., 0., 0., 1.,\n",
       "       0., 0., 1., 1., 0., 0., 0., 1., 1., 0., 0., 0., 0., 1., 1., 1., 0.,\n",
       "       1., 1.])"
      ]
     },
     "execution_count": 17,
     "metadata": {},
     "output_type": "execute_result"
    }
   ],
   "source": [
    "predictions = model.predict(x_w)\n",
    "predictions"
   ]
  },
  {
   "cell_type": "code",
   "execution_count": 18,
   "id": "6f8b040f",
   "metadata": {},
   "outputs": [
    {
     "name": "stdout",
     "output_type": "stream",
     "text": [
      "true value= [1. 0. 1. 1. 1. 0. 1. 0. 0. 1. 1. 0.]\n",
      "prediction value= [1. 1. 1. 1. 1. 1. 1. 1. 1. 1. 1. 1.]\n"
     ]
    }
   ],
   "source": [
    "# x_test\n",
    "xt = test[:, 0]\n",
    "xt = xt.reshape(-1,1)\n",
    "xt\n",
    "# y_test\n",
    "yt = test[:, 2]\n",
    "\n",
    "tp = model.predict(xt)\n",
    "print('true value=', yt)\n",
    "print('prediction value=',tp)"
   ]
  },
  {
   "cell_type": "markdown",
   "id": "11fcb4a4",
   "metadata": {},
   "source": [
    "## model assessment"
   ]
  },
  {
   "cell_type": "code",
   "execution_count": 19,
   "id": "93be9b55",
   "metadata": {},
   "outputs": [
    {
     "data": {
      "text/plain": [
       "0.7777777777777778"
      ]
     },
     "execution_count": 19,
     "metadata": {},
     "output_type": "execute_result"
    }
   ],
   "source": [
    "# train set score\n",
    "\n",
    "model.score(x_w, y) "
   ]
  },
  {
   "cell_type": "code",
   "execution_count": 20,
   "id": "9400e12f",
   "metadata": {},
   "outputs": [
    {
     "data": {
      "text/plain": [
       "0.5833333333333334"
      ]
     },
     "execution_count": 20,
     "metadata": {},
     "output_type": "execute_result"
    }
   ],
   "source": [
    "# test set score\n",
    "model.score(xt, yt)"
   ]
  },
  {
   "cell_type": "code",
   "execution_count": 21,
   "id": "0fd2b9b7",
   "metadata": {},
   "outputs": [
    {
     "data": {
      "text/plain": [
       "array([[0.93881382]])"
      ]
     },
     "execution_count": 21,
     "metadata": {},
     "output_type": "execute_result"
    }
   ],
   "source": [
    "model.coef_"
   ]
  },
  {
   "cell_type": "code",
   "execution_count": 22,
   "id": "c592370f",
   "metadata": {},
   "outputs": [
    {
     "data": {
      "text/plain": [
       "array([-0.57494002])"
      ]
     },
     "execution_count": 22,
     "metadata": {},
     "output_type": "execute_result"
    }
   ],
   "source": [
    "model.intercept_"
   ]
  },
  {
   "cell_type": "code",
   "execution_count": 23,
   "id": "a7b817b8",
   "metadata": {},
   "outputs": [],
   "source": [
    "def log_reg_model_cpredict(x):\n",
    "    return 1 / (1 + np.exp(-(model.intercept_ + model.coef_ * x)))"
   ]
  },
  {
   "cell_type": "code",
   "execution_count": 24,
   "id": "9ed3f94c",
   "metadata": {},
   "outputs": [
    {
     "data": {
      "text/plain": [
       "array([[0.50033119, 0.49966881],\n",
       "       [0.47196152, 0.52803848],\n",
       "       [0.48390751, 0.51609249],\n",
       "       [0.50033119, 0.49966881],\n",
       "       [0.50033119, 0.49966881],\n",
       "       [0.53267364, 0.46732636],\n",
       "       [0.57349187, 0.42650813],\n",
       "       [0.54573546, 0.45426454],\n",
       "       [0.50924887, 0.49075113],\n",
       "       [0.4871906 , 0.5128094 ],\n",
       "       [0.50033119, 0.49966881],\n",
       "       [0.57463963, 0.42536037],\n",
       "       [0.50924887, 0.49075113],\n",
       "       [0.50549445, 0.49450555],\n",
       "       [0.5721135 , 0.4278865 ],\n",
       "       [0.50033119, 0.49966881],\n",
       "       [0.47196152, 0.52803848],\n",
       "       [0.56866273, 0.43133727],\n",
       "       [0.53757805, 0.46242195],\n",
       "       [0.47196152, 0.52803848],\n",
       "       [0.46378101, 0.53621899],\n",
       "       [0.58857413, 0.41142587],\n",
       "       [0.52963435, 0.47036565],\n",
       "       [0.50033119, 0.49966881],\n",
       "       [0.4871906 , 0.5128094 ],\n",
       "       [0.47102576, 0.52897424],\n",
       "       [0.54573546, 0.45426454],\n",
       "       [0.53477636, 0.46522364],\n",
       "       [0.53757805, 0.46242195],\n",
       "       [0.50220881, 0.49779119],\n",
       "       [0.46378101, 0.53621899],\n",
       "       [0.49587192, 0.50412808],\n",
       "       [0.47102576, 0.52897424],\n",
       "       [0.57303254, 0.42696746],\n",
       "       [0.47102576, 0.52897424],\n",
       "       [0.47196152, 0.52803848]])"
      ]
     },
     "execution_count": 24,
     "metadata": {},
     "output_type": "execute_result"
    }
   ],
   "source": [
    "L=model.predict_proba(x_w)\n",
    "L"
   ]
  },
  {
   "cell_type": "code",
   "execution_count": 49,
   "id": "cdf5991c",
   "metadata": {},
   "outputs": [
    {
     "data": {
      "image/png": "[encoded data removed]",
      "text/plain": [
       "<Figure size 432x288 with 1 Axes>"
      ]
     },
     "metadata": {
      "needs_background": "light"
     },
     "output_type": "display_data"
    }
   ],
   "source": [
    "plt.figure()\n",
    "plt.scatter(x=x_w, y=log_reg_model_cpredict(x_w), c='blueviolet', alpha=0.5, label = 'Prediction')\n",
    "plt.scatter(x=x_w, y=y, c='red', alpha=0.5, label = 'True value')\n",
    "plt.title(\"Predictions on Training Data\", y=1.015, fontsize=20)\n",
    "plt.legend()\n",
    "plt.xlabel(\"win%\", labelpad=14)\n",
    "plt.ylabel(\"probability of a prediction being all-star\", labelpad=14);"
   ]
  },
  {
   "cell_type": "markdown",
   "id": "229e06e6",
   "metadata": {},
   "source": [
    "# logistic regression (PER, Win% vs. All-star)"
   ]
  },
  {
   "cell_type": "code",
   "execution_count": 26,
   "id": "70b9f51e",
   "metadata": {},
   "outputs": [
    {
     "name": "stdout",
     "output_type": "stream",
     "text": [
      "true value= 47    0.0\n",
      "39    0.0\n",
      "37    0.0\n",
      "23    1.0\n",
      "7     1.0\n",
      "0     1.0\n",
      "6     1.0\n",
      "32    0.0\n",
      "14    1.0\n",
      "30    0.0\n",
      "46    0.0\n",
      "24    0.0\n",
      "Name: All-star, dtype: float64\n",
      "prediction value= [1. 0. 0. 1. 1. 1. 1. 0. 1. 1. 0. 1.]\n"
     ]
    }
   ],
   "source": [
    "candidates = {'PER': data[:,0],\n",
    "              'Win%': data[:,1],\n",
    "              'All-star': data[:,2],\n",
    "\n",
    "              }\n",
    "\n",
    "df = pd.DataFrame(candidates,columns= ['PER', 'Win%','All-star'])\n",
    "\n",
    "\n",
    "\n",
    "X = df[['PER', 'Win%']]\n",
    "Y = df['All-star']\n",
    "\n",
    "X_train,X_test,Y_train, Y_test = train_test_split(X,Y,test_size=0.25, random_state=6,  shuffle=True)\n",
    "\n",
    "\n",
    "logistic_regression= LogisticRegression(solver='liblinear', random_state=0)\n",
    "logistic_regression.fit(X_train,Y_train)\n",
    "Y_pred=logistic_regression.predict(X_test)\n",
    "Y_Train_pred=logistic_regression.predict(X_train)\n",
    "\n",
    "print('true value=', Y_test)\n",
    "print('prediction value=',Y_pred)\n"
   ]
  },
  {
   "cell_type": "markdown",
   "id": "24343cc7",
   "metadata": {},
   "source": [
    "## model assessment"
   ]
  },
  {
   "cell_type": "code",
   "execution_count": 27,
   "id": "59b96b07",
   "metadata": {},
   "outputs": [
    {
     "name": "stdout",
     "output_type": "stream",
     "text": [
      "Accuracy:  0.8611111111111112\n"
     ]
    },
    {
     "data": {
      "image/png": "[encoded data removed]",
      "text/plain": [
       "<Figure size 432x288 with 2 Axes>"
      ]
     },
     "metadata": {
      "needs_background": "light"
     },
     "output_type": "display_data"
    }
   ],
   "source": [
    "# train set\n",
    "\n",
    "confusion_matrix = pd.crosstab(Y_train, Y_Train_pred, rownames=['Actual'], colnames=['Predicted'])\n",
    "sns.heatmap(confusion_matrix, annot=True)\n",
    "\n",
    "print('Accuracy: ', metrics.accuracy_score(Y_train, Y_Train_pred))\n",
    "plt.show()"
   ]
  },
  {
   "cell_type": "code",
   "execution_count": 28,
   "id": "6a4a79ac",
   "metadata": {
    "scrolled": true
   },
   "outputs": [
    {
     "name": "stdout",
     "output_type": "stream",
     "text": [
      "Accuracy:  0.75\n"
     ]
    },
    {
     "data": {
      "image/png": "[encoded data removed]",
      "text/plain": [
       "<Figure size 432x288 with 2 Axes>"
      ]
     },
     "metadata": {
      "needs_background": "light"
     },
     "output_type": "display_data"
    }
   ],
   "source": [
    "# test set\n",
    "confusion_matrix = pd.crosstab(Y_test, Y_pred, rownames=['Actual'], colnames=['Predicted'])\n",
    "sns.heatmap(confusion_matrix, annot=True)\n",
    "\n",
    "print('Accuracy: ', metrics.accuracy_score(Y_test, Y_pred))\n",
    "plt.show()"
   ]
  },
  {
   "cell_type": "code",
   "execution_count": 29,
   "id": "543503e7",
   "metadata": {},
   "outputs": [
    {
     "data": {
      "text/plain": [
       "array([[ 0.12862405, -0.06033526]])"
      ]
     },
     "execution_count": 29,
     "metadata": {},
     "output_type": "execute_result"
    }
   ],
   "source": [
    "logistic_regression.coef_\n"
   ]
  },
  {
   "cell_type": "code",
   "execution_count": 30,
   "id": "e824e320",
   "metadata": {},
   "outputs": [
    {
     "data": {
      "text/plain": [
       "array([-2.0754746])"
      ]
     },
     "execution_count": 30,
     "metadata": {},
     "output_type": "execute_result"
    }
   ],
   "source": [
    "logistic_regression.intercept_"
   ]
  },
  {
   "cell_type": "code",
   "execution_count": 31,
   "id": "b2abdc0d",
   "metadata": {},
   "outputs": [
    {
     "name": "stderr",
     "output_type": "stream",
     "text": [
      "C:\\Users\\vince\\anaconda3\\envs\\Python3-7_Keras_env\\lib\\site-packages\\sklearn\\base.py:451: UserWarning: X does not have valid feature names, but LogisticRegression was fitted with feature names\n",
      "  \"X does not have valid feature names, but\"\n",
      "C:\\Users\\vince\\anaconda3\\envs\\Python3-7_Keras_env\\lib\\site-packages\\sklearn\\base.py:451: UserWarning: X does not have valid feature names, but LogisticRegression was fitted with feature names\n",
      "  \"X does not have valid feature names, but\"\n"
     ]
    },
    {
     "data": {
      "image/png": "[encoded data removed]",
      "text/plain": [
       "<Figure size 864x864 with 2 Axes>"
      ]
     },
     "metadata": {
      "needs_background": "light"
     },
     "output_type": "display_data"
    }
   ],
   "source": [
    "x_min, x_max = X_train['PER'].min() - 1, X_train['PER'].max() + 1\n",
    "y_min, y_max = 0,  1.01\n",
    "\n",
    "\n",
    "xx_train, yy_train = np.meshgrid(np.arange(x_min, x_max, 0.01),\n",
    "                                 np.arange(y_min, y_max, 0.01))\n",
    "\n",
    "Z_train = logistic_regression.predict(np.c_[xx_train.ravel(), yy_train.ravel()])\n",
    "Z_train = Z_train.reshape(xx_train.shape)\n",
    "\n",
    "\n",
    "x_min, x_max = X_test['PER'].min() - 1, X_test['PER'].max() + 1\n",
    "y_min, y_max = 0,  1.01\n",
    "\n",
    "xx_test, yy_test = np.meshgrid(np.arange(x_min, x_max, 0.01),\n",
    "                               np.arange(y_min, y_max, 0.01))\n",
    "\n",
    "Z_test =  logistic_regression.predict(np.c_[xx_test.ravel(), yy_test.ravel()])\n",
    "Z_test = Z_test.reshape(xx_test.shape)\n",
    "\n",
    "\n",
    "\n",
    "plt.figure(figsize = (12, 12))\n",
    "plt.subplot(2, 1, 1)\n",
    "plt.contourf(xx_train, yy_train, Z_train, cmap=plt.cm.coolwarm, alpha = 0.5)\n",
    "plt.scatter(X_train['PER'], X_train['Win%'], c = Y_train, cmap=plt.cm.coolwarm, s = 500, edgecolor = 'w' )\n",
    "plt.xlabel('PER_Training')\n",
    "plt.ylabel('win%_Training ')\n",
    "plt.title('Scatter Plot with Decision Boundary for the Training Set')\n",
    "plt.subplot(2, 1, 2)\n",
    "plt.contourf(xx_test, yy_test, Z_test, cmap=plt.cm.coolwarm, alpha = 0.5)\n",
    "plt.scatter(X_test['PER'], X_test['Win%'], c = Y_test, cmap=plt.cm.coolwarm, s = 500, edgecolor = 'w')\n",
    "plt.xlabel('PER_Test ')\n",
    "plt.ylabel('win%_Test')\n",
    "plt.title('Scatter Plot with Decision Boundary for the Test Set')\n",
    "\n",
    "plt.show()\n"
   ]
  }
 ],
 "metadata": {
  "kernelspec": {
   "display_name": "Python 3 (ipykernel)",
   "language": "python",
   "name": "python3"
  },
  "language_info": {
   "codemirror_mode": {
    "name": "ipython",
    "version": 3
   },
   "file_extension": ".py",
   "mimetype": "text/x-python",
   "name": "python",
   "nbconvert_exporter": "python",
   "pygments_lexer": "ipython3",
   "version": "3.7.11"
  }
 },
 "nbformat": 4,
 "nbformat_minor": 5
}
