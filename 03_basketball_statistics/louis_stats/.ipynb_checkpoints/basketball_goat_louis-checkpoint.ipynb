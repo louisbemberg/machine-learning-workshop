{
 "cells": [
  {
   "cell_type": "markdown",
   "id": "4282ab43",
   "metadata": {},
   "source": [
    "# Michael Jordan (Chicago Bulls)\n",
    "# Lebron James (Cleveland Cavaliers, LA Lakers, Miami Heat)\n",
    "# Kobe Bryant (LA Lakers)\n",
    "\n",
    "# Who is the GOAT? 🐐"
   ]
  },
  {
   "cell_type": "code",
   "execution_count": 1,
   "id": "7f0c35ff",
   "metadata": {},
   "outputs": [],
   "source": [
    "# Loading the packages & data\n",
    "\n",
    "import numpy as np\n",
    "import pandas as pd\n",
    "import seaborn as sns\n",
    "import matplotlib.pyplot as plt\n",
    "\n",
    "totals_stats = pd.read_csv(\"../data/totals_stats.csv\")\n",
    "allgames_stats = pd.read_csv(\"../data/allgames_stats.csv\")"
   ]
  },
  {
   "cell_type": "code",
   "execution_count": 2,
   "id": "f9400eff",
   "metadata": {},
   "outputs": [],
   "source": [
    "# let's split these 2 DF for each player: \n",
    "totals_stats_lebron = totals_stats[totals_stats['Player'] == 'Lebron James']\n",
    "totals_stats_mj = totals_stats[totals_stats['Player'] == 'Michael Jordan']\n",
    "totals_stats_kobe = totals_stats[totals_stats['Player'] == 'Kobe Bryant']\n",
    "\n",
    "allgames_stats_lebron = allgames_stats[allgames_stats['Player'] == 'Lebron James']\n",
    "allgames_stats_mj = allgames_stats[allgames_stats['Player'] == 'Michael Jordan']\n",
    "allgames_stats_kobe= allgames_stats[allgames_stats['Player'] == 'Kobe Bryant']"
   ]
  },
  {
   "cell_type": "code",
   "execution_count": 3,
   "id": "760d8294",
   "metadata": {},
   "outputs": [
    {
     "data": {
      "text/html": [
       "<div>\n",
       "<style scoped>\n",
       "    .dataframe tbody tr th:only-of-type {\n",
       "        vertical-align: middle;\n",
       "    }\n",
       "\n",
       "    .dataframe tbody tr th {\n",
       "        vertical-align: top;\n",
       "    }\n",
       "\n",
       "    .dataframe thead th {\n",
       "        text-align: right;\n",
       "    }\n",
       "</style>\n",
       "<table border=\"1\" class=\"dataframe\">\n",
       "  <thead>\n",
       "    <tr style=\"text-align: right;\">\n",
       "      <th></th>\n",
       "      <th>G</th>\n",
       "      <th>Date</th>\n",
       "      <th>Tm</th>\n",
       "      <th>X</th>\n",
       "      <th>Opp</th>\n",
       "      <th>Result</th>\n",
       "      <th>GS</th>\n",
       "      <th>MP</th>\n",
       "      <th>FG</th>\n",
       "      <th>FGA</th>\n",
       "      <th>...</th>\n",
       "      <th>TRB</th>\n",
       "      <th>AST</th>\n",
       "      <th>STL</th>\n",
       "      <th>BLK</th>\n",
       "      <th>TOV</th>\n",
       "      <th>PF</th>\n",
       "      <th>PTS</th>\n",
       "      <th>GmSc</th>\n",
       "      <th>Player</th>\n",
       "      <th>RSorPO</th>\n",
       "    </tr>\n",
       "  </thead>\n",
       "  <tbody>\n",
       "    <tr>\n",
       "      <th>1566</th>\n",
       "      <td>1</td>\n",
       "      <td>2003-10-29</td>\n",
       "      <td>CLE</td>\n",
       "      <td>@</td>\n",
       "      <td>SAC</td>\n",
       "      <td>L</td>\n",
       "      <td>1</td>\n",
       "      <td>42:00</td>\n",
       "      <td>12.0</td>\n",
       "      <td>20.0</td>\n",
       "      <td>...</td>\n",
       "      <td>6</td>\n",
       "      <td>9</td>\n",
       "      <td>4.0</td>\n",
       "      <td>0.0</td>\n",
       "      <td>2</td>\n",
       "      <td>3</td>\n",
       "      <td>25.0</td>\n",
       "      <td>24.7</td>\n",
       "      <td>Lebron James</td>\n",
       "      <td>Regular Season</td>\n",
       "    </tr>\n",
       "    <tr>\n",
       "      <th>1567</th>\n",
       "      <td>2</td>\n",
       "      <td>2003-10-30</td>\n",
       "      <td>CLE</td>\n",
       "      <td>@</td>\n",
       "      <td>PHO</td>\n",
       "      <td>L</td>\n",
       "      <td>1</td>\n",
       "      <td>41:00</td>\n",
       "      <td>8.0</td>\n",
       "      <td>17.0</td>\n",
       "      <td>...</td>\n",
       "      <td>12</td>\n",
       "      <td>8</td>\n",
       "      <td>1.0</td>\n",
       "      <td>0.0</td>\n",
       "      <td>7</td>\n",
       "      <td>1</td>\n",
       "      <td>21.0</td>\n",
       "      <td>14.7</td>\n",
       "      <td>Lebron James</td>\n",
       "      <td>Regular Season</td>\n",
       "    </tr>\n",
       "    <tr>\n",
       "      <th>1568</th>\n",
       "      <td>3</td>\n",
       "      <td>2003-11-01</td>\n",
       "      <td>CLE</td>\n",
       "      <td>@</td>\n",
       "      <td>POR</td>\n",
       "      <td>L</td>\n",
       "      <td>1</td>\n",
       "      <td>39:00</td>\n",
       "      <td>3.0</td>\n",
       "      <td>12.0</td>\n",
       "      <td>...</td>\n",
       "      <td>4</td>\n",
       "      <td>6</td>\n",
       "      <td>2.0</td>\n",
       "      <td>0.0</td>\n",
       "      <td>2</td>\n",
       "      <td>3</td>\n",
       "      <td>8.0</td>\n",
       "      <td>5.0</td>\n",
       "      <td>Lebron James</td>\n",
       "      <td>Regular Season</td>\n",
       "    </tr>\n",
       "    <tr>\n",
       "      <th>1569</th>\n",
       "      <td>4</td>\n",
       "      <td>2003-11-05</td>\n",
       "      <td>CLE</td>\n",
       "      <td>NaN</td>\n",
       "      <td>DEN</td>\n",
       "      <td>L</td>\n",
       "      <td>1</td>\n",
       "      <td>41:00</td>\n",
       "      <td>3.0</td>\n",
       "      <td>11.0</td>\n",
       "      <td>...</td>\n",
       "      <td>11</td>\n",
       "      <td>7</td>\n",
       "      <td>2.0</td>\n",
       "      <td>3.0</td>\n",
       "      <td>2</td>\n",
       "      <td>1</td>\n",
       "      <td>7.0</td>\n",
       "      <td>11.2</td>\n",
       "      <td>Lebron James</td>\n",
       "      <td>Regular Season</td>\n",
       "    </tr>\n",
       "    <tr>\n",
       "      <th>1570</th>\n",
       "      <td>5</td>\n",
       "      <td>2003-11-07</td>\n",
       "      <td>CLE</td>\n",
       "      <td>@</td>\n",
       "      <td>IND</td>\n",
       "      <td>L</td>\n",
       "      <td>1</td>\n",
       "      <td>44:00</td>\n",
       "      <td>8.0</td>\n",
       "      <td>18.0</td>\n",
       "      <td>...</td>\n",
       "      <td>5</td>\n",
       "      <td>3</td>\n",
       "      <td>0.0</td>\n",
       "      <td>0.0</td>\n",
       "      <td>7</td>\n",
       "      <td>2</td>\n",
       "      <td>23.0</td>\n",
       "      <td>9.0</td>\n",
       "      <td>Lebron James</td>\n",
       "      <td>Regular Season</td>\n",
       "    </tr>\n",
       "  </tbody>\n",
       "</table>\n",
       "<p>5 rows × 29 columns</p>\n",
       "</div>"
      ],
      "text/plain": [
       "      G        Date   Tm    X  Opp Result  GS     MP    FG   FGA  ...  TRB  \\\n",
       "1566  1  2003-10-29  CLE    @  SAC      L   1  42:00  12.0  20.0  ...    6   \n",
       "1567  2  2003-10-30  CLE    @  PHO      L   1  41:00   8.0  17.0  ...   12   \n",
       "1568  3  2003-11-01  CLE    @  POR      L   1  39:00   3.0  12.0  ...    4   \n",
       "1569  4  2003-11-05  CLE  NaN  DEN      L   1  41:00   3.0  11.0  ...   11   \n",
       "1570  5  2003-11-07  CLE    @  IND      L   1  44:00   8.0  18.0  ...    5   \n",
       "\n",
       "      AST  STL  BLK  TOV  PF   PTS  GmSc        Player          RSorPO  \n",
       "1566    9  4.0  0.0    2   3  25.0  24.7  Lebron James  Regular Season  \n",
       "1567    8  1.0  0.0    7   1  21.0  14.7  Lebron James  Regular Season  \n",
       "1568    6  2.0  0.0    2   3   8.0   5.0  Lebron James  Regular Season  \n",
       "1569    7  2.0  3.0    2   1   7.0  11.2  Lebron James  Regular Season  \n",
       "1570    3  0.0  0.0    7   2  23.0   9.0  Lebron James  Regular Season  \n",
       "\n",
       "[5 rows x 29 columns]"
      ]
     },
     "execution_count": 3,
     "metadata": {},
     "output_type": "execute_result"
    }
   ],
   "source": [
    "allgames_stats_lebron.head(5)"
   ]
  },
  {
   "cell_type": "code",
   "execution_count": 4,
   "id": "4f4f2c70",
   "metadata": {},
   "outputs": [
    {
     "name": "stdout",
     "output_type": "stream",
     "text": [
      "TOTAL POINTS\n",
      "Lebron: 39356.0\n",
      "Kobe: 39283.0\n",
      "MJ: 37862.0\n"
     ]
    }
   ],
   "source": [
    "# Let's start simple and check how many points scored in their career:\n",
    "lebron_total_points = allgames_stats_lebron['PTS'].sum()\n",
    "mj_total_points = allgames_stats_mj['PTS'].sum()\n",
    "kobe_total_points = allgames_stats_kobe['PTS'].sum()\n",
    "\n",
    "print(\"TOTAL POINTS\")\n",
    "print(\"Lebron:\", lebron_total_points)\n",
    "print(\"Kobe:\", kobe_total_points)\n",
    "print(\"MJ:\", mj_total_points)"
   ]
  },
  {
   "cell_type": "code",
   "execution_count": 5,
   "id": "caa6a0df",
   "metadata": {},
   "outputs": [
    {
     "name": "stdout",
     "output_type": "stream",
     "text": [
      "TOTAL POINTS / MINUTE PLAYED\n",
      "Lebron: 0.7071\n",
      "Kobe: 0.6908\n",
      "MJ: 0.7809\n"
     ]
    }
   ],
   "source": [
    "# Was the previous statistic fair? Let's check per minute played\n",
    "# for minutes in allgames_stats_lebron['MP']:\n",
    "    # print(minutes[0:2])\n",
    "\n",
    "lebron_total_minutes = sum([int(minutes.split(':')[0]) for minutes in allgames_stats_lebron['MP']])\n",
    "mj_total_minutes = sum([int(minutes.split(':')[0]) for minutes in allgames_stats_mj['MP']])\n",
    "kobe_total_minutes = sum([int(minutes.split(':')[0]) for minutes in allgames_stats_kobe['MP']])\n",
    "print(\"TOTAL POINTS / MINUTE PLAYED\")\n",
    "print(\"Lebron:\", (lebron_total_points / lebron_total_minutes).round(4))\n",
    "print(\"Kobe:\", (kobe_total_points / kobe_total_minutes).round(4))\n",
    "print(\"MJ:\", (mj_total_points / mj_total_minutes).round(4))"
   ]
  },
  {
   "cell_type": "code",
   "execution_count": 6,
   "id": "ee2f4d5f",
   "metadata": {
    "scrolled": true
   },
   "outputs": [
    {
     "data": {
      "text/html": [
       "<div>\n",
       "<style scoped>\n",
       "    .dataframe tbody tr th:only-of-type {\n",
       "        vertical-align: middle;\n",
       "    }\n",
       "\n",
       "    .dataframe tbody tr th {\n",
       "        vertical-align: top;\n",
       "    }\n",
       "\n",
       "    .dataframe thead th {\n",
       "        text-align: right;\n",
       "    }\n",
       "</style>\n",
       "<table border=\"1\" class=\"dataframe\">\n",
       "  <thead>\n",
       "    <tr style=\"text-align: right;\">\n",
       "      <th></th>\n",
       "      <th>Season</th>\n",
       "      <th>Age</th>\n",
       "      <th>Tm</th>\n",
       "      <th>Lg</th>\n",
       "      <th>Pos</th>\n",
       "      <th>G</th>\n",
       "      <th>GS</th>\n",
       "      <th>MP</th>\n",
       "      <th>FG</th>\n",
       "      <th>FGA</th>\n",
       "      <th>...</th>\n",
       "      <th>DRB</th>\n",
       "      <th>TRB</th>\n",
       "      <th>AST</th>\n",
       "      <th>STL</th>\n",
       "      <th>BLK</th>\n",
       "      <th>TOV</th>\n",
       "      <th>PF</th>\n",
       "      <th>PTS</th>\n",
       "      <th>Player</th>\n",
       "      <th>RSorPO</th>\n",
       "    </tr>\n",
       "  </thead>\n",
       "  <tbody>\n",
       "    <tr>\n",
       "      <th>29</th>\n",
       "      <td>1984-85</td>\n",
       "      <td>21</td>\n",
       "      <td>CHI</td>\n",
       "      <td>NBA</td>\n",
       "      <td>SG</td>\n",
       "      <td>82</td>\n",
       "      <td>82</td>\n",
       "      <td>3144</td>\n",
       "      <td>837</td>\n",
       "      <td>1625</td>\n",
       "      <td>...</td>\n",
       "      <td>367</td>\n",
       "      <td>534</td>\n",
       "      <td>481</td>\n",
       "      <td>196</td>\n",
       "      <td>69</td>\n",
       "      <td>291</td>\n",
       "      <td>285</td>\n",
       "      <td>2313</td>\n",
       "      <td>Michael Jordan</td>\n",
       "      <td>Regular Season</td>\n",
       "    </tr>\n",
       "    <tr>\n",
       "      <th>30</th>\n",
       "      <td>1985-86</td>\n",
       "      <td>22</td>\n",
       "      <td>CHI</td>\n",
       "      <td>NBA</td>\n",
       "      <td>SG</td>\n",
       "      <td>18</td>\n",
       "      <td>7</td>\n",
       "      <td>451</td>\n",
       "      <td>150</td>\n",
       "      <td>328</td>\n",
       "      <td>...</td>\n",
       "      <td>41</td>\n",
       "      <td>64</td>\n",
       "      <td>53</td>\n",
       "      <td>37</td>\n",
       "      <td>21</td>\n",
       "      <td>45</td>\n",
       "      <td>46</td>\n",
       "      <td>408</td>\n",
       "      <td>Michael Jordan</td>\n",
       "      <td>Regular Season</td>\n",
       "    </tr>\n",
       "    <tr>\n",
       "      <th>31</th>\n",
       "      <td>1986-87</td>\n",
       "      <td>23</td>\n",
       "      <td>CHI</td>\n",
       "      <td>NBA</td>\n",
       "      <td>SG</td>\n",
       "      <td>82</td>\n",
       "      <td>82</td>\n",
       "      <td>3281</td>\n",
       "      <td>1098</td>\n",
       "      <td>2279</td>\n",
       "      <td>...</td>\n",
       "      <td>264</td>\n",
       "      <td>430</td>\n",
       "      <td>377</td>\n",
       "      <td>236</td>\n",
       "      <td>125</td>\n",
       "      <td>272</td>\n",
       "      <td>237</td>\n",
       "      <td>3041</td>\n",
       "      <td>Michael Jordan</td>\n",
       "      <td>Regular Season</td>\n",
       "    </tr>\n",
       "    <tr>\n",
       "      <th>32</th>\n",
       "      <td>1987-88</td>\n",
       "      <td>24</td>\n",
       "      <td>CHI</td>\n",
       "      <td>NBA</td>\n",
       "      <td>SG</td>\n",
       "      <td>82</td>\n",
       "      <td>82</td>\n",
       "      <td>3311</td>\n",
       "      <td>1069</td>\n",
       "      <td>1998</td>\n",
       "      <td>...</td>\n",
       "      <td>310</td>\n",
       "      <td>449</td>\n",
       "      <td>485</td>\n",
       "      <td>259</td>\n",
       "      <td>131</td>\n",
       "      <td>252</td>\n",
       "      <td>270</td>\n",
       "      <td>2868</td>\n",
       "      <td>Michael Jordan</td>\n",
       "      <td>Regular Season</td>\n",
       "    </tr>\n",
       "    <tr>\n",
       "      <th>33</th>\n",
       "      <td>1988-89</td>\n",
       "      <td>25</td>\n",
       "      <td>CHI</td>\n",
       "      <td>NBA</td>\n",
       "      <td>SG</td>\n",
       "      <td>81</td>\n",
       "      <td>81</td>\n",
       "      <td>3255</td>\n",
       "      <td>966</td>\n",
       "      <td>1795</td>\n",
       "      <td>...</td>\n",
       "      <td>503</td>\n",
       "      <td>652</td>\n",
       "      <td>650</td>\n",
       "      <td>234</td>\n",
       "      <td>65</td>\n",
       "      <td>290</td>\n",
       "      <td>247</td>\n",
       "      <td>2633</td>\n",
       "      <td>Michael Jordan</td>\n",
       "      <td>Regular Season</td>\n",
       "    </tr>\n",
       "  </tbody>\n",
       "</table>\n",
       "<p>5 rows × 32 columns</p>\n",
       "</div>"
      ],
      "text/plain": [
       "     Season  Age   Tm   Lg Pos   G  GS    MP    FG   FGA  ...  DRB  TRB  AST  \\\n",
       "29  1984-85   21  CHI  NBA  SG  82  82  3144   837  1625  ...  367  534  481   \n",
       "30  1985-86   22  CHI  NBA  SG  18   7   451   150   328  ...   41   64   53   \n",
       "31  1986-87   23  CHI  NBA  SG  82  82  3281  1098  2279  ...  264  430  377   \n",
       "32  1987-88   24  CHI  NBA  SG  82  82  3311  1069  1998  ...  310  449  485   \n",
       "33  1988-89   25  CHI  NBA  SG  81  81  3255   966  1795  ...  503  652  650   \n",
       "\n",
       "    STL  BLK  TOV   PF   PTS          Player          RSorPO  \n",
       "29  196   69  291  285  2313  Michael Jordan  Regular Season  \n",
       "30   37   21   45   46   408  Michael Jordan  Regular Season  \n",
       "31  236  125  272  237  3041  Michael Jordan  Regular Season  \n",
       "32  259  131  252  270  2868  Michael Jordan  Regular Season  \n",
       "33  234   65  290  247  2633  Michael Jordan  Regular Season  \n",
       "\n",
       "[5 rows x 32 columns]"
      ]
     },
     "execution_count": 6,
     "metadata": {},
     "output_type": "execute_result"
    }
   ],
   "source": [
    "totals_stats_mj.head(5)"
   ]
  },
  {
   "cell_type": "code",
   "execution_count": 7,
   "id": "992639b2",
   "metadata": {
    "scrolled": true
   },
   "outputs": [
    {
     "name": "stdout",
     "output_type": "stream",
     "text": [
      "Average 3's make-rate, lifetime\n",
      "Lebron: 0.3384\n",
      "Kobe: 0.3209\n",
      "MJ: 0.3268\n"
     ]
    }
   ],
   "source": [
    "# Best 3-point shooter?\n",
    "average_3_lebron = totals_stats_lebron['3P%'].mean()\n",
    "average_3_mj = totals_stats_mj['3P%'].mean()\n",
    "average_3_kobe = totals_stats_kobe['3P%'].mean()\n",
    "\n",
    "print(\"Average 3's make-rate, lifetime\")\n",
    "print(\"Lebron:\", round(average_3_lebron, 4))\n",
    "print(\"Kobe:\", round(average_3_kobe, 4))\n",
    "print(\"MJ:\", round(average_3_mj, 4))"
   ]
  },
  {
   "cell_type": "code",
   "execution_count": 8,
   "id": "76c3558d",
   "metadata": {},
   "outputs": [
    {
     "name": "stdout",
     "output_type": "stream",
     "text": [
      "Average 2's make-rate, lifetime\n",
      "Lebron: 0.5453\n",
      "Kobe: 0.4744\n",
      "MJ: 0.4992\n"
     ]
    }
   ],
   "source": [
    "# Best 2-point shooter?\n",
    "average_2_lebron = totals_stats_lebron['2P%'].mean()\n",
    "average_2_mj = totals_stats_mj['2P%'].mean()\n",
    "average_2_kobe = totals_stats_kobe['2P%'].mean()\n",
    "\n",
    "print(\"Average 2's make-rate, lifetime\")\n",
    "print(\"Lebron:\", round(average_2_lebron, 4))\n",
    "print(\"Kobe:\", round(average_2_kobe, 4))\n",
    "print(\"MJ:\", round(average_2_mj, 4))"
   ]
  },
  {
   "cell_type": "code",
   "execution_count": 9,
   "id": "c841d4ed",
   "metadata": {},
   "outputs": [
    {
     "name": "stdout",
     "output_type": "stream",
     "text": [
      "Average FT's make-rate, lifetime\n",
      "Lebron: 0.7369\n",
      "Kobe: 0.8259\n",
      "MJ: 0.8337\n"
     ]
    }
   ],
   "source": [
    "# Best free-throw shooter?\n",
    "average_FT_lebron = totals_stats_lebron['FT%'].mean()\n",
    "average_FT_mj = totals_stats_mj['FT%'].mean()\n",
    "average_FT_kobe = totals_stats_kobe['FT%'].mean()\n",
    "\n",
    "print(\"Average FT's make-rate, lifetime\")\n",
    "print(\"Lebron:\", round(average_FT_lebron, 4))\n",
    "print(\"Kobe:\", round(average_FT_kobe, 4))\n",
    "print(\"MJ:\", round(average_FT_mj, 4))"
   ]
  },
  {
   "cell_type": "code",
   "execution_count": null,
   "id": "d9c58083",
   "metadata": {},
   "outputs": [],
   "source": []
  },
  {
   "cell_type": "code",
   "execution_count": 10,
   "id": "3a37e72c",
   "metadata": {},
   "outputs": [
    {
     "data": {
      "image/png": "[encoded data removed]",
      "text/plain": [
       "<Figure size 432x288 with 1 Axes>"
      ]
     },
     "metadata": {
      "needs_background": "light"
     },
     "output_type": "display_data"
    }
   ],
   "source": [
    "# FT compared to NBA average\n",
    "\n",
    "objects = ('Lebron', 'MJ', 'Kobe', 'NBA Average')\n",
    "y_pos = np.arange(len(objects))\n",
    "performance = [average_FT_lebron ,average_FT_mj ,average_FT_kobe, 0.73]\n",
    "\n",
    "plt.bar(y_pos, performance, align='center', alpha=0.5)\n",
    "plt.xticks(y_pos, objects)\n",
    "plt.ylabel('%')\n",
    "plt.title('Free Throw %')\n",
    "\n",
    "plt.show()"
   ]
  },
  {
   "cell_type": "code",
   "execution_count": 47,
   "id": "93969737",
   "metadata": {},
   "outputs": [
    {
     "data": {
      "image/png": "[encoded data removed]",
      "text/plain": [
       "<Figure size 432x288 with 1 Axes>"
      ]
     },
     "metadata": {
      "needs_background": "light"
     },
     "output_type": "display_data"
    }
   ],
   "source": [
    "# data to plot\n",
    "n_groups = 3\n",
    "\n",
    "lebron_bars = (average_3_lebron, average_2_lebron, average_FT_lebron)\n",
    "mj_bars = (average_3_mj, average_2_mj, average_FT_mj)\n",
    "kobe_bars = (average_3_kobe, average_2_kobe, average_FT_kobe)\n",
    "\n",
    "# create plot\n",
    "fig, ax = plt.subplots()\n",
    "index = np.arange(n_groups)\n",
    "bar_width = 0.2\n",
    "opacity = 0.8\n",
    "\n",
    "rects_lebron = plt.bar(index, lebron_bars, bar_width,\n",
    "alpha=opacity,\n",
    "color='y',\n",
    "label='Lebron')\n",
    "\n",
    "rects_mj = plt.bar(index + bar_width, mj_bars, bar_width,\n",
    "alpha=opacity,\n",
    "color='r',\n",
    "label='MJ')\n",
    "\n",
    "rects_kobe = plt.bar(index + 2 * bar_width, kobe_bars, bar_width,\n",
    "alpha=opacity,\n",
    "color='m',\n",
    "label='Kobe')\n",
    "\n",
    "plt.xlabel('Category')\n",
    "plt.ylabel('Percent')\n",
    "plt.title('2-point, 3-point, Free-throw percentages')\n",
    "plt.xticks(index + bar_width, ('3s', '2s', 'FTs'))\n",
    "plt.legend()\n",
    "\n",
    "plt.tight_layout()\n",
    "plt.show()"
   ]
  },
  {
   "cell_type": "code",
   "execution_count": 45,
   "id": "e96be665",
   "metadata": {},
   "outputs": [
    {
     "data": {
      "text/plain": [
       "[Text(0.5, 0, 'Career Years'), Text(0, 0.5, 'Points Scored / Game')]"
      ]
     },
     "execution_count": 45,
     "metadata": {},
     "output_type": "execute_result"
    },
    {
     "data": {
      "image/png": "[encoded data removed]",
      "text/plain": [
       "<Figure size 842.4x595.44 with 1 Axes>"
      ]
     },
     "metadata": {
      "needs_background": "light"
     },
     "output_type": "display_data"
    }
   ],
   "source": [
    "a4_dims = (11.7, 8.27)\n",
    "fig, ax = plt.subplots(figsize=a4_dims)\n",
    "\n",
    "sns.lineplot(x=[int(date[0:4]) - 1983 for date in allgames_stats_mj['Date']], y=allgames_stats_mj['PTS'], color='red', label='MJ')\n",
    "sns.lineplot(x=[int(date[0:4]) - 2002 for date in allgames_stats_lebron['Date']], y=allgames_stats_lebron['PTS'], color='yellow', label='Lebron')\n",
    "sns.lineplot(x=[int(date.year) - 1995 for date in allgames_stats_kobe['Date']], y=allgames_stats_kobe['PTS'], color='purple', label='Kobe')\n",
    "ax.set(xlabel='Career Years', ylabel='Points Scored / Game')"
   ]
  },
  {
   "cell_type": "code",
   "execution_count": null,
   "id": "61769820",
   "metadata": {},
   "outputs": [],
   "source": []
  },
  {
   "cell_type": "code",
   "execution_count": null,
   "id": "05b1f7dd",
   "metadata": {},
   "outputs": [],
   "source": []
  },
  {
   "cell_type": "code",
   "execution_count": null,
   "id": "fea6f48b",
   "metadata": {},
   "outputs": [],
   "source": []
  }
 ],
 "metadata": {
  "kernelspec": {
   "display_name": "Python 3 (ipykernel)",
   "language": "python",
   "name": "python3"
  },
  "language_info": {
   "codemirror_mode": {
    "name": "ipython",
    "version": 3
   },
   "file_extension": ".py",
   "mimetype": "text/x-python",
   "name": "python",
   "nbconvert_exporter": "python",
   "pygments_lexer": "ipython3",
   "version": "3.8.6"
  },
  "toc": {
   "base_numbering": 1,
   "nav_menu": {},
   "number_sections": false,
   "sideBar": true,
   "skip_h1_title": false,
   "title_cell": "Table of Contents",
   "title_sidebar": "Contents",
   "toc_cell": false,
   "toc_position": {},
   "toc_section_display": true,
   "toc_window_display": false
  }
 },
 "nbformat": 4,
 "nbformat_minor": 5
}
