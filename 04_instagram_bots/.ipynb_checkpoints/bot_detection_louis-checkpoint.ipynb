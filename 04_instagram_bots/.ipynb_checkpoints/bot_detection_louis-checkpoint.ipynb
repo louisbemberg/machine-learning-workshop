{
 "cells": [
  {
   "cell_type": "code",
   "execution_count": 1,
   "id": "a4e87b67",
   "metadata": {},
   "outputs": [],
   "source": [
    "# importing required packages\n",
    "import numpy as np\n",
    "import pandas as pd"
   ]
  },
  {
   "cell_type": "code",
   "execution_count": 2,
   "id": "17cdde5c",
   "metadata": {},
   "outputs": [],
   "source": [
    "# loading the train and test sets:\n",
    "instagram_train = pd.read_csv(\"data/train.csv\")\n",
    "instagram_test = pd.read_csv(\"data/test.csv\")"
   ]
  },
  {
   "cell_type": "code",
   "execution_count": 3,
   "id": "7b399eaa",
   "metadata": {
    "scrolled": false
   },
   "outputs": [
    {
     "name": "stdout",
     "output_type": "stream",
     "text": [
      "<class 'pandas.core.frame.DataFrame'>\n",
      "RangeIndex: 576 entries, 0 to 575\n",
      "Data columns (total 12 columns):\n",
      " #   Column                Non-Null Count  Dtype  \n",
      "---  ------                --------------  -----  \n",
      " 0   profile_pic           576 non-null    int64  \n",
      " 1   nums_length_username  576 non-null    float64\n",
      " 2   fullname_words        576 non-null    int64  \n",
      " 3   nums_length_fullname  576 non-null    float64\n",
      " 4   name_is_username      576 non-null    int64  \n",
      " 5   description_length    576 non-null    int64  \n",
      " 6   external_URL          576 non-null    int64  \n",
      " 7   private               576 non-null    int64  \n",
      " 8   posts                 576 non-null    int64  \n",
      " 9   followers             576 non-null    int64  \n",
      " 10  following             576 non-null    int64  \n",
      " 11  fake                  576 non-null    int64  \n",
      "dtypes: float64(2), int64(10)\n",
      "memory usage: 54.1 KB\n"
     ]
    },
    {
     "data": {
      "text/html": [
       "<div>\n",
       "<style scoped>\n",
       "    .dataframe tbody tr th:only-of-type {\n",
       "        vertical-align: middle;\n",
       "    }\n",
       "\n",
       "    .dataframe tbody tr th {\n",
       "        vertical-align: top;\n",
       "    }\n",
       "\n",
       "    .dataframe thead th {\n",
       "        text-align: right;\n",
       "    }\n",
       "</style>\n",
       "<table border=\"1\" class=\"dataframe\">\n",
       "  <thead>\n",
       "    <tr style=\"text-align: right;\">\n",
       "      <th></th>\n",
       "      <th>profile_pic</th>\n",
       "      <th>nums_length_username</th>\n",
       "      <th>fullname_words</th>\n",
       "      <th>nums_length_fullname</th>\n",
       "      <th>name_is_username</th>\n",
       "      <th>description_length</th>\n",
       "      <th>external_URL</th>\n",
       "      <th>private</th>\n",
       "      <th>posts</th>\n",
       "      <th>followers</th>\n",
       "      <th>following</th>\n",
       "      <th>fake</th>\n",
       "    </tr>\n",
       "  </thead>\n",
       "  <tbody>\n",
       "    <tr>\n",
       "      <th>0</th>\n",
       "      <td>1</td>\n",
       "      <td>0.27</td>\n",
       "      <td>0</td>\n",
       "      <td>0.0</td>\n",
       "      <td>0</td>\n",
       "      <td>53</td>\n",
       "      <td>0</td>\n",
       "      <td>0</td>\n",
       "      <td>32</td>\n",
       "      <td>1000</td>\n",
       "      <td>955</td>\n",
       "      <td>0</td>\n",
       "    </tr>\n",
       "    <tr>\n",
       "      <th>1</th>\n",
       "      <td>1</td>\n",
       "      <td>0.00</td>\n",
       "      <td>2</td>\n",
       "      <td>0.0</td>\n",
       "      <td>0</td>\n",
       "      <td>44</td>\n",
       "      <td>0</td>\n",
       "      <td>0</td>\n",
       "      <td>286</td>\n",
       "      <td>2740</td>\n",
       "      <td>533</td>\n",
       "      <td>0</td>\n",
       "    </tr>\n",
       "    <tr>\n",
       "      <th>2</th>\n",
       "      <td>1</td>\n",
       "      <td>0.10</td>\n",
       "      <td>2</td>\n",
       "      <td>0.0</td>\n",
       "      <td>0</td>\n",
       "      <td>0</td>\n",
       "      <td>0</td>\n",
       "      <td>1</td>\n",
       "      <td>13</td>\n",
       "      <td>159</td>\n",
       "      <td>98</td>\n",
       "      <td>0</td>\n",
       "    </tr>\n",
       "    <tr>\n",
       "      <th>3</th>\n",
       "      <td>1</td>\n",
       "      <td>0.00</td>\n",
       "      <td>1</td>\n",
       "      <td>0.0</td>\n",
       "      <td>0</td>\n",
       "      <td>82</td>\n",
       "      <td>0</td>\n",
       "      <td>0</td>\n",
       "      <td>679</td>\n",
       "      <td>414</td>\n",
       "      <td>651</td>\n",
       "      <td>0</td>\n",
       "    </tr>\n",
       "    <tr>\n",
       "      <th>4</th>\n",
       "      <td>1</td>\n",
       "      <td>0.00</td>\n",
       "      <td>2</td>\n",
       "      <td>0.0</td>\n",
       "      <td>0</td>\n",
       "      <td>0</td>\n",
       "      <td>0</td>\n",
       "      <td>1</td>\n",
       "      <td>6</td>\n",
       "      <td>151</td>\n",
       "      <td>126</td>\n",
       "      <td>0</td>\n",
       "    </tr>\n",
       "  </tbody>\n",
       "</table>\n",
       "</div>"
      ],
      "text/plain": [
       "   profile_pic  nums_length_username  fullname_words  nums_length_fullname  \\\n",
       "0            1                  0.27               0                   0.0   \n",
       "1            1                  0.00               2                   0.0   \n",
       "2            1                  0.10               2                   0.0   \n",
       "3            1                  0.00               1                   0.0   \n",
       "4            1                  0.00               2                   0.0   \n",
       "\n",
       "   name_is_username  description_length  external_URL  private  posts  \\\n",
       "0                 0                  53             0        0     32   \n",
       "1                 0                  44             0        0    286   \n",
       "2                 0                   0             0        1     13   \n",
       "3                 0                  82             0        0    679   \n",
       "4                 0                   0             0        1      6   \n",
       "\n",
       "   followers  following  fake  \n",
       "0       1000        955     0  \n",
       "1       2740        533     0  \n",
       "2        159         98     0  \n",
       "3        414        651     0  \n",
       "4        151        126     0  "
      ]
     },
     "execution_count": 3,
     "metadata": {},
     "output_type": "execute_result"
    }
   ],
   "source": [
    "# Checking the first few rows:\n",
    "instagram_train.info()\n",
    "instagram_train.head(5)"
   ]
  },
  {
   "cell_type": "code",
   "execution_count": 4,
   "id": "ab6a801d",
   "metadata": {},
   "outputs": [
    {
     "name": "stdout",
     "output_type": "stream",
     "text": [
      "Real Accounts: 288 Fake Accounts: 288\n"
     ]
    }
   ],
   "source": [
    "# Baseline model: always predicts the majority:\n",
    "number_real = np.sum(instagram_train['fake'] == 0)\n",
    "number_fake = np.sum(instagram_train['fake'] == 1)\n",
    "\n",
    "print('Real Accounts:', number_real, 'Fake Accounts:', number_fake)"
   ]
  },
  {
   "cell_type": "code",
   "execution_count": 5,
   "id": "8ad19fa1",
   "metadata": {},
   "outputs": [
    {
     "data": {
      "text/html": [
       "<div>\n",
       "<style scoped>\n",
       "    .dataframe tbody tr th:only-of-type {\n",
       "        vertical-align: middle;\n",
       "    }\n",
       "\n",
       "    .dataframe tbody tr th {\n",
       "        vertical-align: top;\n",
       "    }\n",
       "\n",
       "    .dataframe thead th {\n",
       "        text-align: right;\n",
       "    }\n",
       "</style>\n",
       "<table border=\"1\" class=\"dataframe\">\n",
       "  <thead>\n",
       "    <tr style=\"text-align: right;\">\n",
       "      <th></th>\n",
       "      <th>profile_pic</th>\n",
       "      <th>nums_length_username</th>\n",
       "      <th>fullname_words</th>\n",
       "      <th>nums_length_fullname</th>\n",
       "      <th>name_is_username</th>\n",
       "      <th>description_length</th>\n",
       "      <th>external_URL</th>\n",
       "      <th>private</th>\n",
       "      <th>posts</th>\n",
       "      <th>followers</th>\n",
       "      <th>following</th>\n",
       "      <th>fake</th>\n",
       "    </tr>\n",
       "  </thead>\n",
       "  <tbody>\n",
       "    <tr>\n",
       "      <th>0</th>\n",
       "      <td>1</td>\n",
       "      <td>0.27</td>\n",
       "      <td>0</td>\n",
       "      <td>0.00</td>\n",
       "      <td>0</td>\n",
       "      <td>53</td>\n",
       "      <td>0</td>\n",
       "      <td>0</td>\n",
       "      <td>32</td>\n",
       "      <td>1000</td>\n",
       "      <td>955</td>\n",
       "      <td>0</td>\n",
       "    </tr>\n",
       "    <tr>\n",
       "      <th>1</th>\n",
       "      <td>1</td>\n",
       "      <td>0.00</td>\n",
       "      <td>2</td>\n",
       "      <td>0.00</td>\n",
       "      <td>0</td>\n",
       "      <td>44</td>\n",
       "      <td>0</td>\n",
       "      <td>0</td>\n",
       "      <td>286</td>\n",
       "      <td>2740</td>\n",
       "      <td>533</td>\n",
       "      <td>0</td>\n",
       "    </tr>\n",
       "    <tr>\n",
       "      <th>2</th>\n",
       "      <td>1</td>\n",
       "      <td>0.10</td>\n",
       "      <td>2</td>\n",
       "      <td>0.00</td>\n",
       "      <td>0</td>\n",
       "      <td>0</td>\n",
       "      <td>0</td>\n",
       "      <td>1</td>\n",
       "      <td>13</td>\n",
       "      <td>159</td>\n",
       "      <td>98</td>\n",
       "      <td>0</td>\n",
       "    </tr>\n",
       "    <tr>\n",
       "      <th>3</th>\n",
       "      <td>1</td>\n",
       "      <td>0.00</td>\n",
       "      <td>1</td>\n",
       "      <td>0.00</td>\n",
       "      <td>0</td>\n",
       "      <td>82</td>\n",
       "      <td>0</td>\n",
       "      <td>0</td>\n",
       "      <td>679</td>\n",
       "      <td>414</td>\n",
       "      <td>651</td>\n",
       "      <td>0</td>\n",
       "    </tr>\n",
       "    <tr>\n",
       "      <th>4</th>\n",
       "      <td>1</td>\n",
       "      <td>0.00</td>\n",
       "      <td>2</td>\n",
       "      <td>0.00</td>\n",
       "      <td>0</td>\n",
       "      <td>0</td>\n",
       "      <td>0</td>\n",
       "      <td>1</td>\n",
       "      <td>6</td>\n",
       "      <td>151</td>\n",
       "      <td>126</td>\n",
       "      <td>0</td>\n",
       "    </tr>\n",
       "    <tr>\n",
       "      <th>...</th>\n",
       "      <td>...</td>\n",
       "      <td>...</td>\n",
       "      <td>...</td>\n",
       "      <td>...</td>\n",
       "      <td>...</td>\n",
       "      <td>...</td>\n",
       "      <td>...</td>\n",
       "      <td>...</td>\n",
       "      <td>...</td>\n",
       "      <td>...</td>\n",
       "      <td>...</td>\n",
       "      <td>...</td>\n",
       "    </tr>\n",
       "    <tr>\n",
       "      <th>571</th>\n",
       "      <td>1</td>\n",
       "      <td>0.55</td>\n",
       "      <td>1</td>\n",
       "      <td>0.44</td>\n",
       "      <td>0</td>\n",
       "      <td>0</td>\n",
       "      <td>0</td>\n",
       "      <td>0</td>\n",
       "      <td>33</td>\n",
       "      <td>166</td>\n",
       "      <td>596</td>\n",
       "      <td>1</td>\n",
       "    </tr>\n",
       "    <tr>\n",
       "      <th>572</th>\n",
       "      <td>1</td>\n",
       "      <td>0.38</td>\n",
       "      <td>1</td>\n",
       "      <td>0.33</td>\n",
       "      <td>0</td>\n",
       "      <td>21</td>\n",
       "      <td>0</td>\n",
       "      <td>0</td>\n",
       "      <td>44</td>\n",
       "      <td>66</td>\n",
       "      <td>75</td>\n",
       "      <td>1</td>\n",
       "    </tr>\n",
       "    <tr>\n",
       "      <th>573</th>\n",
       "      <td>1</td>\n",
       "      <td>0.57</td>\n",
       "      <td>2</td>\n",
       "      <td>0.00</td>\n",
       "      <td>0</td>\n",
       "      <td>0</td>\n",
       "      <td>0</td>\n",
       "      <td>0</td>\n",
       "      <td>4</td>\n",
       "      <td>96</td>\n",
       "      <td>339</td>\n",
       "      <td>1</td>\n",
       "    </tr>\n",
       "    <tr>\n",
       "      <th>574</th>\n",
       "      <td>1</td>\n",
       "      <td>0.57</td>\n",
       "      <td>1</td>\n",
       "      <td>0.00</td>\n",
       "      <td>0</td>\n",
       "      <td>11</td>\n",
       "      <td>0</td>\n",
       "      <td>0</td>\n",
       "      <td>0</td>\n",
       "      <td>57</td>\n",
       "      <td>73</td>\n",
       "      <td>1</td>\n",
       "    </tr>\n",
       "    <tr>\n",
       "      <th>575</th>\n",
       "      <td>1</td>\n",
       "      <td>0.27</td>\n",
       "      <td>1</td>\n",
       "      <td>0.00</td>\n",
       "      <td>0</td>\n",
       "      <td>0</td>\n",
       "      <td>0</td>\n",
       "      <td>0</td>\n",
       "      <td>2</td>\n",
       "      <td>150</td>\n",
       "      <td>487</td>\n",
       "      <td>1</td>\n",
       "    </tr>\n",
       "  </tbody>\n",
       "</table>\n",
       "<p>576 rows × 12 columns</p>\n",
       "</div>"
      ],
      "text/plain": [
       "     profile_pic  nums_length_username  fullname_words  nums_length_fullname  \\\n",
       "0              1                  0.27               0                  0.00   \n",
       "1              1                  0.00               2                  0.00   \n",
       "2              1                  0.10               2                  0.00   \n",
       "3              1                  0.00               1                  0.00   \n",
       "4              1                  0.00               2                  0.00   \n",
       "..           ...                   ...             ...                   ...   \n",
       "571            1                  0.55               1                  0.44   \n",
       "572            1                  0.38               1                  0.33   \n",
       "573            1                  0.57               2                  0.00   \n",
       "574            1                  0.57               1                  0.00   \n",
       "575            1                  0.27               1                  0.00   \n",
       "\n",
       "     name_is_username  description_length  external_URL  private  posts  \\\n",
       "0                   0                  53             0        0     32   \n",
       "1                   0                  44             0        0    286   \n",
       "2                   0                   0             0        1     13   \n",
       "3                   0                  82             0        0    679   \n",
       "4                   0                   0             0        1      6   \n",
       "..                ...                 ...           ...      ...    ...   \n",
       "571                 0                   0             0        0     33   \n",
       "572                 0                  21             0        0     44   \n",
       "573                 0                   0             0        0      4   \n",
       "574                 0                  11             0        0      0   \n",
       "575                 0                   0             0        0      2   \n",
       "\n",
       "     followers  following  fake  \n",
       "0         1000        955     0  \n",
       "1         2740        533     0  \n",
       "2          159         98     0  \n",
       "3          414        651     0  \n",
       "4          151        126     0  \n",
       "..         ...        ...   ...  \n",
       "571        166        596     1  \n",
       "572         66         75     1  \n",
       "573         96        339     1  \n",
       "574         57         73     1  \n",
       "575        150        487     1  \n",
       "\n",
       "[576 rows x 12 columns]"
      ]
     },
     "execution_count": 5,
     "metadata": {},
     "output_type": "execute_result"
    }
   ],
   "source": [
    "instagram_train"
   ]
  },
  {
   "cell_type": "code",
   "execution_count": 6,
   "id": "1078e110",
   "metadata": {},
   "outputs": [
    {
     "name": "stdout",
     "output_type": "stream",
     "text": [
      "Optimization terminated successfully.\n",
      "         Current function value: 0.270439\n",
      "         Iterations 19\n",
      "                           Logit Regression Results                           \n",
      "==============================================================================\n",
      "Dep. Variable:                   fake   No. Observations:                  576\n",
      "Model:                          Logit   Df Residuals:                      569\n",
      "Method:                           MLE   Df Model:                            6\n",
      "Date:                Fri, 05 Nov 2021   Pseudo R-squ.:                  0.6098\n",
      "Time:                        15:29:44   Log-Likelihood:                -155.77\n",
      "converged:                       True   LL-Null:                       -399.25\n",
      "Covariance Type:            nonrobust   LLR p-value:                5.415e-102\n",
      "======================================================================================\n",
      "                         coef    std err          z      P>|z|      [0.025      0.975]\n",
      "--------------------------------------------------------------------------------------\n",
      "Intercept              6.8796      1.842      3.735      0.000       3.269      10.490\n",
      "profile_pic           -6.1365      1.819     -3.374      0.001      -9.701      -2.572\n",
      "name_is_username       1.6235      1.113      1.458      0.145      -0.559       3.806\n",
      "description_length    -0.0153      0.005     -3.172      0.002      -0.025      -0.006\n",
      "followers             -0.0033      0.001     -5.075      0.000      -0.005      -0.002\n",
      "following              0.0009      0.000      4.173      0.000       0.001       0.001\n",
      "posts                 -0.0150      0.004     -3.630      0.000      -0.023      -0.007\n",
      "======================================================================================\n",
      "\n",
      "Possibly complete quasi-separation: A fraction 0.13 of observations can be\n",
      "perfectly predicted. This might indicate that there is complete\n",
      "quasi-separation. In this case some parameters will not be identified.\n"
     ]
    },
    {
     "name": "stderr",
     "output_type": "stream",
     "text": [
      "/Users/louisbemberg/.pyenv/versions/3.8.6/envs/lewagon/lib/python3.8/site-packages/statsmodels/discrete/discrete_model.py:1810: RuntimeWarning: overflow encountered in exp\n",
      "  return 1/(1+np.exp(-X))\n",
      "/Users/louisbemberg/.pyenv/versions/3.8.6/envs/lewagon/lib/python3.8/site-packages/statsmodels/discrete/discrete_model.py:1810: RuntimeWarning: overflow encountered in exp\n",
      "  return 1/(1+np.exp(-X))\n"
     ]
    }
   ],
   "source": [
    "import statsmodels.formula.api as smf\n",
    "\n",
    "logreg0 = smf.logit(formula = 'fake ~ profile_pic + name_is_username + description_length + followers + following + posts',\n",
    "                   data = instagram_train).fit()\n",
    "\n",
    "print(logreg0.summary())"
   ]
  },
  {
   "cell_type": "code",
   "execution_count": 7,
   "id": "c68cab5d",
   "metadata": {},
   "outputs": [],
   "source": [
    "y_test = instagram_test['fake']\n",
    "\n",
    "y_prob0 = logreg0.predict(instagram_test)\n",
    "y_pred0 = pd.Series([1 if x > 0.5 else 0 for x in y_prob0], index=y_prob0.index)"
   ]
  },
  {
   "cell_type": "code",
   "execution_count": 8,
   "id": "89393fc4",
   "metadata": {},
   "outputs": [
    {
     "name": "stdout",
     "output_type": "stream",
     "text": [
      "Confusion Matrix : \n",
      " [53  7  4 56]\n",
      "Accuracy:\n"
     ]
    },
    {
     "data": {
      "text/plain": [
       "0.9083333333333333"
      ]
     },
     "execution_count": 8,
     "metadata": {},
     "output_type": "execute_result"
    }
   ],
   "source": [
    "from sklearn.metrics import confusion_matrix\n",
    "\n",
    "cm = confusion_matrix(y_test, y_pred0).ravel()\n",
    "print (\"Confusion Matrix : \\n\", cm)\n",
    "print(\"Accuracy:\" )# Accuracy:\n",
    "(cm[0]+cm[3])/sum(cm)"
   ]
  },
  {
   "cell_type": "code",
   "execution_count": 9,
   "id": "294ce6a1",
   "metadata": {},
   "outputs": [
    {
     "name": "stdout",
     "output_type": "stream",
     "text": [
      "Optimization terminated successfully.\n",
      "         Current function value: 0.272979\n",
      "         Iterations 19\n",
      "                           Logit Regression Results                           \n",
      "==============================================================================\n",
      "Dep. Variable:                   fake   No. Observations:                  576\n",
      "Model:                          Logit   Df Residuals:                      570\n",
      "Method:                           MLE   Df Model:                            5\n",
      "Date:                Fri, 05 Nov 2021   Pseudo R-squ.:                  0.6062\n",
      "Time:                        15:29:44   Log-Likelihood:                -157.24\n",
      "converged:                       True   LL-Null:                       -399.25\n",
      "Covariance Type:            nonrobust   LLR p-value:                2.230e-102\n",
      "======================================================================================\n",
      "                         coef    std err          z      P>|z|      [0.025      0.975]\n",
      "--------------------------------------------------------------------------------------\n",
      "Intercept              7.0303      1.899      3.701      0.000       3.308      10.753\n",
      "profile_pic           -6.2258      1.877     -3.318      0.001      -9.904      -2.548\n",
      "description_length    -0.0149      0.005     -3.154      0.002      -0.024      -0.006\n",
      "followers             -0.0034      0.001     -5.134      0.000      -0.005      -0.002\n",
      "following              0.0010      0.000      4.185      0.000       0.001       0.001\n",
      "posts                 -0.0155      0.004     -3.720      0.000      -0.024      -0.007\n",
      "======================================================================================\n",
      "\n",
      "Possibly complete quasi-separation: A fraction 0.13 of observations can be\n",
      "perfectly predicted. This might indicate that there is complete\n",
      "quasi-separation. In this case some parameters will not be identified.\n"
     ]
    },
    {
     "name": "stderr",
     "output_type": "stream",
     "text": [
      "/Users/louisbemberg/.pyenv/versions/3.8.6/envs/lewagon/lib/python3.8/site-packages/statsmodels/discrete/discrete_model.py:1810: RuntimeWarning: overflow encountered in exp\n",
      "  return 1/(1+np.exp(-X))\n",
      "/Users/louisbemberg/.pyenv/versions/3.8.6/envs/lewagon/lib/python3.8/site-packages/statsmodels/discrete/discrete_model.py:1810: RuntimeWarning: overflow encountered in exp\n",
      "  return 1/(1+np.exp(-X))\n"
     ]
    }
   ],
   "source": [
    "# removed name_is_username for high p value\n",
    "logreg1 = smf.logit(formula = 'fake ~ profile_pic + description_length + followers + following + posts',\n",
    "                   data = instagram_train).fit()\n",
    "\n",
    "print(logreg1.summary())"
   ]
  },
  {
   "cell_type": "code",
   "execution_count": 10,
   "id": "f7ed0543",
   "metadata": {},
   "outputs": [],
   "source": [
    "y_test = instagram_test['fake']\n",
    "\n",
    "y_prob1 = logreg1.predict(instagram_test)\n",
    "y_pred1 = pd.Series([1 if x > 0.5 else 0 for x in y_prob1], index=y_prob1.index)"
   ]
  },
  {
   "cell_type": "code",
   "execution_count": 11,
   "id": "68da1aa9",
   "metadata": {},
   "outputs": [
    {
     "name": "stdout",
     "output_type": "stream",
     "text": [
      "Confusion Matrix : \n",
      " [54  6  5 55]\n",
      "Accuracy:\n"
     ]
    },
    {
     "data": {
      "text/plain": [
       "0.9083333333333333"
      ]
     },
     "execution_count": 11,
     "metadata": {},
     "output_type": "execute_result"
    }
   ],
   "source": [
    "cm1 = confusion_matrix(y_test, y_pred1).ravel()\n",
    "print (\"Confusion Matrix : \\n\", cm1)\n",
    "print(\"Accuracy:\" )# Accuracy:\n",
    "(cm1[0]+cm1[3])/sum(cm1)"
   ]
  },
  {
   "cell_type": "code",
   "execution_count": 12,
   "id": "9b08b6ac",
   "metadata": {},
   "outputs": [
    {
     "name": "stdout",
     "output_type": "stream",
     "text": [
      "Probability That Louis's Account is Fake according to model 0:\n"
     ]
    },
    {
     "data": {
      "text/plain": [
       "0    0.054586\n",
       "dtype: float64"
      ]
     },
     "execution_count": 12,
     "metadata": {},
     "output_type": "execute_result"
    }
   ],
   "source": [
    "# Checking my own account!\n",
    "louis_account = pd.DataFrame(data = {'profile_pic' : [1], 'description_length' : [100], 'followers' : [700],\n",
    "                               'following' : [900], 'posts' : [40], 'name_is_username': 0})\n",
    "\n",
    "print(\"Probability That Louis's Account is Fake according to model 0:\")\n",
    "logreg0.predict(louis_account)"
   ]
  },
  {
   "cell_type": "code",
   "execution_count": 13,
   "id": "9479973b",
   "metadata": {},
   "outputs": [
    {
     "name": "stdout",
     "output_type": "stream",
     "text": [
      "Probability That Louis's Account is Fake according to model 1:\n"
     ]
    },
    {
     "data": {
      "text/plain": [
       "0    0.056007\n",
       "dtype: float64"
      ]
     },
     "execution_count": 13,
     "metadata": {},
     "output_type": "execute_result"
    }
   ],
   "source": [
    "print(\"Probability That Louis's Account is Fake according to model 1:\")\n",
    "logreg1.predict(louis_account)"
   ]
  },
  {
   "cell_type": "code",
   "execution_count": 14,
   "id": "29acad16",
   "metadata": {},
   "outputs": [
    {
     "name": "stdout",
     "output_type": "stream",
     "text": [
      "Optimization terminated successfully.\n",
      "         Current function value: 0.353122\n",
      "         Iterations 18\n",
      "                           Logit Regression Results                           \n",
      "==============================================================================\n",
      "Dep. Variable:                   fake   No. Observations:                  576\n",
      "Model:                          Logit   Df Residuals:                      571\n",
      "Method:                           MLE   Df Model:                            4\n",
      "Date:                Fri, 05 Nov 2021   Pseudo R-squ.:                  0.4906\n",
      "Time:                        15:29:44   Log-Likelihood:                -203.40\n",
      "converged:                       True   LL-Null:                       -399.25\n",
      "Covariance Type:            nonrobust   LLR p-value:                 1.720e-83\n",
      "======================================================================================\n",
      "                         coef    std err          z      P>|z|      [0.025      0.975]\n",
      "--------------------------------------------------------------------------------------\n",
      "Intercept              1.8048      0.165     10.919      0.000       1.481       2.129\n",
      "description_length    -0.0231      0.005     -4.714      0.000      -0.033      -0.013\n",
      "followers             -0.0044      0.001     -5.482      0.000      -0.006      -0.003\n",
      "following              0.0012      0.000      4.716      0.000       0.001       0.002\n",
      "posts                 -0.0218      0.004     -5.304      0.000      -0.030      -0.014\n",
      "======================================================================================\n",
      "\n",
      "Possibly complete quasi-separation: A fraction 0.14 of observations can be\n",
      "perfectly predicted. This might indicate that there is complete\n",
      "quasi-separation. In this case some parameters will not be identified.\n"
     ]
    },
    {
     "name": "stderr",
     "output_type": "stream",
     "text": [
      "/Users/louisbemberg/.pyenv/versions/3.8.6/envs/lewagon/lib/python3.8/site-packages/statsmodels/discrete/discrete_model.py:1810: RuntimeWarning: overflow encountered in exp\n",
      "  return 1/(1+np.exp(-X))\n",
      "/Users/louisbemberg/.pyenv/versions/3.8.6/envs/lewagon/lib/python3.8/site-packages/statsmodels/discrete/discrete_model.py:1810: RuntimeWarning: overflow encountered in exp\n",
      "  return 1/(1+np.exp(-X))\n"
     ]
    }
   ],
   "source": [
    "# profile_picture has a huge coefficient, what happens to the accuracy if we remove it?\n",
    "\n",
    "# removed name_is_username for high p value + profile_pic for experiment\n",
    "logreg2 = smf.logit(formula = 'fake ~ + description_length + followers + following + posts',\n",
    "                   data = instagram_train).fit()\n",
    "\n",
    "print(logreg2.summary())"
   ]
  },
  {
   "cell_type": "code",
   "execution_count": 15,
   "id": "e519bdb7",
   "metadata": {},
   "outputs": [],
   "source": [
    "y_test = instagram_test['fake']\n",
    "\n",
    "y_prob2 = logreg2.predict(instagram_test)\n",
    "y_pred2 = pd.Series([1 if x > 0.5 else 0 for x in y_prob2], index=y_prob2.index)"
   ]
  },
  {
   "cell_type": "code",
   "execution_count": 16,
   "id": "b4a9334c",
   "metadata": {},
   "outputs": [
    {
     "name": "stdout",
     "output_type": "stream",
     "text": [
      "Confusion Matrix : \n",
      " [43 17  6 54]\n",
      "Accuracy:\n"
     ]
    },
    {
     "data": {
      "text/plain": [
       "0.8083333333333333"
      ]
     },
     "execution_count": 16,
     "metadata": {},
     "output_type": "execute_result"
    }
   ],
   "source": [
    "cm2 = confusion_matrix(y_test, y_pred2).ravel()\n",
    "print (\"Confusion Matrix : \\n\", cm2)\n",
    "print(\"Accuracy:\" )# Accuracy:\n",
    "(cm2[0]+cm2[3])/sum(cm2)"
   ]
  },
  {
   "cell_type": "markdown",
   "id": "f59ee736",
   "metadata": {},
   "source": [
    "Removing profile picture worsens the accuracy on the test set by about 10%.\n",
    "Let's now try to do the opposite, and regularize the model to see if some of the coefficients converge to 0:"
   ]
  },
  {
   "cell_type": "code",
   "execution_count": 17,
   "id": "6cfae268",
   "metadata": {},
   "outputs": [
    {
     "name": "stdout",
     "output_type": "stream",
     "text": [
      "Optimization terminated successfully.\n",
      "         Current function value: 0.320691\n",
      "         Iterations 10\n",
      "                           Logit Regression Results                           \n",
      "==============================================================================\n",
      "Dep. Variable:                   fake   No. Observations:                  576\n",
      "Model:                          Logit   Df Residuals:                      572\n",
      "Method:                           MLE   Df Model:                            3\n",
      "Date:                Fri, 05 Nov 2021   Pseudo R-squ.:                  0.5373\n",
      "Time:                        15:29:44   Log-Likelihood:                -184.72\n",
      "converged:                       True   LL-Null:                       -399.25\n",
      "Covariance Type:            nonrobust   LLR p-value:                 1.117e-92\n",
      "======================================================================================\n",
      "                         coef    std err          z      P>|z|      [0.025      0.975]\n",
      "--------------------------------------------------------------------------------------\n",
      "Intercept              4.6913      0.724      6.476      0.000       3.272       6.111\n",
      "profile_pic           -4.1583      0.734     -5.666      0.000      -5.597      -2.720\n",
      "description_length    -0.0202      0.005     -4.093      0.000      -0.030      -0.011\n",
      "posts                 -0.0214      0.004     -5.685      0.000      -0.029      -0.014\n",
      "======================================================================================\n"
     ]
    }
   ],
   "source": [
    "### profile_picture has a huge coefficient, what happens to the accuracy if we remove it?\n",
    "\n",
    "# removed name_is_username for high p value + profile_pic for experiment\n",
    "logreg3 = smf.logit(formula = 'fake ~ + profile_pic + description_length + posts',\n",
    "                   data = instagram_train).fit()\n",
    "\n",
    "print(logreg3.summary())"
   ]
  },
  {
   "cell_type": "code",
   "execution_count": 18,
   "id": "45c80675",
   "metadata": {},
   "outputs": [],
   "source": [
    "y_test = instagram_test['fake']\n",
    "\n",
    "y_prob3 = logreg3.predict(instagram_test)\n",
    "y_pred3 = pd.Series([1 if x > 0.5 else 0 for x in y_prob3], index=y_prob3.index)"
   ]
  },
  {
   "cell_type": "code",
   "execution_count": 19,
   "id": "25a208b9",
   "metadata": {},
   "outputs": [
    {
     "name": "stdout",
     "output_type": "stream",
     "text": [
      "Confusion Matrix : \n",
      " [48 12  5 55]\n",
      "Accuracy:\n"
     ]
    },
    {
     "data": {
      "text/plain": [
       "0.8583333333333333"
      ]
     },
     "execution_count": 19,
     "metadata": {},
     "output_type": "execute_result"
    }
   ],
   "source": [
    "cm3 = confusion_matrix(y_test, y_pred3).ravel()\n",
    "print (\"Confusion Matrix : \\n\", cm3)\n",
    "print(\"Accuracy:\" )\n",
    "(cm3[0]+cm3[3])/sum(cm3)"
   ]
  },
  {
   "cell_type": "markdown",
   "id": "027dc9e1",
   "metadata": {},
   "source": [
    "Accuracy drops by 5% when dropping the lowest two coefficients, followers and following. Let's see what happens when profile picture ONLY is used:"
   ]
  },
  {
   "cell_type": "code",
   "execution_count": 20,
   "id": "0d7c2258",
   "metadata": {},
   "outputs": [
    {
     "name": "stdout",
     "output_type": "stream",
     "text": [
      "Optimization terminated successfully.\n",
      "         Current function value: 0.442559\n",
      "         Iterations 8\n",
      "                           Logit Regression Results                           \n",
      "==============================================================================\n",
      "Dep. Variable:                   fake   No. Observations:                  576\n",
      "Model:                          Logit   Df Residuals:                      574\n",
      "Method:                           MLE   Df Model:                            1\n",
      "Date:                Fri, 05 Nov 2021   Pseudo R-squ.:                  0.3615\n",
      "Time:                        15:29:44   Log-Likelihood:                -254.91\n",
      "converged:                       True   LL-Null:                       -399.25\n",
      "Covariance Type:            nonrobust   LLR p-value:                 9.656e-65\n",
      "===============================================================================\n",
      "                  coef    std err          z      P>|z|      [0.025      0.975]\n",
      "-------------------------------------------------------------------------------\n",
      "Intercept       4.4427      0.711      6.246      0.000       3.049       5.837\n",
      "profile_pic    -5.3280      0.720     -7.404      0.000      -6.738      -3.918\n",
      "===============================================================================\n"
     ]
    }
   ],
   "source": [
    "# removed everything but profile pic\n",
    "logreg4 = smf.logit(formula = 'fake ~ + profile_pic',\n",
    "                   data = instagram_train).fit()\n",
    "\n",
    "print(logreg4.summary())"
   ]
  },
  {
   "cell_type": "code",
   "execution_count": 21,
   "id": "cc4f99c1",
   "metadata": {},
   "outputs": [
    {
     "name": "stdout",
     "output_type": "stream",
     "text": [
      "Optimization terminated successfully.\n",
      "         Current function value: 0.442559\n",
      "         Iterations 8\n",
      "                           Logit Regression Results                           \n",
      "==============================================================================\n",
      "Dep. Variable:                   fake   No. Observations:                  576\n",
      "Model:                          Logit   Df Residuals:                      574\n",
      "Method:                           MLE   Df Model:                            1\n",
      "Date:                Fri, 05 Nov 2021   Pseudo R-squ.:                  0.3615\n",
      "Time:                        15:29:44   Log-Likelihood:                -254.91\n",
      "converged:                       True   LL-Null:                       -399.25\n",
      "Covariance Type:            nonrobust   LLR p-value:                 9.656e-65\n",
      "===============================================================================\n",
      "                  coef    std err          z      P>|z|      [0.025      0.975]\n",
      "-------------------------------------------------------------------------------\n",
      "Intercept       4.4427      0.711      6.246      0.000       3.049       5.837\n",
      "profile_pic    -5.3280      0.720     -7.404      0.000      -6.738      -3.918\n",
      "===============================================================================\n"
     ]
    }
   ],
   "source": [
    "# removed everything but profile pic\n",
    "logreg4 = smf.logit(formula = 'fake ~ + profile_pic',\n",
    "                   data = instagram_train).fit()\n",
    "\n",
    "print(logreg4.summary())"
   ]
  },
  {
   "cell_type": "code",
   "execution_count": 22,
   "id": "ccbdf211",
   "metadata": {},
   "outputs": [],
   "source": [
    "y_test = instagram_test['fake']\n",
    "\n",
    "y_prob4 = logreg4.predict(instagram_test)\n",
    "y_pred4 = pd.Series([1 if x > 0.5 else 0 for x in y_prob4], index=y_prob4.index)"
   ]
  },
  {
   "cell_type": "code",
   "execution_count": 23,
   "id": "a41bac52",
   "metadata": {},
   "outputs": [
    {
     "name": "stdout",
     "output_type": "stream",
     "text": [
      "Confusion Matrix : \n",
      " [60  0 31 29]\n",
      "Accuracy:\n"
     ]
    },
    {
     "data": {
      "text/plain": [
       "0.7416666666666667"
      ]
     },
     "execution_count": 23,
     "metadata": {},
     "output_type": "execute_result"
    }
   ],
   "source": [
    "cm4 = confusion_matrix(y_test, y_pred4).ravel()\n",
    "print (\"Confusion Matrix : \\n\", cm4)\n",
    "print(\"Accuracy:\" )\n",
    "(cm4[0]+cm4[3])/sum(cm4)"
   ]
  },
  {
   "cell_type": "markdown",
   "id": "06aec627",
   "metadata": {},
   "source": [
    "The accuracy with profile picture only is worst. So they will likely think that someone without a profile picture is a bit. This is likely due to biased bot training data. In reality, advanced bots do have profile pictures so we would likely need to collect data of more advanced bots. At least adding other features greatly improves our model to 91%."
   ]
  },
  {
   "cell_type": "code",
   "execution_count": 24,
   "id": "5444ec5b",
   "metadata": {},
   "outputs": [],
   "source": [
    "# Is the RATIO relevant? Let's add a new column, turn infinity to a large number\n",
    "instagram_train2 = instagram_train.copy()\n",
    "instagram_train2[\"following_follow_ratio\"] = instagram_train2[\"following\"] / instagram_train2[\"followers\"]\n",
    "instagram_train2.loc[instagram_train2['following_follow_ratio'] == np.inf, 'following_follow_ratio'] = 100000\n",
    "\n",
    "instagram_test2 = instagram_test.copy()\n",
    "instagram_test2[\"following_follow_ratio\"] = instagram_test2[\"following\"] / instagram_test2[\"followers\"]\n",
    "instagram_test2.loc[instagram_test2['following_follow_ratio'] == np.inf, 'following_follow_ratio'] = 100000"
   ]
  },
  {
   "cell_type": "code",
   "execution_count": 25,
   "id": "9a3812dd",
   "metadata": {},
   "outputs": [
    {
     "name": "stdout",
     "output_type": "stream",
     "text": [
      "Optimization terminated successfully.\n",
      "         Current function value: 0.228487\n",
      "         Iterations 18\n",
      "                           Logit Regression Results                           \n",
      "==============================================================================\n",
      "Dep. Variable:                   fake   No. Observations:                  573\n",
      "Model:                          Logit   Df Residuals:                      566\n",
      "Method:                           MLE   Df Model:                            6\n",
      "Date:                Fri, 05 Nov 2021   Pseudo R-squ.:                  0.6704\n",
      "Time:                        15:29:45   Log-Likelihood:                -130.92\n",
      "converged:                       True   LL-Null:                       -397.17\n",
      "Covariance Type:            nonrobust   LLR p-value:                8.417e-112\n",
      "==========================================================================================\n",
      "                             coef    std err          z      P>|z|      [0.025      0.975]\n",
      "------------------------------------------------------------------------------------------\n",
      "Intercept                  4.2174      0.967      4.361      0.000       2.322       6.113\n",
      "profile_pic               -4.9412      0.923     -5.353      0.000      -6.750      -3.132\n",
      "description_length        -0.0178      0.006     -3.151      0.002      -0.029      -0.007\n",
      "followers                 -0.0014      0.001     -2.661      0.008      -0.003      -0.000\n",
      "following               2.547e-05      0.000      0.081      0.935      -0.001       0.001\n",
      "posts                     -0.0159      0.005     -3.417      0.001      -0.025      -0.007\n",
      "following_follow_ratio     0.7160      0.147      4.868      0.000       0.428       1.004\n",
      "==========================================================================================\n",
      "\n",
      "Possibly complete quasi-separation: A fraction 0.18 of observations can be\n",
      "perfectly predicted. This might indicate that there is complete\n",
      "quasi-separation. In this case some parameters will not be identified.\n"
     ]
    },
    {
     "name": "stderr",
     "output_type": "stream",
     "text": [
      "/Users/louisbemberg/.pyenv/versions/3.8.6/envs/lewagon/lib/python3.8/site-packages/statsmodels/discrete/discrete_model.py:1810: RuntimeWarning: overflow encountered in exp\n",
      "  return 1/(1+np.exp(-X))\n",
      "/Users/louisbemberg/.pyenv/versions/3.8.6/envs/lewagon/lib/python3.8/site-packages/statsmodels/discrete/discrete_model.py:1810: RuntimeWarning: overflow encountered in exp\n",
      "  return 1/(1+np.exp(-X))\n"
     ]
    }
   ],
   "source": [
    "# Model with highest accuracy + the new 'ratio' column\n",
    "logreg5 = smf.logit(formula = 'fake ~ profile_pic + description_length + followers + following + posts + following_follow_ratio',\n",
    "                   data = instagram_train2).fit()\n",
    "\n",
    "print(logreg5.summary())"
   ]
  },
  {
   "cell_type": "code",
   "execution_count": 26,
   "id": "f218119a",
   "metadata": {},
   "outputs": [],
   "source": [
    "y_test = instagram_test2['fake']\n",
    "\n",
    "y_prob5 = logreg5.predict(instagram_test2)\n",
    "y_pred5 = pd.Series([1 if x > 0.5 else 0 for x in y_prob5], index=y_prob5.index)"
   ]
  },
  {
   "cell_type": "code",
   "execution_count": 27,
   "id": "bf2dc5f1",
   "metadata": {},
   "outputs": [
    {
     "name": "stdout",
     "output_type": "stream",
     "text": [
      "Confusion Matrix : \n",
      " [56  4 10 50]\n",
      "Accuracy:\n"
     ]
    },
    {
     "data": {
      "text/plain": [
       "0.8833333333333333"
      ]
     },
     "execution_count": 27,
     "metadata": {},
     "output_type": "execute_result"
    }
   ],
   "source": [
    "cm5 = confusion_matrix(y_test, y_pred5).ravel()\n",
    "print (\"Confusion Matrix : \\n\", cm5)\n",
    "print(\"Accuracy:\" )\n",
    "(cm5[0]+cm5[3])/sum(cm5)"
   ]
  },
  {
   "cell_type": "code",
   "execution_count": 28,
   "id": "490fb50b",
   "metadata": {},
   "outputs": [],
   "source": [
    "# Checking VIF of those new columns:\n",
    "import statsmodels.api as sm\n",
    "from statsmodels.stats.outliers_influence import variance_inflation_factor\n",
    "\n",
    "# define a function to compute VIFs:\n",
    "def VIF(df, columns):\n",
    "    values = sm.add_constant(df[columns]).values  \n",
    "    num_columns = len(columns)+1\n",
    "    vif = [variance_inflation_factor(values, i) for i in range(num_columns)]\n",
    "    \n",
    "    return pd.Series(vif[1:], index=columns)"
   ]
  },
  {
   "cell_type": "code",
   "execution_count": 29,
   "id": "a54ebaf2",
   "metadata": {},
   "outputs": [
    {
     "name": "stderr",
     "output_type": "stream",
     "text": [
      "/Users/louisbemberg/.pyenv/versions/3.8.6/envs/lewagon/lib/python3.8/site-packages/statsmodels/tsa/tsatools.py:142: FutureWarning: In a future version of pandas all arguments of concat except for the argument 'objs' will be keyword-only\n",
      "  x = pd.concat(x[::order], 1)\n"
     ]
    },
    {
     "data": {
      "text/plain": [
       "followers                 1.119660\n",
       "following                 1.074109\n",
       "following_follow_ratio    1.027116\n",
       "profile_pic               1.209544\n",
       "description_length        1.199180\n",
       "posts                     1.160064\n",
       "dtype: float64"
      ]
     },
     "execution_count": 29,
     "metadata": {},
     "output_type": "execute_result"
    }
   ],
   "source": [
    "cols = ['followers', 'following', 'following_follow_ratio', 'profile_pic', 'description_length', 'posts']\n",
    "instagram_train2 = instagram_train2.dropna()\n",
    "VIF(instagram_train2, cols)"
   ]
  },
  {
   "cell_type": "code",
   "execution_count": 30,
   "id": "1e347564",
   "metadata": {},
   "outputs": [
    {
     "name": "stdout",
     "output_type": "stream",
     "text": [
      "Optimization terminated successfully    (Exit mode 0)\n",
      "            Current function value: 0.27297924675976243\n",
      "            Iterations: 43\n",
      "            Function evaluations: 67\n",
      "            Gradient evaluations: 43\n",
      "                           Logit Regression Results                           \n",
      "==============================================================================\n",
      "Dep. Variable:                   fake   No. Observations:                  576\n",
      "Model:                          Logit   Df Residuals:                      570\n",
      "Method:                           MLE   Df Model:                            5\n",
      "Date:                Fri, 05 Nov 2021   Pseudo R-squ.:                  0.6062\n",
      "Time:                        15:29:45   Log-Likelihood:                -157.24\n",
      "converged:                       True   LL-Null:                       -399.25\n",
      "Covariance Type:            nonrobust   LLR p-value:                2.230e-102\n",
      "======================================================================================\n",
      "                         coef    std err          z      P>|z|      [0.025      0.975]\n",
      "--------------------------------------------------------------------------------------\n",
      "Intercept              7.0303      1.899      3.701      0.000       3.308      10.753\n",
      "profile_pic           -6.2259      1.877     -3.318      0.001      -9.904      -2.548\n",
      "description_length    -0.0149      0.005     -3.154      0.002      -0.024      -0.006\n",
      "followers             -0.0034      0.001     -5.134      0.000      -0.005      -0.002\n",
      "following              0.0010      0.000      4.185      0.000       0.001       0.001\n",
      "posts                 -0.0155      0.004     -3.720      0.000      -0.024      -0.007\n",
      "======================================================================================\n",
      "\n",
      "Possibly complete quasi-separation: A fraction 0.13 of observations can be\n",
      "perfectly predicted. This might indicate that there is complete\n",
      "quasi-separation. In this case some parameters will not be identified.\n"
     ]
    },
    {
     "name": "stderr",
     "output_type": "stream",
     "text": [
      "/Users/louisbemberg/.pyenv/versions/3.8.6/envs/lewagon/lib/python3.8/site-packages/statsmodels/discrete/discrete_model.py:1810: RuntimeWarning: overflow encountered in exp\n",
      "  return 1/(1+np.exp(-X))\n",
      "/Users/louisbemberg/.pyenv/versions/3.8.6/envs/lewagon/lib/python3.8/site-packages/statsmodels/discrete/discrete_model.py:1863: RuntimeWarning: divide by zero encountered in log\n",
      "  return np.sum(np.log(self.cdf(q*np.dot(X,params))))\n",
      "/Users/louisbemberg/.pyenv/versions/3.8.6/envs/lewagon/lib/python3.8/site-packages/statsmodels/discrete/discrete_model.py:1810: RuntimeWarning: overflow encountered in exp\n",
      "  return 1/(1+np.exp(-X))\n"
     ]
    }
   ],
   "source": [
    "# trying regularization\n",
    "logreg6 = smf.logit(formula = 'fake ~ profile_pic + description_length + followers + following + posts',\n",
    "                   data = instagram_train).fit_regularized(L1_wt=0.001)\n",
    "\n",
    "print(logreg6.summary())"
   ]
  },
  {
   "cell_type": "code",
   "execution_count": 31,
   "id": "33db78a6",
   "metadata": {},
   "outputs": [],
   "source": [
    "y_test = instagram_test['fake']\n",
    "\n",
    "y_prob6 = logreg6.predict(instagram_test)\n",
    "y_pred6 = pd.Series([1 if x > 0.5 else 0 for x in y_prob6], index=y_prob6.index)"
   ]
  },
  {
   "cell_type": "code",
   "execution_count": 32,
   "id": "34b26582",
   "metadata": {},
   "outputs": [
    {
     "name": "stdout",
     "output_type": "stream",
     "text": [
      "Confusion Matrix : \n",
      " [54  6  5 55]\n",
      "Accuracy:\n"
     ]
    },
    {
     "data": {
      "text/plain": [
       "0.9083333333333333"
      ]
     },
     "execution_count": 32,
     "metadata": {},
     "output_type": "execute_result"
    }
   ],
   "source": [
    "cm6 = confusion_matrix(y_test, y_pred6).ravel()\n",
    "print (\"Confusion Matrix : \\n\", cm6)\n",
    "print(\"Accuracy:\" )\n",
    "(cm6[0]+cm6[3])/sum(cm6)"
   ]
  },
  {
   "cell_type": "markdown",
   "id": "1dd257ce",
   "metadata": {},
   "source": [
    "## Re-writing the model in Scikit-learn"
   ]
  },
  {
   "cell_type": "code",
   "execution_count": 33,
   "id": "301d726b",
   "metadata": {},
   "outputs": [],
   "source": [
    "from sklearn.linear_model import LogisticRegression\n",
    "\n",
    "y_train = instagram_train['fake']\n",
    "x_train = instagram_train[['profile_pic', 'description_length', 'followers', 'following', 'posts']]\n",
    "\n",
    "y_test = instagram_test['fake']\n",
    "x_test = instagram_test[['profile_pic', 'description_length', 'followers', 'following', 'posts']]"
   ]
  },
  {
   "cell_type": "code",
   "execution_count": 34,
   "id": "8daa6cac",
   "metadata": {},
   "outputs": [
    {
     "data": {
      "text/html": [
       "<div>\n",
       "<style scoped>\n",
       "    .dataframe tbody tr th:only-of-type {\n",
       "        vertical-align: middle;\n",
       "    }\n",
       "\n",
       "    .dataframe tbody tr th {\n",
       "        vertical-align: top;\n",
       "    }\n",
       "\n",
       "    .dataframe thead th {\n",
       "        text-align: right;\n",
       "    }\n",
       "</style>\n",
       "<table border=\"1\" class=\"dataframe\">\n",
       "  <thead>\n",
       "    <tr style=\"text-align: right;\">\n",
       "      <th></th>\n",
       "      <th>profile_pic</th>\n",
       "      <th>description_length</th>\n",
       "      <th>followers</th>\n",
       "      <th>following</th>\n",
       "      <th>posts</th>\n",
       "    </tr>\n",
       "  </thead>\n",
       "  <tbody>\n",
       "    <tr>\n",
       "      <th>0</th>\n",
       "      <td>1</td>\n",
       "      <td>53</td>\n",
       "      <td>1000</td>\n",
       "      <td>955</td>\n",
       "      <td>32</td>\n",
       "    </tr>\n",
       "    <tr>\n",
       "      <th>1</th>\n",
       "      <td>1</td>\n",
       "      <td>44</td>\n",
       "      <td>2740</td>\n",
       "      <td>533</td>\n",
       "      <td>286</td>\n",
       "    </tr>\n",
       "    <tr>\n",
       "      <th>2</th>\n",
       "      <td>1</td>\n",
       "      <td>0</td>\n",
       "      <td>159</td>\n",
       "      <td>98</td>\n",
       "      <td>13</td>\n",
       "    </tr>\n",
       "    <tr>\n",
       "      <th>3</th>\n",
       "      <td>1</td>\n",
       "      <td>82</td>\n",
       "      <td>414</td>\n",
       "      <td>651</td>\n",
       "      <td>679</td>\n",
       "    </tr>\n",
       "    <tr>\n",
       "      <th>4</th>\n",
       "      <td>1</td>\n",
       "      <td>0</td>\n",
       "      <td>151</td>\n",
       "      <td>126</td>\n",
       "      <td>6</td>\n",
       "    </tr>\n",
       "    <tr>\n",
       "      <th>...</th>\n",
       "      <td>...</td>\n",
       "      <td>...</td>\n",
       "      <td>...</td>\n",
       "      <td>...</td>\n",
       "      <td>...</td>\n",
       "    </tr>\n",
       "    <tr>\n",
       "      <th>571</th>\n",
       "      <td>1</td>\n",
       "      <td>0</td>\n",
       "      <td>166</td>\n",
       "      <td>596</td>\n",
       "      <td>33</td>\n",
       "    </tr>\n",
       "    <tr>\n",
       "      <th>572</th>\n",
       "      <td>1</td>\n",
       "      <td>21</td>\n",
       "      <td>66</td>\n",
       "      <td>75</td>\n",
       "      <td>44</td>\n",
       "    </tr>\n",
       "    <tr>\n",
       "      <th>573</th>\n",
       "      <td>1</td>\n",
       "      <td>0</td>\n",
       "      <td>96</td>\n",
       "      <td>339</td>\n",
       "      <td>4</td>\n",
       "    </tr>\n",
       "    <tr>\n",
       "      <th>574</th>\n",
       "      <td>1</td>\n",
       "      <td>11</td>\n",
       "      <td>57</td>\n",
       "      <td>73</td>\n",
       "      <td>0</td>\n",
       "    </tr>\n",
       "    <tr>\n",
       "      <th>575</th>\n",
       "      <td>1</td>\n",
       "      <td>0</td>\n",
       "      <td>150</td>\n",
       "      <td>487</td>\n",
       "      <td>2</td>\n",
       "    </tr>\n",
       "  </tbody>\n",
       "</table>\n",
       "<p>576 rows × 5 columns</p>\n",
       "</div>"
      ],
      "text/plain": [
       "     profile_pic  description_length  followers  following  posts\n",
       "0              1                  53       1000        955     32\n",
       "1              1                  44       2740        533    286\n",
       "2              1                   0        159         98     13\n",
       "3              1                  82        414        651    679\n",
       "4              1                   0        151        126      6\n",
       "..           ...                 ...        ...        ...    ...\n",
       "571            1                   0        166        596     33\n",
       "572            1                  21         66         75     44\n",
       "573            1                   0         96        339      4\n",
       "574            1                  11         57         73      0\n",
       "575            1                   0        150        487      2\n",
       "\n",
       "[576 rows x 5 columns]"
      ]
     },
     "execution_count": 34,
     "metadata": {},
     "output_type": "execute_result"
    }
   ],
   "source": [
    "x_train"
   ]
  },
  {
   "cell_type": "code",
   "execution_count": 35,
   "id": "5021455f",
   "metadata": {},
   "outputs": [
    {
     "name": "stdout",
     "output_type": "stream",
     "text": [
      "[(-3.258129913569952, 'profile_pic'), (-0.015864234632509844, 'description_length'), (-0.0032253049656993014, 'followers'), (0.0009214683826714231, 'following'), (-0.016003568746048906, 'posts')]\n"
     ]
    }
   ],
   "source": [
    "logistic_regression = LogisticRegression(C=1)\n",
    "logistic_regression.fit(x_train, y_train)\n",
    "logistic_regression.coef_\n",
    "print(list(zip(logistic_regression.coef_[0], ['profile_pic', 'description_length', 'followers', 'following', 'posts'])))"
   ]
  },
  {
   "cell_type": "code",
   "execution_count": 36,
   "id": "b6ae16fb",
   "metadata": {
    "scrolled": true
   },
   "outputs": [
    {
     "data": {
      "text/plain": [
       "0.875"
      ]
     },
     "execution_count": 36,
     "metadata": {},
     "output_type": "execute_result"
    }
   ],
   "source": [
    "from sklearn.metrics import accuracy_score\n",
    "\n",
    "y_pred = logistic_regression.predict(x_test)\n",
    "accuracy_score(y_test, y_pred)"
   ]
  },
  {
   "cell_type": "markdown",
   "id": "41fb88cd",
   "metadata": {},
   "source": [
    "## Evaluation of coefficients as C (regularization) ranges from 1 to 0"
   ]
  },
  {
   "cell_type": "code",
   "execution_count": 47,
   "id": "5f3a899f",
   "metadata": {},
   "outputs": [
    {
     "ename": "ValueError",
     "evalue": "Solver lbfgs supports only 'l2' or 'none' penalties, got l1 penalty.",
     "output_type": "error",
     "traceback": [
      "\u001b[0;31m---------------------------------------------------------------------------\u001b[0m",
      "\u001b[0;31mValueError\u001b[0m                                Traceback (most recent call last)",
      "\u001b[0;32m/var/folders/v3/1kz7xjcj2yb31_35s_2dbd0r0000gn/T/ipykernel_9717/4042517585.py\u001b[0m in \u001b[0;36m<module>\u001b[0;34m\u001b[0m\n\u001b[1;32m      7\u001b[0m \u001b[0;32mfor\u001b[0m \u001b[0mc\u001b[0m \u001b[0;32min\u001b[0m \u001b[0mc_ranges\u001b[0m\u001b[0;34m:\u001b[0m\u001b[0;34m\u001b[0m\u001b[0;34m\u001b[0m\u001b[0m\n\u001b[1;32m      8\u001b[0m     \u001b[0mlogistic_regression2\u001b[0m \u001b[0;34m=\u001b[0m \u001b[0mLogisticRegression\u001b[0m\u001b[0;34m(\u001b[0m\u001b[0mC\u001b[0m\u001b[0;34m=\u001b[0m\u001b[0mc\u001b[0m\u001b[0;34m,\u001b[0m \u001b[0mpenalty\u001b[0m\u001b[0;34m=\u001b[0m\u001b[0;34m\"l1\"\u001b[0m\u001b[0;34m)\u001b[0m\u001b[0;34m\u001b[0m\u001b[0;34m\u001b[0m\u001b[0m\n\u001b[0;32m----> 9\u001b[0;31m     \u001b[0mlogistic_regression2\u001b[0m\u001b[0;34m.\u001b[0m\u001b[0mfit\u001b[0m\u001b[0;34m(\u001b[0m\u001b[0mx_train\u001b[0m\u001b[0;34m,\u001b[0m \u001b[0my_train\u001b[0m\u001b[0;34m)\u001b[0m\u001b[0;34m\u001b[0m\u001b[0;34m\u001b[0m\u001b[0m\n\u001b[0m\u001b[1;32m     10\u001b[0m     \u001b[0mcoefs\u001b[0m \u001b[0;34m=\u001b[0m \u001b[0mlogistic_regression2\u001b[0m\u001b[0;34m.\u001b[0m\u001b[0mcoef_\u001b[0m\u001b[0;34m[\u001b[0m\u001b[0;36m0\u001b[0m\u001b[0;34m]\u001b[0m\u001b[0;34m\u001b[0m\u001b[0;34m\u001b[0m\u001b[0m\n\u001b[1;32m     11\u001b[0m     \u001b[0mprofile_pic_coefs\u001b[0m\u001b[0;34m.\u001b[0m\u001b[0mappend\u001b[0m\u001b[0;34m(\u001b[0m\u001b[0mcoefs\u001b[0m\u001b[0;34m[\u001b[0m\u001b[0;36m0\u001b[0m\u001b[0;34m]\u001b[0m\u001b[0;34m)\u001b[0m\u001b[0;34m\u001b[0m\u001b[0;34m\u001b[0m\u001b[0m\n",
      "\u001b[0;32m~/.pyenv/versions/3.8.6/envs/lewagon/lib/python3.8/site-packages/sklearn/linear_model/_logistic.py\u001b[0m in \u001b[0;36mfit\u001b[0;34m(self, X, y, sample_weight)\u001b[0m\n\u001b[1;32m   1304\u001b[0m         \u001b[0mThe\u001b[0m \u001b[0mSAGA\u001b[0m \u001b[0msolver\u001b[0m \u001b[0msupports\u001b[0m \u001b[0mboth\u001b[0m \u001b[0mfloat64\u001b[0m \u001b[0;32mand\u001b[0m \u001b[0mfloat32\u001b[0m \u001b[0mbit\u001b[0m \u001b[0marrays\u001b[0m\u001b[0;34m.\u001b[0m\u001b[0;34m\u001b[0m\u001b[0;34m\u001b[0m\u001b[0m\n\u001b[1;32m   1305\u001b[0m         \"\"\"\n\u001b[0;32m-> 1306\u001b[0;31m         \u001b[0msolver\u001b[0m \u001b[0;34m=\u001b[0m \u001b[0m_check_solver\u001b[0m\u001b[0;34m(\u001b[0m\u001b[0mself\u001b[0m\u001b[0;34m.\u001b[0m\u001b[0msolver\u001b[0m\u001b[0;34m,\u001b[0m \u001b[0mself\u001b[0m\u001b[0;34m.\u001b[0m\u001b[0mpenalty\u001b[0m\u001b[0;34m,\u001b[0m \u001b[0mself\u001b[0m\u001b[0;34m.\u001b[0m\u001b[0mdual\u001b[0m\u001b[0;34m)\u001b[0m\u001b[0;34m\u001b[0m\u001b[0;34m\u001b[0m\u001b[0m\n\u001b[0m\u001b[1;32m   1307\u001b[0m \u001b[0;34m\u001b[0m\u001b[0m\n\u001b[1;32m   1308\u001b[0m         \u001b[0;32mif\u001b[0m \u001b[0;32mnot\u001b[0m \u001b[0misinstance\u001b[0m\u001b[0;34m(\u001b[0m\u001b[0mself\u001b[0m\u001b[0;34m.\u001b[0m\u001b[0mC\u001b[0m\u001b[0;34m,\u001b[0m \u001b[0mnumbers\u001b[0m\u001b[0;34m.\u001b[0m\u001b[0mNumber\u001b[0m\u001b[0;34m)\u001b[0m \u001b[0;32mor\u001b[0m \u001b[0mself\u001b[0m\u001b[0;34m.\u001b[0m\u001b[0mC\u001b[0m \u001b[0;34m<\u001b[0m \u001b[0;36m0\u001b[0m\u001b[0;34m:\u001b[0m\u001b[0;34m\u001b[0m\u001b[0;34m\u001b[0m\u001b[0m\n",
      "\u001b[0;32m~/.pyenv/versions/3.8.6/envs/lewagon/lib/python3.8/site-packages/sklearn/linear_model/_logistic.py\u001b[0m in \u001b[0;36m_check_solver\u001b[0;34m(solver, penalty, dual)\u001b[0m\n\u001b[1;32m    441\u001b[0m \u001b[0;34m\u001b[0m\u001b[0m\n\u001b[1;32m    442\u001b[0m     \u001b[0;32mif\u001b[0m \u001b[0msolver\u001b[0m \u001b[0;32mnot\u001b[0m \u001b[0;32min\u001b[0m \u001b[0;34m[\u001b[0m\u001b[0;34m'liblinear'\u001b[0m\u001b[0;34m,\u001b[0m \u001b[0;34m'saga'\u001b[0m\u001b[0;34m]\u001b[0m \u001b[0;32mand\u001b[0m \u001b[0mpenalty\u001b[0m \u001b[0;32mnot\u001b[0m \u001b[0;32min\u001b[0m \u001b[0;34m(\u001b[0m\u001b[0;34m'l2'\u001b[0m\u001b[0;34m,\u001b[0m \u001b[0;34m'none'\u001b[0m\u001b[0;34m)\u001b[0m\u001b[0;34m:\u001b[0m\u001b[0;34m\u001b[0m\u001b[0;34m\u001b[0m\u001b[0m\n\u001b[0;32m--> 443\u001b[0;31m         raise ValueError(\"Solver %s supports only 'l2' or 'none' penalties, \"\n\u001b[0m\u001b[1;32m    444\u001b[0m                          \"got %s penalty.\" % (solver, penalty))\n\u001b[1;32m    445\u001b[0m     \u001b[0;32mif\u001b[0m \u001b[0msolver\u001b[0m \u001b[0;34m!=\u001b[0m \u001b[0;34m'liblinear'\u001b[0m \u001b[0;32mand\u001b[0m \u001b[0mdual\u001b[0m\u001b[0;34m:\u001b[0m\u001b[0;34m\u001b[0m\u001b[0;34m\u001b[0m\u001b[0m\n",
      "\u001b[0;31mValueError\u001b[0m: Solver lbfgs supports only 'l2' or 'none' penalties, got l1 penalty."
     ]
    }
   ],
   "source": [
    "c_ranges = np.linspace(1,0.01,100)\n",
    "profile_pic_coefs = []\n",
    "description_length_coefs = []\n",
    "followers_coefs = []\n",
    "posts_coefs = []\n",
    "following_coefs = []\n",
    "for c in c_ranges:\n",
    "    logistic_regression2 = LogisticRegression(C=c, penalty=\"l1\", solver=\"liblinear\")\n",
    "    logistic_regression2.fit(x_train, y_train)\n",
    "    coefs = logistic_regression2.coef_[0]\n",
    "    profile_pic_coefs.append(coefs[0])\n",
    "    description_length_coefs.append(coefs[1])\n",
    "    followers_coefs.append(coefs[2])\n",
    "    posts_coefs.append(coefs[3])\n",
    "    following_coefs.append(coefs[4])"
   ]
  },
  {
   "cell_type": "code",
   "execution_count": 38,
   "id": "127394f5",
   "metadata": {},
   "outputs": [
    {
     "data": {
      "image/png": "[encoded data removed]",
      "text/plain": [
       "<Figure size 432x288 with 1 Axes>"
      ]
     },
     "metadata": {
      "needs_background": "light"
     },
     "output_type": "display_data"
    }
   ],
   "source": [
    "import matplotlib.pyplot as plt\n",
    "\n",
    "x = c_ranges\n",
    "y1 = profile_pic_coefs\n",
    "y2 = description_length_coefs\n",
    "y3 = followers_coefs\n",
    "y4 = posts_coefs\n",
    "y5 = following_coefs\n",
    "\n",
    "# plt.scatter(x, y1, c='red')\n",
    "plt.scatter(x, y2, c='blue')\n",
    "plt.scatter(x, y3, c='yellow')\n",
    "plt.scatter(x, y4, c='green')\n",
    "plt.scatter(x, y5, c='purple')\n",
    "plt.show()"
   ]
  },
  {
   "cell_type": "code",
   "execution_count": 46,
   "id": "62c20422",
   "metadata": {},
   "outputs": [
    {
     "data": {
      "image/png": "[encoded data removed]",
      "text/plain": [
       "<Figure size 432x288 with 1 Axes>"
      ]
     },
     "metadata": {
      "needs_background": "light"
     },
     "output_type": "display_data"
    }
   ],
   "source": [
    "import matplotlib.pyplot as plt\n",
    "\n",
    "x = [1/c for c in c_ranges]\n",
    "y1 = profile_pic_coefs\n",
    "y2 = description_length_coefs\n",
    "y3 = followers_coefs\n",
    "y4 = posts_coefs\n",
    "y5 = following_coefs\n",
    "\n",
    "# plt.scatter(x, y1, c='red')\n",
    "plt.plot(x, y2, c='blue')\n",
    "plt.plot(x, y3, c='yellow')\n",
    "plt.plot(x, y4, c='green')\n",
    "plt.plot(x, y5, c='purple')\n",
    "plt.show()"
   ]
  },
  {
   "cell_type": "code",
   "execution_count": 40,
   "id": "7fc12fb5",
   "metadata": {},
   "outputs": [
    {
     "data": {
      "text/plain": [
       "<matplotlib.collections.PathCollection at 0x1498d6130>"
      ]
     },
     "execution_count": 40,
     "metadata": {},
     "output_type": "execute_result"
    },
    {
     "data": {
      "image/png": "[encoded data removed]",
      "text/plain": [
       "<Figure size 432x288 with 1 Axes>"
      ]
     },
     "metadata": {
      "needs_background": "light"
     },
     "output_type": "display_data"
    }
   ],
   "source": [
    "x = c_ranges\n",
    "y1 = profile_pic_coefs\n",
    "\n",
    "plt.scatter(x, y1, c='red')"
   ]
  },
  {
   "cell_type": "code",
   "execution_count": 41,
   "id": "ec12edfc",
   "metadata": {},
   "outputs": [
    {
     "data": {
      "text/plain": [
       "<matplotlib.collections.PathCollection at 0x149a108b0>"
      ]
     },
     "execution_count": 41,
     "metadata": {},
     "output_type": "execute_result"
    },
    {
     "data": {
      "image/png": "[encoded data removed]",
      "text/plain": [
       "<Figure size 432x288 with 1 Axes>"
      ]
     },
     "metadata": {
      "needs_background": "light"
     },
     "output_type": "display_data"
    }
   ],
   "source": [
    "x = [1/c for c in c_ranges]\n",
    "y1 = profile_pic_coefs\n",
    "\n",
    "plt.scatter(x, y1, c='red')"
   ]
  },
  {
   "cell_type": "markdown",
   "id": "993d5b33",
   "metadata": {},
   "source": [
    "## Support Vector Machines"
   ]
  },
  {
   "cell_type": "code",
   "execution_count": 42,
   "id": "5b50ff1c",
   "metadata": {},
   "outputs": [],
   "source": [
    "from sklearn import svm\n",
    "\n",
    "linear_svm = svm.SVC(kernel='linear')"
   ]
  },
  {
   "cell_type": "code",
   "execution_count": 43,
   "id": "75aee3ce",
   "metadata": {},
   "outputs": [],
   "source": [
    "linear_svm = linear_svm.fit(x_train, y_train)"
   ]
  },
  {
   "cell_type": "code",
   "execution_count": 44,
   "id": "adc11336",
   "metadata": {},
   "outputs": [],
   "source": [
    "linear_svm_pred = linear_svm.predict(x_test)"
   ]
  },
  {
   "cell_type": "code",
   "execution_count": 45,
   "id": "6fc9ab86",
   "metadata": {},
   "outputs": [
    {
     "data": {
      "text/plain": [
       "0.8333333333333334"
      ]
     },
     "execution_count": 45,
     "metadata": {},
     "output_type": "execute_result"
    }
   ],
   "source": [
    "accuracy_score(y_test, linear_svm_pred)"
   ]
  }
 ],
 "metadata": {
  "kernelspec": {
   "display_name": "Python 3 (ipykernel)",
   "language": "python",
   "name": "python3"
  },
  "language_info": {
   "codemirror_mode": {
    "name": "ipython",
    "version": 3
   },
   "file_extension": ".py",
   "mimetype": "text/x-python",
   "name": "python",
   "nbconvert_exporter": "python",
   "pygments_lexer": "ipython3",
   "version": "3.8.6"
  },
  "toc": {
   "base_numbering": 1,
   "nav_menu": {},
   "number_sections": false,
   "sideBar": true,
   "skip_h1_title": false,
   "title_cell": "Table of Contents",
   "title_sidebar": "Contents",
   "toc_cell": false,
   "toc_position": {
    "height": "calc(100% - 180px)",
    "left": "10px",
    "top": "150px",
    "width": "252.727px"
   },
   "toc_section_display": true,
   "toc_window_display": true
  }
 },
 "nbformat": 4,
 "nbformat_minor": 5
}
