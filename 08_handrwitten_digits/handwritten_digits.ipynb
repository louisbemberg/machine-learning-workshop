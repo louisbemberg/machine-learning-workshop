{
 "cells": [
  {
   "cell_type": "code",
   "execution_count": 1,
   "id": "3ef992ea",
   "metadata": {},
   "outputs": [],
   "source": [
    "import matplotlib.pyplot as plt\n",
    "import numpy as np\n",
    "from keras.datasets import mnist\n",
    "from keras.models import Sequential\n",
    "from keras.layers import Dense\n",
    "from keras.layers import Dropout\n",
    "from keras.utils import np_utils"
   ]
  },
  {
   "cell_type": "markdown",
   "id": "f2a63d3a",
   "metadata": {},
   "source": [
    "# Loading the data"
   ]
  },
  {
   "cell_type": "code",
   "execution_count": 2,
   "id": "929d4195",
   "metadata": {},
   "outputs": [],
   "source": [
    "# the MNIST dataset is part of the keras package, so we can load it directly from there:\n",
    "from keras.datasets import mnist\n",
    "\n",
    "(X_train, y_train), (X_test, y_test) = mnist.load_data()"
   ]
  },
  {
   "cell_type": "markdown",
   "id": "96f19620",
   "metadata": {},
   "source": [
    "# Inspecting the data"
   ]
  },
  {
   "cell_type": "code",
   "execution_count": 3,
   "id": "a1adae97",
   "metadata": {},
   "outputs": [
    {
     "name": "stdout",
     "output_type": "stream",
     "text": [
      "Training Set Images: 60000\n",
      "Testing Set Images: 10000\n"
     ]
    }
   ],
   "source": [
    "# How much data do we have? \n",
    "print(\"Training Set Images:\", len(y_train))\n",
    "print(\"Testing Set Images:\", len(X_test))"
   ]
  },
  {
   "cell_type": "code",
   "execution_count": 4,
   "id": "51647c46",
   "metadata": {},
   "outputs": [
    {
     "data": {
      "text/plain": [
       "array([[[0, 0, 0, ..., 0, 0, 0],\n",
       "        [0, 0, 0, ..., 0, 0, 0],\n",
       "        [0, 0, 0, ..., 0, 0, 0],\n",
       "        ...,\n",
       "        [0, 0, 0, ..., 0, 0, 0],\n",
       "        [0, 0, 0, ..., 0, 0, 0],\n",
       "        [0, 0, 0, ..., 0, 0, 0]],\n",
       "\n",
       "       [[0, 0, 0, ..., 0, 0, 0],\n",
       "        [0, 0, 0, ..., 0, 0, 0],\n",
       "        [0, 0, 0, ..., 0, 0, 0],\n",
       "        ...,\n",
       "        [0, 0, 0, ..., 0, 0, 0],\n",
       "        [0, 0, 0, ..., 0, 0, 0],\n",
       "        [0, 0, 0, ..., 0, 0, 0]],\n",
       "\n",
       "       [[0, 0, 0, ..., 0, 0, 0],\n",
       "        [0, 0, 0, ..., 0, 0, 0],\n",
       "        [0, 0, 0, ..., 0, 0, 0],\n",
       "        ...,\n",
       "        [0, 0, 0, ..., 0, 0, 0],\n",
       "        [0, 0, 0, ..., 0, 0, 0],\n",
       "        [0, 0, 0, ..., 0, 0, 0]],\n",
       "\n",
       "       ...,\n",
       "\n",
       "       [[0, 0, 0, ..., 0, 0, 0],\n",
       "        [0, 0, 0, ..., 0, 0, 0],\n",
       "        [0, 0, 0, ..., 0, 0, 0],\n",
       "        ...,\n",
       "        [0, 0, 0, ..., 0, 0, 0],\n",
       "        [0, 0, 0, ..., 0, 0, 0],\n",
       "        [0, 0, 0, ..., 0, 0, 0]],\n",
       "\n",
       "       [[0, 0, 0, ..., 0, 0, 0],\n",
       "        [0, 0, 0, ..., 0, 0, 0],\n",
       "        [0, 0, 0, ..., 0, 0, 0],\n",
       "        ...,\n",
       "        [0, 0, 0, ..., 0, 0, 0],\n",
       "        [0, 0, 0, ..., 0, 0, 0],\n",
       "        [0, 0, 0, ..., 0, 0, 0]],\n",
       "\n",
       "       [[0, 0, 0, ..., 0, 0, 0],\n",
       "        [0, 0, 0, ..., 0, 0, 0],\n",
       "        [0, 0, 0, ..., 0, 0, 0],\n",
       "        ...,\n",
       "        [0, 0, 0, ..., 0, 0, 0],\n",
       "        [0, 0, 0, ..., 0, 0, 0],\n",
       "        [0, 0, 0, ..., 0, 0, 0]]], dtype=uint8)"
      ]
     },
     "execution_count": 4,
     "metadata": {},
     "output_type": "execute_result"
    }
   ],
   "source": [
    "# What do the data look like?\n",
    "X_train"
   ]
  },
  {
   "cell_type": "code",
   "execution_count": 5,
   "id": "7e7fa510",
   "metadata": {},
   "outputs": [
    {
     "data": {
      "text/plain": [
       "array([5, 0, 4, ..., 5, 6, 8], dtype=uint8)"
      ]
     },
     "execution_count": 5,
     "metadata": {},
     "output_type": "execute_result"
    }
   ],
   "source": [
    "# What does the dependent (target) variable look like?\n",
    "y_train"
   ]
  },
  {
   "cell_type": "code",
   "execution_count": 6,
   "id": "851001f0",
   "metadata": {},
   "outputs": [
    {
     "data": {
      "text/plain": [
       "(60000,)"
      ]
     },
     "execution_count": 6,
     "metadata": {},
     "output_type": "execute_result"
    }
   ],
   "source": [
    "y_train.shape"
   ]
  },
  {
   "cell_type": "code",
   "execution_count": 7,
   "id": "c6b3f3c8",
   "metadata": {},
   "outputs": [
    {
     "data": {
      "text/plain": [
       "(60000, 28, 28)"
      ]
     },
     "execution_count": 7,
     "metadata": {},
     "output_type": "execute_result"
    }
   ],
   "source": [
    "X_train.shape"
   ]
  },
  {
   "cell_type": "code",
   "execution_count": 8,
   "id": "9ea23c3a",
   "metadata": {},
   "outputs": [
    {
     "data": {
      "text/plain": [
       "(28, 28)"
      ]
     },
     "execution_count": 8,
     "metadata": {},
     "output_type": "execute_result"
    }
   ],
   "source": [
    "# How many pixels per image?\n",
    "X_train[0].shape"
   ]
  },
  {
   "cell_type": "code",
   "execution_count": 9,
   "id": "542883af",
   "metadata": {},
   "outputs": [
    {
     "data": {
      "text/plain": [
       "784"
      ]
     },
     "execution_count": 9,
     "metadata": {},
     "output_type": "execute_result"
    }
   ],
   "source": [
    "# 28x28. this means our total amount of pixels is:\n",
    "total_pixels = X_train[0].shape[0] * X_train[0].shape[1]\n",
    "total_pixels"
   ]
  },
  {
   "cell_type": "code",
   "execution_count": 10,
   "id": "fc80c996",
   "metadata": {},
   "outputs": [
    {
     "data": {
      "text/plain": [
       "array([  0,   1,   2,   3,   9,  11,  14,  16,  18,  23,  24,  25,  26,\n",
       "        27,  30,  35,  36,  39,  43,  45,  46,  49,  55,  56,  64,  66,\n",
       "        70,  78,  80,  81,  82,  90,  93,  94, 107, 108, 114, 119, 126,\n",
       "       127, 130, 132, 133, 135, 136, 139, 148, 150, 154, 156, 160, 166,\n",
       "       170, 171, 172, 175, 182, 183, 186, 187, 190, 195, 198, 201, 205,\n",
       "       207, 212, 213, 219, 221, 225, 226, 229, 238, 240, 241, 242, 244,\n",
       "       247, 249, 250, 251, 252, 253, 255], dtype=uint8)"
      ]
     },
     "execution_count": 10,
     "metadata": {},
     "output_type": "execute_result"
    }
   ],
   "source": [
    "# How are colors represented? => HEX from 0 to 255\n",
    "np.unique(X_train[0])"
   ]
  },
  {
   "cell_type": "code",
   "execution_count": 11,
   "id": "fc987db5",
   "metadata": {},
   "outputs": [
    {
     "data": {
      "image/png": "[encoded data removed]",
      "text/plain": [
       "<Figure size 432x288 with 1 Axes>"
      ]
     },
     "metadata": {
      "needs_background": "light"
     },
     "output_type": "display_data"
    },
    {
     "data": {
      "image/png": "[encoded data removed]",
      "text/plain": [
       "<Figure size 432x288 with 1 Axes>"
      ]
     },
     "metadata": {
      "needs_background": "light"
     },
     "output_type": "display_data"
    },
    {
     "data": {
      "image/png": "[encoded data removed]",
      "text/plain": [
       "<Figure size 432x288 with 1 Axes>"
      ]
     },
     "metadata": {
      "needs_background": "light"
     },
     "output_type": "display_data"
    },
    {
     "data": {
      "image/png": "[encoded data removed]",
      "text/plain": [
       "<Figure size 432x288 with 1 Axes>"
      ]
     },
     "metadata": {
      "needs_background": "light"
     },
     "output_type": "display_data"
    },
    {
     "data": {
      "image/png": "[encoded data removed]",
      "text/plain": [
       "<Figure size 432x288 with 1 Axes>"
      ]
     },
     "metadata": {
      "needs_background": "light"
     },
     "output_type": "display_data"
    },
    {
     "data": {
      "image/png": "[encoded data removed]",
      "text/plain": [
       "<Figure size 432x288 with 1 Axes>"
      ]
     },
     "metadata": {
      "needs_background": "light"
     },
     "output_type": "display_data"
    },
    {
     "data": {
      "image/png": "[encoded data removed]",
      "text/plain": [
       "<Figure size 432x288 with 1 Axes>"
      ]
     },
     "metadata": {
      "needs_background": "light"
     },
     "output_type": "display_data"
    },
    {
     "data": {
      "image/png": "[encoded data removed]",
      "text/plain": [
       "<Figure size 432x288 with 1 Axes>"
      ]
     },
     "metadata": {
      "needs_background": "light"
     },
     "output_type": "display_data"
    },
    {
     "data": {
      "image/png": "[encoded data removed]",
      "text/plain": [
       "<Figure size 432x288 with 1 Axes>"
      ]
     },
     "metadata": {
      "needs_background": "light"
     },
     "output_type": "display_data"
    },
    {
     "data": {
      "image/png": "[encoded data removed]",
      "text/plain": [
       "<Figure size 432x288 with 1 Axes>"
      ]
     },
     "metadata": {
      "needs_background": "light"
     },
     "output_type": "display_data"
    }
   ],
   "source": [
    "# They are arrays of pixels in black and white. 0 is a white pixel, 1 a black one.\n",
    "# Let's visualize the first 10:\n",
    "\n",
    "for i in range (10):\n",
    "    plt.figure()\n",
    "    plt.imshow(X_train[i])\n",
    "    plt.show()"
   ]
  },
  {
   "cell_type": "code",
   "execution_count": 12,
   "id": "9ffeab69",
   "metadata": {},
   "outputs": [
    {
     "data": {
      "image/png": "[encoded data removed]",
      "text/plain": [
       "<Figure size 432x288 with 1 Axes>"
      ]
     },
     "metadata": {
      "needs_background": "light"
     },
     "output_type": "display_data"
    },
    {
     "data": {
      "image/png": "[encoded data removed]",
      "text/plain": [
       "<Figure size 432x288 with 1 Axes>"
      ]
     },
     "metadata": {
      "needs_background": "light"
     },
     "output_type": "display_data"
    },
    {
     "data": {
      "image/png": "[encoded data removed]",
      "text/plain": [
       "<Figure size 432x288 with 1 Axes>"
      ]
     },
     "metadata": {
      "needs_background": "light"
     },
     "output_type": "display_data"
    },
    {
     "data": {
      "image/png": "[encoded data removed]",
      "text/plain": [
       "<Figure size 432x288 with 1 Axes>"
      ]
     },
     "metadata": {
      "needs_background": "light"
     },
     "output_type": "display_data"
    },
    {
     "data": {
      "image/png": "[encoded data removed]",
      "text/plain": [
       "<Figure size 432x288 with 1 Axes>"
      ]
     },
     "metadata": {
      "needs_background": "light"
     },
     "output_type": "display_data"
    },
    {
     "data": {
      "image/png": "[encoded data removed]",
      "text/plain": [
       "<Figure size 432x288 with 1 Axes>"
      ]
     },
     "metadata": {
      "needs_background": "light"
     },
     "output_type": "display_data"
    },
    {
     "data": {
      "image/png": "[encoded data removed]",
      "text/plain": [
       "<Figure size 432x288 with 1 Axes>"
      ]
     },
     "metadata": {
      "needs_background": "light"
     },
     "output_type": "display_data"
    },
    {
     "data": {
      "image/png": "[encoded data removed]",
      "text/plain": [
       "<Figure size 432x288 with 1 Axes>"
      ]
     },
     "metadata": {
      "needs_background": "light"
     },
     "output_type": "display_data"
    },
    {
     "data": {
      "image/png": "[encoded data removed]",
      "text/plain": [
       "<Figure size 432x288 with 1 Axes>"
      ]
     },
     "metadata": {
      "needs_background": "light"
     },
     "output_type": "display_data"
    },
    {
     "data": {
      "image/png": "[encoded data removed]",
      "text/plain": [
       "<Figure size 432x288 with 1 Axes>"
      ]
     },
     "metadata": {
      "needs_background": "light"
     },
     "output_type": "display_data"
    }
   ],
   "source": [
    "# Maybe color doesn't matter so much when looking at digits...\n",
    "for i in range (10):\n",
    "    plt.figure()\n",
    "    plt.imshow(X_train[i], cmap='gist_gray')\n",
    "    plt.show()"
   ]
  },
  {
   "cell_type": "code",
   "execution_count": 13,
   "id": "08cc2552",
   "metadata": {},
   "outputs": [],
   "source": [
    "# right now our training data is made of 28x28 matrices.\n",
    "# Let's reshape it into one vertical 784x1 vector to feed it into a CNN\n",
    "X_train = X_train.reshape((X_train.shape[0], total_pixels)).astype('float')\n",
    "X_test = X_test.reshape((X_test.shape[0], total_pixels)).astype('float')"
   ]
  },
  {
   "cell_type": "code",
   "execution_count": 14,
   "id": "c2671492",
   "metadata": {},
   "outputs": [
    {
     "data": {
      "text/plain": [
       "(60000, 784)"
      ]
     },
     "execution_count": 14,
     "metadata": {},
     "output_type": "execute_result"
    }
   ],
   "source": [
    "# Let's inspect the result (used to be 6000, 28, 28)\n",
    "X_train.shape"
   ]
  },
  {
   "cell_type": "code",
   "execution_count": 15,
   "id": "fd2c6fe6",
   "metadata": {},
   "outputs": [],
   "source": [
    "# recall our X_train cells have numbers ranging from 1 to 255, corresponding to color\n",
    "# it is a lot more helpful to have those from 0 to 1. Let's fix that\n",
    "X_train = X_train / 255\n",
    "X_test = X_test / 255"
   ]
  },
  {
   "cell_type": "code",
   "execution_count": 16,
   "id": "a9435d04",
   "metadata": {},
   "outputs": [
    {
     "data": {
      "text/plain": [
       "0.0"
      ]
     },
     "execution_count": 16,
     "metadata": {},
     "output_type": "execute_result"
    }
   ],
   "source": [
    "# checking a random pixel in the center\n",
    "X_train[200][202]"
   ]
  },
  {
   "cell_type": "code",
   "execution_count": 17,
   "id": "3d0d048c",
   "metadata": {},
   "outputs": [
    {
     "data": {
      "text/plain": [
       "(60000, 10)"
      ]
     },
     "execution_count": 17,
     "metadata": {},
     "output_type": "execute_result"
    }
   ],
   "source": [
    "# also, recall our target variable y ranges from 0 to 9.\n",
    "# So we need to create 10 binary categories.\n",
    "y_train = np_utils.to_categorical(y_train)\n",
    "y_test = np_utils.to_categorical(y_test)\n",
    "\n",
    "number_of_classes = y_train.shape[1]\n",
    "y_train.shape"
   ]
  },
  {
   "cell_type": "code",
   "execution_count": 18,
   "id": "00316d5d",
   "metadata": {},
   "outputs": [
    {
     "name": "stdout",
     "output_type": "stream",
     "text": [
      "[0. 0. 0. 0. 0. 1. 0. 0. 0. 0.]\n",
      "[1. 0. 0. 0. 0. 0. 0. 0. 0. 0.]\n",
      "[0. 0. 0. 0. 1. 0. 0. 0. 0. 0.]\n"
     ]
    }
   ],
   "source": [
    "# Looking at the y-matrix you can see which column is which:\n",
    "# (You may compare with the images above)\n",
    "print(y_train[0]) # It's a 5\n",
    "\n",
    "print(y_train[1]) # It's a 0\n",
    "\n",
    "print(y_train[2]) # It's a 4"
   ]
  },
  {
   "cell_type": "markdown",
   "id": "d6c80313",
   "metadata": {},
   "source": [
    "# First Basic Model"
   ]
  },
  {
   "cell_type": "code",
   "execution_count": 19,
   "id": "a0253cc2",
   "metadata": {},
   "outputs": [],
   "source": [
    "# define baseline model, no additional hidden layers for now.\n",
    "def baseline_model():\n",
    "    model = Sequential()\n",
    "    # input layer of size 784 for each pixel\n",
    "    model.add(Dense(total_pixels, input_dim=total_pixels, kernel_initializer='normal', activation='relu'))\n",
    "    # output layer of 10 catefories and nothig\n",
    "    model.add(Dense(number_of_classes, kernel_initializer='normal', activation='softmax'))\n",
    "    model.compile(loss='categorical_crossentropy', optimizer='adam', metrics=['accuracy'])\n",
    "    return model"
   ]
  },
  {
   "cell_type": "code",
   "execution_count": 20,
   "id": "84157b90",
   "metadata": {},
   "outputs": [
    {
     "name": "stderr",
     "output_type": "stream",
     "text": [
      "2022-02-24 21:13:11.498385: I tensorflow/core/platform/cpu_feature_guard.cc:142] This TensorFlow binary is optimized with oneAPI Deep Neural Network Library (oneDNN) to use the following CPU instructions in performance-critical operations:  AVX2 FMA\n",
      "To enable them in other operations, rebuild TensorFlow with the appropriate compiler flags.\n",
      "2022-02-24 21:13:12.217335: I tensorflow/compiler/mlir/mlir_graph_optimization_pass.cc:185] None of the MLIR Optimization Passes are enabled (registered 2)\n"
     ]
    },
    {
     "name": "stdout",
     "output_type": "stream",
     "text": [
      "Epoch 1/20\n",
      "300/300 - 2s - loss: 0.2821 - accuracy: 0.9195 - val_loss: 0.1447 - val_accuracy: 0.9562\n",
      "Epoch 2/20\n",
      "300/300 - 1s - loss: 0.1111 - accuracy: 0.9680 - val_loss: 0.1007 - val_accuracy: 0.9705\n",
      "Epoch 3/20\n",
      "300/300 - 2s - loss: 0.0710 - accuracy: 0.9794 - val_loss: 0.0780 - val_accuracy: 0.9763\n",
      "Epoch 4/20\n",
      "300/300 - 2s - loss: 0.0505 - accuracy: 0.9860 - val_loss: 0.0710 - val_accuracy: 0.9774\n",
      "Epoch 5/20\n",
      "300/300 - 2s - loss: 0.0366 - accuracy: 0.9895 - val_loss: 0.0598 - val_accuracy: 0.9816\n",
      "Epoch 6/20\n",
      "300/300 - 1s - loss: 0.0264 - accuracy: 0.9929 - val_loss: 0.0622 - val_accuracy: 0.9805\n",
      "Epoch 7/20\n",
      "300/300 - 1s - loss: 0.0193 - accuracy: 0.9951 - val_loss: 0.0610 - val_accuracy: 0.9816\n",
      "Epoch 8/20\n",
      "300/300 - 2s - loss: 0.0131 - accuracy: 0.9973 - val_loss: 0.0565 - val_accuracy: 0.9815\n",
      "Epoch 9/20\n",
      "300/300 - 2s - loss: 0.0103 - accuracy: 0.9977 - val_loss: 0.0584 - val_accuracy: 0.9815\n",
      "Epoch 10/20\n",
      "300/300 - 1s - loss: 0.0079 - accuracy: 0.9986 - val_loss: 0.0632 - val_accuracy: 0.9802\n",
      "Epoch 11/20\n",
      "300/300 - 1s - loss: 0.0056 - accuracy: 0.9992 - val_loss: 0.0607 - val_accuracy: 0.9813\n",
      "Epoch 12/20\n",
      "300/300 - 1s - loss: 0.0044 - accuracy: 0.9994 - val_loss: 0.0680 - val_accuracy: 0.9800\n",
      "Epoch 13/20\n",
      "300/300 - 1s - loss: 0.0039 - accuracy: 0.9995 - val_loss: 0.0627 - val_accuracy: 0.9821\n",
      "Epoch 14/20\n",
      "300/300 - 2s - loss: 0.0021 - accuracy: 1.0000 - val_loss: 0.0575 - val_accuracy: 0.9839\n",
      "Epoch 15/20\n",
      "300/300 - 1s - loss: 0.0013 - accuracy: 1.0000 - val_loss: 0.0577 - val_accuracy: 0.9840\n",
      "Epoch 16/20\n",
      "300/300 - 1s - loss: 8.6549e-04 - accuracy: 1.0000 - val_loss: 0.0586 - val_accuracy: 0.9834\n",
      "Epoch 17/20\n",
      "300/300 - 1s - loss: 7.5984e-04 - accuracy: 1.0000 - val_loss: 0.0591 - val_accuracy: 0.9841\n",
      "Epoch 18/20\n",
      "300/300 - 1s - loss: 5.9004e-04 - accuracy: 1.0000 - val_loss: 0.0598 - val_accuracy: 0.9832\n",
      "Epoch 19/20\n",
      "300/300 - 1s - loss: 4.8170e-04 - accuracy: 1.0000 - val_loss: 0.0597 - val_accuracy: 0.9843\n",
      "Epoch 20/20\n",
      "300/300 - 1s - loss: 4.1704e-04 - accuracy: 1.0000 - val_loss: 0.0609 - val_accuracy: 0.9843\n"
     ]
    },
    {
     "data": {
      "text/plain": [
       "<keras.callbacks.History at 0x17419eca0>"
      ]
     },
     "execution_count": 20,
     "metadata": {},
     "output_type": "execute_result"
    }
   ],
   "source": [
    "# trying out the first basic model:\n",
    "model1 = baseline_model()\n",
    "model1.fit(X_train, y_train, validation_data=(X_test, y_test), epochs=20, batch_size=200, verbose=2)"
   ]
  },
  {
   "cell_type": "code",
   "execution_count": 24,
   "id": "98302a59",
   "metadata": {},
   "outputs": [
    {
     "name": "stdout",
     "output_type": "stream",
     "text": [
      "313/313 - 0s - loss: 0.0609 - accuracy: 0.9843\n",
      "Baseline Error: 1.57%\n"
     ]
    }
   ],
   "source": [
    "scores = model1.evaluate(X_test, y_test, verbose=2)\n",
    "scores\n",
    "print(\"Baseline Error: %.2f%%\" % (100-scores[1]*100))"
   ]
  },
  {
   "cell_type": "markdown",
   "id": "19f55f8d",
   "metadata": {},
   "source": [
    "# First CNN (Convolutional Neural Network)"
   ]
  },
  {
   "cell_type": "code",
   "execution_count": 25,
   "id": "0a764f02",
   "metadata": {},
   "outputs": [],
   "source": [
    "from keras.datasets import mnist\n",
    "from keras.models import Sequential\n",
    "from keras.layers import Dense\n",
    "from keras.layers import Dropout\n",
    "from keras.layers import Flatten\n",
    "from keras.layers.convolutional import Conv2D\n",
    "from keras.layers.convolutional import MaxPooling2D\n",
    "from keras.utils import np_utils"
   ]
  },
  {
   "cell_type": "code",
   "execution_count": 33,
   "id": "8a06f0b1",
   "metadata": {},
   "outputs": [],
   "source": [
    "def cnn_model():\n",
    "    model = Sequential()\n",
    "    model.add(Conv2D(32, (5, 5), input_shape=(28, 28, 1), activation='relu'))\n",
    "    model.add(MaxPooling2D(pool_size=(2, 2)))\n",
    "    model.add(Dropout(0.2))\n",
    "    model.add(Flatten())\n",
    "    model.add(Dense(128, activation='relu'))\n",
    "    model.add(Dense(number_of_classes, activation='softmax'))\n",
    "    model.compile(loss='categorical_crossentropy', optimizer='adam', metrics=['accuracy'])\n",
    "    return model"
   ]
  },
  {
   "cell_type": "code",
   "execution_count": 30,
   "id": "64eb2041",
   "metadata": {},
   "outputs": [],
   "source": [
    "# we prepare the data slightly differently, as now the layers accept 2D\n",
    "# we are therefore no longer interested in having pixels in 1 line\n",
    "# but instead we want to have them in 28x28 grids to retain space info\n",
    "\n",
    "(X_train, y_train), (X_test, y_test) = mnist.load_data()\n",
    "# the arguments of reshape are data, length, width, color-filters (3 for rgb, 1 for greyscale)\n",
    "X_train = X_train.reshape(X_train.shape[0], 28, 28, 1).astype('float32')\n",
    "X_test = X_test.reshape(X_test.shape[0], 28, 28, 1).astype('float32')\n",
    "\n",
    "# Swap from 0-255 to 0-1 (normalization of HEX)\n",
    "X_train = X_train / 255\n",
    "X_test = X_test / 255\n",
    "# Creating categorical variables\n",
    "y_train = np_utils.to_categorical(y_train)\n",
    "y_test = np_utils.to_categorical(y_test)\n",
    "# should be the same as above but re-writing for safety\n",
    "number_of_classes = y_test.shape[1]"
   ]
  },
  {
   "cell_type": "code",
   "execution_count": 34,
   "id": "bf526d5d",
   "metadata": {},
   "outputs": [
    {
     "name": "stdout",
     "output_type": "stream",
     "text": [
      "Epoch 1/20\n",
      "300/300 - 12s - loss: 0.2357 - accuracy: 0.9316 - val_loss: 0.0781 - val_accuracy: 0.9758\n",
      "Epoch 2/20\n",
      "300/300 - 11s - loss: 0.0756 - accuracy: 0.9773 - val_loss: 0.0621 - val_accuracy: 0.9794\n",
      "Epoch 3/20\n",
      "300/300 - 11s - loss: 0.0550 - accuracy: 0.9838 - val_loss: 0.0458 - val_accuracy: 0.9853\n",
      "Epoch 4/20\n",
      "300/300 - 11s - loss: 0.0417 - accuracy: 0.9869 - val_loss: 0.0432 - val_accuracy: 0.9857\n",
      "Epoch 5/20\n",
      "300/300 - 10s - loss: 0.0364 - accuracy: 0.9888 - val_loss: 0.0354 - val_accuracy: 0.9874\n",
      "Epoch 6/20\n",
      "300/300 - 10s - loss: 0.0274 - accuracy: 0.9918 - val_loss: 0.0325 - val_accuracy: 0.9887\n",
      "Epoch 7/20\n",
      "300/300 - 11s - loss: 0.0250 - accuracy: 0.9921 - val_loss: 0.0381 - val_accuracy: 0.9867\n",
      "Epoch 8/20\n",
      "300/300 - 11s - loss: 0.0197 - accuracy: 0.9937 - val_loss: 0.0326 - val_accuracy: 0.9882\n",
      "Epoch 9/20\n",
      "300/300 - 11s - loss: 0.0179 - accuracy: 0.9940 - val_loss: 0.0365 - val_accuracy: 0.9874\n",
      "Epoch 10/20\n",
      "300/300 - 11s - loss: 0.0154 - accuracy: 0.9949 - val_loss: 0.0341 - val_accuracy: 0.9886\n",
      "Epoch 11/20\n",
      "300/300 - 11s - loss: 0.0137 - accuracy: 0.9952 - val_loss: 0.0347 - val_accuracy: 0.9890\n",
      "Epoch 12/20\n",
      "300/300 - 11s - loss: 0.0113 - accuracy: 0.9966 - val_loss: 0.0315 - val_accuracy: 0.9904\n",
      "Epoch 13/20\n",
      "300/300 - 11s - loss: 0.0100 - accuracy: 0.9969 - val_loss: 0.0316 - val_accuracy: 0.9898\n",
      "Epoch 14/20\n",
      "300/300 - 11s - loss: 0.0094 - accuracy: 0.9968 - val_loss: 0.0362 - val_accuracy: 0.9893\n",
      "Epoch 15/20\n",
      "300/300 - 12s - loss: 0.0093 - accuracy: 0.9969 - val_loss: 0.0363 - val_accuracy: 0.9894\n",
      "Epoch 16/20\n",
      "300/300 - 11s - loss: 0.0073 - accuracy: 0.9977 - val_loss: 0.0366 - val_accuracy: 0.9903\n",
      "Epoch 17/20\n",
      "300/300 - 11s - loss: 0.0064 - accuracy: 0.9979 - val_loss: 0.0336 - val_accuracy: 0.9900\n",
      "Epoch 18/20\n",
      "300/300 - 11s - loss: 0.0062 - accuracy: 0.9979 - val_loss: 0.0312 - val_accuracy: 0.9910\n",
      "Epoch 19/20\n",
      "300/300 - 11s - loss: 0.0061 - accuracy: 0.9979 - val_loss: 0.0367 - val_accuracy: 0.9900\n",
      "Epoch 20/20\n",
      "300/300 - 11s - loss: 0.0059 - accuracy: 0.9980 - val_loss: 0.0406 - val_accuracy: 0.9889\n"
     ]
    },
    {
     "data": {
      "text/plain": [
       "<keras.callbacks.History at 0x16d0e19d0>"
      ]
     },
     "execution_count": 34,
     "metadata": {},
     "output_type": "execute_result"
    }
   ],
   "source": [
    "# building the model:\n",
    "\n",
    "model2 = cnn_model()\n",
    "model2.fit(X_train, y_train, validation_data=(X_test, y_test), epochs=20, batch_size=200, verbose=2)"
   ]
  },
  {
   "cell_type": "code",
   "execution_count": 40,
   "id": "7c1363d2",
   "metadata": {},
   "outputs": [
    {
     "name": "stdout",
     "output_type": "stream",
     "text": [
      "313/313 - 1s - loss: 0.0406 - accuracy: 0.9889\n",
      "CNN Error: 1.11%\n"
     ]
    }
   ],
   "source": [
    "scores = model2.evaluate(X_test, y_test, verbose=2)\n",
    "print(\"CNN Error: %.2f%%\" % (100-scores[1]*100))"
   ]
  },
  {
   "cell_type": "markdown",
   "id": "935eecbb",
   "metadata": {},
   "source": [
    "# Second CNN, more advanced"
   ]
  },
  {
   "cell_type": "code",
   "execution_count": 43,
   "id": "2e84d52b",
   "metadata": {},
   "outputs": [],
   "source": [
    "# same type of input & style as the previous CNN\n",
    "# But more hidden layers\n",
    "def cnn_model2():\n",
    "    model = Sequential()\n",
    "    # input layer accepting 28x28 images in black and white\n",
    "    model.add(Conv2D(30, (5, 5), input_shape=(28, 28, 1), activation='relu'))\n",
    "    # Pooling them\n",
    "    model.add(MaxPooling2D(pool_size=(2, 2)))\n",
    "    # Convolution\n",
    "    model.add(Conv2D(15, (3, 3), activation='relu'))\n",
    "    # Another pool\n",
    "    model.add(MaxPooling2D(pool_size=(2, 2)))\n",
    "    # Randomly drop 20% of nodes to remove overfit\n",
    "    model.add(Dropout(0.2))\n",
    "    # Flatten the previous pooling operations\n",
    "    model.add(Flatten())\n",
    "    # two three dense layers\n",
    "    model.add(Dense(128, activation='relu'))\n",
    "    model.add(Dense(50, activation='relu'))\n",
    "    model.add(Dense(number_of_classes, activation='softmax'))\n",
    "    model.compile(loss='categorical_crossentropy', optimizer='adam', metrics=['accuracy'])\n",
    "    return model"
   ]
  },
  {
   "cell_type": "code",
   "execution_count": 47,
   "id": "b0cf8e0e",
   "metadata": {},
   "outputs": [
    {
     "name": "stdout",
     "output_type": "stream",
     "text": [
      "Epoch 1/20\n",
      "300/300 [==============================] - 16s 50ms/step - loss: 0.3764 - accuracy: 0.8853 - val_loss: 0.0771 - val_accuracy: 0.9740\n",
      "Epoch 2/20\n",
      "300/300 [==============================] - 16s 53ms/step - loss: 0.0934 - accuracy: 0.9711 - val_loss: 0.0502 - val_accuracy: 0.9830\n",
      "Epoch 3/20\n",
      "300/300 [==============================] - 16s 54ms/step - loss: 0.0678 - accuracy: 0.9789 - val_loss: 0.0357 - val_accuracy: 0.9883\n",
      "Epoch 4/20\n",
      "300/300 [==============================] - 16s 54ms/step - loss: 0.0547 - accuracy: 0.9828 - val_loss: 0.0320 - val_accuracy: 0.9894\n",
      "Epoch 5/20\n",
      "300/300 [==============================] - 16s 54ms/step - loss: 0.0464 - accuracy: 0.9855 - val_loss: 0.0307 - val_accuracy: 0.9896\n",
      "Epoch 6/20\n",
      "300/300 [==============================] - 16s 53ms/step - loss: 0.0421 - accuracy: 0.9865 - val_loss: 0.0268 - val_accuracy: 0.9909\n",
      "Epoch 7/20\n",
      "300/300 [==============================] - 16s 54ms/step - loss: 0.0375 - accuracy: 0.9885 - val_loss: 0.0247 - val_accuracy: 0.9913\n",
      "Epoch 8/20\n",
      "300/300 [==============================] - 16s 52ms/step - loss: 0.0342 - accuracy: 0.9895 - val_loss: 0.0228 - val_accuracy: 0.9924\n",
      "Epoch 9/20\n",
      "300/300 [==============================] - 16s 52ms/step - loss: 0.0295 - accuracy: 0.9904 - val_loss: 0.0227 - val_accuracy: 0.9927\n",
      "Epoch 10/20\n",
      "300/300 [==============================] - 16s 54ms/step - loss: 0.0295 - accuracy: 0.9906 - val_loss: 0.0320 - val_accuracy: 0.9902\n",
      "Epoch 11/20\n",
      "300/300 [==============================] - 16s 55ms/step - loss: 0.0277 - accuracy: 0.9904 - val_loss: 0.0251 - val_accuracy: 0.9922\n",
      "Epoch 12/20\n",
      "300/300 [==============================] - 16s 55ms/step - loss: 0.0236 - accuracy: 0.9925 - val_loss: 0.0242 - val_accuracy: 0.9920\n",
      "Epoch 13/20\n",
      "300/300 [==============================] - 16s 55ms/step - loss: 0.0239 - accuracy: 0.9922 - val_loss: 0.0208 - val_accuracy: 0.9933\n",
      "Epoch 14/20\n",
      "300/300 [==============================] - 16s 54ms/step - loss: 0.0213 - accuracy: 0.9928 - val_loss: 0.0222 - val_accuracy: 0.9930\n",
      "Epoch 15/20\n",
      "300/300 [==============================] - 16s 54ms/step - loss: 0.0197 - accuracy: 0.9933 - val_loss: 0.0226 - val_accuracy: 0.9920\n",
      "Epoch 16/20\n",
      "300/300 [==============================] - 16s 54ms/step - loss: 0.0191 - accuracy: 0.9934 - val_loss: 0.0214 - val_accuracy: 0.9926\n",
      "Epoch 17/20\n",
      "300/300 [==============================] - 15s 51ms/step - loss: 0.0179 - accuracy: 0.9941 - val_loss: 0.0226 - val_accuracy: 0.9925\n",
      "Epoch 18/20\n",
      "300/300 [==============================] - 16s 55ms/step - loss: 0.0172 - accuracy: 0.9942 - val_loss: 0.0270 - val_accuracy: 0.9913\n",
      "Epoch 19/20\n",
      "300/300 [==============================] - 16s 55ms/step - loss: 0.0169 - accuracy: 0.9945 - val_loss: 0.0266 - val_accuracy: 0.9923\n",
      "Epoch 20/20\n",
      "300/300 [==============================] - 16s 55ms/step - loss: 0.0152 - accuracy: 0.9950 - val_loss: 0.0233 - val_accuracy: 0.9933\n"
     ]
    },
    {
     "data": {
      "text/plain": [
       "<keras.callbacks.History at 0x1697eb700>"
      ]
     },
     "execution_count": 47,
     "metadata": {},
     "output_type": "execute_result"
    }
   ],
   "source": [
    "# building the model\n",
    "model3 = cnn_model2()\n",
    "model3.fit(X_train, y_train, validation_data=(X_test, y_test), epochs=20, batch_size=200)"
   ]
  },
  {
   "cell_type": "code",
   "execution_count": 48,
   "id": "bf2df2cf",
   "metadata": {},
   "outputs": [
    {
     "name": "stdout",
     "output_type": "stream",
     "text": [
      "313/313 - 1s - loss: 0.0233 - accuracy: 0.9933\n",
      "CNN Error: 0.67%\n"
     ]
    }
   ],
   "source": [
    "scores = model3.evaluate(X_test, y_test, verbose=2)\n",
    "print(\"CNN Error: %.2f%%\" % (100-scores[1]*100))"
   ]
  },
  {
   "cell_type": "code",
   "execution_count": null,
   "id": "2956c41c",
   "metadata": {},
   "outputs": [],
   "source": []
  }
 ],
 "metadata": {
  "kernelspec": {
   "display_name": "Python 3 (ipykernel)",
   "language": "python",
   "name": "python3"
  },
  "language_info": {
   "codemirror_mode": {
    "name": "ipython",
    "version": 3
   },
   "file_extension": ".py",
   "mimetype": "text/x-python",
   "name": "python",
   "nbconvert_exporter": "python",
   "pygments_lexer": "ipython3",
   "version": "3.8.6"
  },
  "toc": {
   "base_numbering": 1,
   "nav_menu": {},
   "number_sections": true,
   "sideBar": true,
   "skip_h1_title": false,
   "title_cell": "Table of Contents",
   "title_sidebar": "Contents",
   "toc_cell": false,
   "toc_position": {},
   "toc_section_display": true,
   "toc_window_display": false
  }
 },
 "nbformat": 4,
 "nbformat_minor": 5
}
