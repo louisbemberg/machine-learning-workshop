{
  "cells": [
    {
      "cell_type": "markdown",
      "source": [
        "# MNIST project"
      ],
      "metadata": {
        "id": "rBNv23RrmSAe"
      }
    },
    {
      "cell_type": "markdown",
      "source": [
        "Step 1: Import useful libraries\n"
      ],
      "metadata": {
        "id": "jjRjn8QamRtw"
      }
    },
    {
      "cell_type": "code",
      "execution_count": null,
      "metadata": {
        "id": "3eBx0inoJ45m"
      },
      "outputs": [],
      "source": [
        "from keras.datasets import mnist\n",
        "import tensorflow\n",
        "from tensorflow.keras.models import Sequential\n",
        "from tensorflow.keras.layers import Dense, Flatten\n",
        "from tensorflow.keras.layers import Conv2D, MaxPooling2D\n",
        "from tensorflow.keras.layers import BatchNormalization\n"
      ]
    },
    {
      "cell_type": "markdown",
      "source": [
        "# Step 2: Import MNIST data set from Tensorflow Keras"
      ],
      "metadata": {
        "id": "QF_-YWVwmmpM"
      }
    },
    {
      "cell_type": "code",
      "execution_count": null,
      "metadata": {
        "id": "J3tembajK-4-"
      },
      "outputs": [],
      "source": [
        "# Model configuration\n",
        "batch_size = 250\n",
        "no_epochs = 25\n",
        "no_classes = 10\n",
        "validation_split = 0.2\n",
        "verbosity = 1\n"
      ]
    },
    {
      "cell_type": "code",
      "execution_count": null,
      "metadata": {
        "colab": {
          "base_uri": "https://localhost:8080/"
        },
        "id": "VDXV0xqALKxn",
        "outputId": "e119662c-c8c0-45e5-8f19-6a2f86b64e91"
      },
      "outputs": [
        {
          "name": "stdout",
          "output_type": "stream",
          "text": [
            "Downloading data from https://storage.googleapis.com/tensorflow/tf-keras-datasets/mnist.npz\n",
            "11493376/11490434 [==============================] - 0s 0us/step\n",
            "11501568/11490434 [==============================] - 0s 0us/step\n"
          ]
        }
      ],
      "source": [
        "(input_train, target_train), (input_test, target_test)= mnist.load_data()\n",
        "input_train_shape = input_train.shape\n",
        "input_test_shape = input_test.shape "
      ]
    },
    {
      "cell_type": "code",
      "execution_count": null,
      "metadata": {
        "id": "PtxCvuSbMMYD"
      },
      "outputs": [],
      "source": [
        "input_shape = (input_train_shape[1], input_train_shape[2], 1)"
      ]
    },
    {
      "cell_type": "code",
      "execution_count": null,
      "metadata": {
        "id": "B1-YK6VyMP3B"
      },
      "outputs": [],
      "source": [
        "input_train = input_train.reshape(input_train_shape[0], input_train_shape[1], input_train_shape[2], 1)\n",
        "input_test = input_test.reshape(input_test_shape[0], input_test_shape[1], input_test_shape[2], 1)"
      ]
    },
    {
      "cell_type": "code",
      "execution_count": null,
      "metadata": {
        "id": "CYX2wdwBMSC6"
      },
      "outputs": [],
      "source": [
        "input_train = input_train.astype('float32')\n",
        "input_test = input_test.astype('float32')"
      ]
    },
    {
      "cell_type": "markdown",
      "source": [
        "# Step 3: Normalize data set"
      ],
      "metadata": {
        "id": "73PsAmWPm0QY"
      }
    },
    {
      "cell_type": "code",
      "execution_count": null,
      "metadata": {
        "id": "vogtFiSmMT1s"
      },
      "outputs": [],
      "source": [
        "input_train = input_train / 255\n",
        "input_test = input_test / 255"
      ]
    },
    {
      "cell_type": "markdown",
      "source": [
        "Step 4:Building neural network model with Batchnormalization "
      ],
      "metadata": {
        "id": "LrxXdNJOm92D"
      }
    },
    {
      "cell_type": "code",
      "execution_count": null,
      "metadata": {
        "id": "myt0V0wAMVyD"
      },
      "outputs": [],
      "source": [
        "model = Sequential()\n",
        "model.add(Conv2D(32, kernel_size=(3, 3), activation='relu', input_shape=input_shape))\n",
        "model.add(MaxPooling2D(pool_size=(2, 2)))\n",
        "model.add(Conv2D(64, kernel_size=(3, 3), activation='relu'))\n",
        "model.add(MaxPooling2D(pool_size=(2, 2)))\n",
        "model.add(Flatten())\n",
        "model.add(Dense(256, activation='relu'))\n",
        "model.add(Dense(no_classes, activation='softmax'))"
      ]
    },
    {
      "cell_type": "code",
      "execution_count": null,
      "metadata": {
        "id": "K7aKJO4kMW2o"
      },
      "outputs": [],
      "source": [
        "model.compile(loss=tensorflow.keras.losses.sparse_categorical_crossentropy,\n",
        "              optimizer=tensorflow.keras.optimizers.Adam(),\n",
        "              metrics=['accuracy'])"
      ]
    },
    {
      "cell_type": "markdown",
      "source": [
        "# Step 5: Training model"
      ],
      "metadata": {
        "id": "6y0XwW1pnHIy"
      }
    },
    {
      "cell_type": "code",
      "execution_count": null,
      "metadata": {
        "colab": {
          "background_save": true,
          "base_uri": "https://localhost:8080/"
        },
        "id": "2QNZ2HmAMaTp",
        "outputId": "79ea7aa3-0435-4388-f24b-558c61c4ac00"
      },
      "outputs": [
        {
          "name": "stdout",
          "output_type": "stream",
          "text": [
            "Epoch 1/25\n",
            "192/192 [==============================] - 35s 181ms/step - loss: 0.2943 - accuracy: 0.9154 - val_loss: 0.0901 - val_accuracy: 0.9745\n",
            "Epoch 2/25\n",
            "192/192 [==============================] - 35s 181ms/step - loss: 0.0739 - accuracy: 0.9773 - val_loss: 0.0589 - val_accuracy: 0.9837\n",
            "Epoch 3/25\n",
            "192/192 [==============================] - 35s 181ms/step - loss: 0.0510 - accuracy: 0.9842 - val_loss: 0.0545 - val_accuracy: 0.9832\n",
            "Epoch 4/25\n",
            "192/192 [==============================] - 35s 180ms/step - loss: 0.0393 - accuracy: 0.9880 - val_loss: 0.0465 - val_accuracy: 0.9868\n",
            "Epoch 5/25\n",
            "192/192 [==============================] - 35s 180ms/step - loss: 0.0321 - accuracy: 0.9900 - val_loss: 0.0466 - val_accuracy: 0.9863\n",
            "Epoch 6/25\n",
            "192/192 [==============================] - 35s 181ms/step - loss: 0.0257 - accuracy: 0.9918 - val_loss: 0.0430 - val_accuracy: 0.9872\n",
            "Epoch 7/25\n",
            "192/192 [==============================] - 35s 181ms/step - loss: 0.0207 - accuracy: 0.9936 - val_loss: 0.0472 - val_accuracy: 0.9848\n",
            "Epoch 8/25\n",
            "192/192 [==============================] - 34s 179ms/step - loss: 0.0167 - accuracy: 0.9944 - val_loss: 0.0437 - val_accuracy: 0.9866\n",
            "Epoch 9/25\n",
            "192/192 [==============================] - 35s 180ms/step - loss: 0.0136 - accuracy: 0.9957 - val_loss: 0.0397 - val_accuracy: 0.9884\n",
            "Epoch 10/25\n",
            "192/192 [==============================] - 35s 180ms/step - loss: 0.0116 - accuracy: 0.9963 - val_loss: 0.0379 - val_accuracy: 0.9898\n",
            "Epoch 11/25\n",
            "192/192 [==============================] - 34s 179ms/step - loss: 0.0090 - accuracy: 0.9974 - val_loss: 0.0385 - val_accuracy: 0.9907\n",
            "Epoch 12/25\n",
            "192/192 [==============================] - 34s 177ms/step - loss: 0.0069 - accuracy: 0.9980 - val_loss: 0.0500 - val_accuracy: 0.9871\n",
            "Epoch 13/25\n",
            "192/192 [==============================] - 34s 180ms/step - loss: 0.0075 - accuracy: 0.9975 - val_loss: 0.0396 - val_accuracy: 0.9898\n",
            "Epoch 14/25\n",
            "192/192 [==============================] - 34s 179ms/step - loss: 0.0048 - accuracy: 0.9985 - val_loss: 0.0436 - val_accuracy: 0.9896\n",
            "Epoch 15/25\n",
            "192/192 [==============================] - 34s 179ms/step - loss: 0.0037 - accuracy: 0.9989 - val_loss: 0.0565 - val_accuracy: 0.9867\n",
            "Epoch 16/25\n",
            "192/192 [==============================] - 34s 179ms/step - loss: 0.0040 - accuracy: 0.9988 - val_loss: 0.0469 - val_accuracy: 0.9890\n",
            "Epoch 17/25\n",
            "192/192 [==============================] - 34s 178ms/step - loss: 0.0059 - accuracy: 0.9980 - val_loss: 0.0461 - val_accuracy: 0.9887\n",
            "Epoch 18/25\n",
            "192/192 [==============================] - 34s 175ms/step - loss: 0.0053 - accuracy: 0.9985 - val_loss: 0.0484 - val_accuracy: 0.9899\n",
            "Epoch 19/25\n",
            "192/192 [==============================] - 33s 174ms/step - loss: 0.0036 - accuracy: 0.9988 - val_loss: 0.0509 - val_accuracy: 0.9898\n",
            "Epoch 20/25\n",
            "192/192 [==============================] - 34s 175ms/step - loss: 0.0016 - accuracy: 0.9996 - val_loss: 0.0494 - val_accuracy: 0.9911\n",
            "Epoch 21/25\n",
            "192/192 [==============================] - 33s 172ms/step - loss: 0.0017 - accuracy: 0.9996 - val_loss: 0.0442 - val_accuracy: 0.9913\n",
            "Epoch 22/25\n",
            "192/192 [==============================] - 33s 174ms/step - loss: 0.0039 - accuracy: 0.9986 - val_loss: 0.0480 - val_accuracy: 0.9893\n",
            "Epoch 23/25\n",
            "192/192 [==============================] - 33s 173ms/step - loss: 0.0055 - accuracy: 0.9981 - val_loss: 0.0508 - val_accuracy: 0.9893\n",
            "Epoch 24/25\n",
            "192/192 [==============================] - 33s 173ms/step - loss: 0.0072 - accuracy: 0.9975 - val_loss: 0.0506 - val_accuracy: 0.9893\n",
            "Epoch 25/25\n",
            "192/192 [==============================] - 33s 172ms/step - loss: 0.0017 - accuracy: 0.9995 - val_loss: 0.0460 - val_accuracy: 0.9918\n"
          ]
        }
      ],
      "source": [
        "history = model.fit(input_train, target_train,\n",
        "            batch_size=batch_size,\n",
        "            epochs=no_epochs,\n",
        "            verbose=verbosity,\n",
        "            validation_split=validation_split)"
      ]
    },
    {
      "cell_type": "markdown",
      "source": [
        "# Step 6: Print best epoch scores and accuracy-loss plots"
      ],
      "metadata": {
        "id": "Dim-Z4RfnOcY"
      }
    },
    {
      "cell_type": "code",
      "execution_count": null,
      "metadata": {
        "colab": {
          "base_uri": "https://localhost:8080/"
        },
        "id": "giltBAhHP8oG",
        "outputId": "33cc2253-e060-4437-964e-a3155ff00d19"
      },
      "outputs": [
        {
          "output_type": "stream",
          "name": "stdout",
          "text": [
            "Test loss: 0.03281136229634285 / Test accuracy: 0.9927999973297119\n"
          ]
        }
      ],
      "source": [
        "score = model.evaluate(input_test, target_test, verbose=0)\n",
        "print(f'Test loss: {score[0]} / Test accuracy: {score[1]}')"
      ]
    },
    {
      "cell_type": "code",
      "source": [
        "import matplotlib.pyplot as plt\n",
        "import numpy as np\n",
        "model.save_weights(\"model.h5\")\n",
        "\n",
        "fig, (ax1, ax2) = plt.subplots(2, 1, figsize=(12, 12))\n",
        "ax1.plot(history.history['loss'], color='b', label=\"Training loss\")\n",
        "ax1.plot(history.history['val_loss'], color='r', label=\"validation loss\")\n",
        "ax1.set_xticks(np.arange(1, 25, 1))\n",
        "ax1.set_yticks(np.arange(0, 1, 0.1))\n",
        "\n",
        "ax2.plot(history.history['accuracy'], color='b', label=\"Training accuracy\")\n",
        "ax2.plot(history.history['val_accuracy'], color='r',label=\"Validation accuracy\")\n",
        "ax2.set_xticks(np.arange(1, 25, 1))\n",
        "\n",
        "legend = plt.legend(loc='best', shadow=True)\n",
        "plt.tight_layout()\n",
        "plt.show()"
      ],
      "metadata": {
        "colab": {
          "base_uri": "https://localhost:8080/",
          "height": 873
        },
        "id": "BYSWPINRXn7_",
        "outputId": "fb2fee13-3bb5-455f-e161-ee87566a9d6e"
      },
      "execution_count": null,
      "outputs": [
        {
          "output_type": "display_data",
          "data": {
            "image/png": "[encoded data removed]",
            "text/plain": [
              "<Figure size 864x864 with 2 Axes>"
            ]
          },
          "metadata": {
            "needs_background": "light"
          }
        }
      ]
    }
  ],
  "metadata": {
    "colab": {
      "name": "mnist.ipynb",
      "provenance": []
    },
    "kernelspec": {
      "display_name": "Python 3",
      "name": "python3"
    },
    "language_info": {
      "name": "python"
    }
  },
  "nbformat": 4,
  "nbformat_minor": 0
}