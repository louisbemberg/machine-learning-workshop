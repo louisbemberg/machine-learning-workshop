{
 "cells": [
  {
   "cell_type": "code",
   "execution_count": 1,
   "id": "b42ab6e2",
   "metadata": {},
   "outputs": [
    {
     "data": {
      "text/plain": [
       "video_id                  object\n",
       "trending_date             object\n",
       "title                     object\n",
       "channel_title             object\n",
       "category_id                int64\n",
       "publish_time              object\n",
       "tags                      object\n",
       "views                      int64\n",
       "likes                      int64\n",
       "dislikes                   int64\n",
       "comment_count              int64\n",
       "thumbnail_link            object\n",
       "comments_disabled           bool\n",
       "ratings_disabled            bool\n",
       "video_error_or_removed      bool\n",
       "description               object\n",
       "dtype: object"
      ]
     },
     "execution_count": 1,
     "metadata": {},
     "output_type": "execute_result"
    }
   ],
   "source": [
    "import pandas as pd\n",
    "import numpy as np\n",
    "import matplotlib.pyplot as plt\n",
    "import seaborn as sns\n",
    "data=pd.read_csv(\"/Users/shencong/youtube/CAvideos.csv\")\n",
    "data.dtypes"
   ]
  },
  {
   "cell_type": "code",
   "execution_count": 2,
   "id": "68d6b381",
   "metadata": {},
   "outputs": [],
   "source": [
    "import string"
   ]
  },
  {
   "cell_type": "code",
   "execution_count": 3,
   "id": "49bbc2b1",
   "metadata": {},
   "outputs": [],
   "source": [
    "data['title_word']=data[\"title\"].apply(lambda x: str(x).split())"
   ]
  },
  {
   "cell_type": "code",
   "execution_count": 4,
   "id": "4b80fcfa",
   "metadata": {},
   "outputs": [],
   "source": [
    "data['firstword']=data['title_word'].apply(lambda x:x[0])"
   ]
  },
  {
   "cell_type": "code",
   "execution_count": 5,
   "id": "0f92f0f4",
   "metadata": {},
   "outputs": [],
   "source": [
    "#define >5000 as high_views"
   ]
  },
  {
   "cell_type": "code",
   "execution_count": 6,
   "id": "9944c466",
   "metadata": {},
   "outputs": [],
   "source": [
    "data['high_views'] =data['views'].apply(lambda x: int(1) if x>=5000 else int(0))"
   ]
  },
  {
   "cell_type": "code",
   "execution_count": 7,
   "id": "37aaac77",
   "metadata": {},
   "outputs": [
    {
     "data": {
      "text/plain": [
       "0        0\n",
       "1        1\n",
       "2        0\n",
       "3        3\n",
       "4        0\n",
       "        ..\n",
       "40876    1\n",
       "40877    0\n",
       "40878    7\n",
       "40879    0\n",
       "40880    0\n",
       "Name: count_words_upper, Length: 40881, dtype: int64"
      ]
     },
     "execution_count": 7,
     "metadata": {},
     "output_type": "execute_result"
    }
   ],
   "source": [
    "data['count_words_upper']=data['title'].apply(lambda x: len([f for f in str(x).split() if f.isupper()]))\n",
    "data['count_words_upper']"
   ]
  },
  {
   "cell_type": "code",
   "execution_count": 8,
   "id": "872f1d1f",
   "metadata": {},
   "outputs": [],
   "source": [
    "#The percentage of clickbait words"
   ]
  },
  {
   "cell_type": "code",
   "execution_count": 9,
   "id": "f5abcfb0",
   "metadata": {},
   "outputs": [
    {
     "data": {
      "text/plain": [
       "0        0.000000\n",
       "1        0.166667\n",
       "2        0.000000\n",
       "3        0.600000\n",
       "4        0.000000\n",
       "           ...   \n",
       "40876    0.166667\n",
       "40877    0.000000\n",
       "40878    0.700000\n",
       "40879    0.000000\n",
       "40880    0.000000\n",
       "Name: count_words_upper%, Length: 40881, dtype: float64"
      ]
     },
     "execution_count": 9,
     "metadata": {},
     "output_type": "execute_result"
    }
   ],
   "source": [
    "data[\"count_words_upper%\"] = data[\"title\"].apply(lambda x: len([f for f in str(x).split() if f.isupper()])/len(str(x).split()))\n",
    "data['count_words_upper%']"
   ]
  },
  {
   "cell_type": "code",
   "execution_count": 10,
   "id": "b90ec534",
   "metadata": {
    "scrolled": false
   },
   "outputs": [
    {
     "data": {
      "text/plain": [
       "<matplotlib.collections.PathCollection at 0x171bfbd00>"
      ]
     },
     "execution_count": 10,
     "metadata": {},
     "output_type": "execute_result"
    },
    {
     "data": {
      "image/png": "[encoded data removed]",
      "text/plain": [
       "<Figure size 432x288 with 1 Axes>"
      ]
     },
     "metadata": {
      "needs_background": "light"
     },
     "output_type": "display_data"
    }
   ],
   "source": [
    "x=data['count_words_upper%']\n",
    "y=data['views']\n",
    "plt.scatter(x,y)"
   ]
  },
  {
   "cell_type": "code",
   "execution_count": 11,
   "id": "7dfe2cad",
   "metadata": {
    "scrolled": true
   },
   "outputs": [
    {
     "data": {
      "text/plain": [
       "<matplotlib.collections.PathCollection at 0x171cfb5b0>"
      ]
     },
     "execution_count": 11,
     "metadata": {},
     "output_type": "execute_result"
    },
    {
     "data": {
      "image/png": "[encoded data removed]",
      "text/plain": [
       "<Figure size 432x288 with 1 Axes>"
      ]
     },
     "metadata": {
      "needs_background": "light"
     },
     "output_type": "display_data"
    }
   ],
   "source": [
    "x=data['count_words_upper%']\n",
    "y=data['high_views']\n",
    "plt.scatter(x,y)"
   ]
  },
  {
   "cell_type": "code",
   "execution_count": 12,
   "id": "d8394d5b",
   "metadata": {
    "scrolled": true
   },
   "outputs": [
    {
     "data": {
      "text/plain": [
       "1    40573\n",
       "0      308\n",
       "Name: high_views, dtype: int64"
      ]
     },
     "execution_count": 12,
     "metadata": {},
     "output_type": "execute_result"
    }
   ],
   "source": [
    "data['high_views'].value_counts()"
   ]
  },
  {
   "cell_type": "code",
   "execution_count": 13,
   "id": "3b3609de",
   "metadata": {},
   "outputs": [
    {
     "data": {
      "text/plain": [
       "0.000000    20674\n",
       "1.000000     1474\n",
       "0.200000     1255\n",
       "0.166667     1024\n",
       "0.125000     1017\n",
       "            ...  \n",
       "0.842105        1\n",
       "0.368421        1\n",
       "0.562500        1\n",
       "0.772727        1\n",
       "0.611111        1\n",
       "Name: count_words_upper%, Length: 136, dtype: int64"
      ]
     },
     "execution_count": 13,
     "metadata": {},
     "output_type": "execute_result"
    }
   ],
   "source": [
    "data['count_words_upper%'].value_counts()"
   ]
  },
  {
   "cell_type": "code",
   "execution_count": 14,
   "id": "4abdd9b4",
   "metadata": {},
   "outputs": [],
   "source": [
    "data1=data.loc[(data[\"high_views\"] == 1)]"
   ]
  },
  {
   "cell_type": "code",
   "execution_count": 15,
   "id": "df228ca8",
   "metadata": {},
   "outputs": [
    {
     "data": {
      "text/plain": [
       "(array([24576.,  5627.,  3666.,  1067.,   779.,  1177.,   601.,   447.,\n",
       "          957.,  1676.]),\n",
       " array([0. , 0.1, 0.2, 0.3, 0.4, 0.5, 0.6, 0.7, 0.8, 0.9, 1. ]),\n",
       " <BarContainer object of 10 artists>)"
      ]
     },
     "execution_count": 15,
     "metadata": {},
     "output_type": "execute_result"
    },
    {
     "data": {
      "image/png": "[encoded data removed]",
      "text/plain": [
       "<Figure size 432x288 with 1 Axes>"
      ]
     },
     "metadata": {
      "needs_background": "light"
     },
     "output_type": "display_data"
    }
   ],
   "source": [
    "plt.hist(data1['count_words_upper%'])"
   ]
  },
  {
   "cell_type": "code",
   "execution_count": 16,
   "id": "e30f854c",
   "metadata": {},
   "outputs": [],
   "source": [
    "data0=data.loc[(data[\"high_views\"] == 0)]"
   ]
  },
  {
   "cell_type": "code",
   "execution_count": 17,
   "id": "5f029cb3",
   "metadata": {},
   "outputs": [
    {
     "data": {
      "text/plain": [
       "(array([235.,  31.,  13.,   6.,   1.,   3.,   6.,   2.,   2.,   9.]),\n",
       " array([0. , 0.1, 0.2, 0.3, 0.4, 0.5, 0.6, 0.7, 0.8, 0.9, 1. ]),\n",
       " <BarContainer object of 10 artists>)"
      ]
     },
     "execution_count": 17,
     "metadata": {},
     "output_type": "execute_result"
    },
    {
     "data": {
      "image/png": "[encoded data removed]",
      "text/plain": [
       "<Figure size 432x288 with 1 Axes>"
      ]
     },
     "metadata": {
      "needs_background": "light"
     },
     "output_type": "display_data"
    }
   ],
   "source": [
    "plt.hist(data0['count_words_upper%'])"
   ]
  },
  {
   "cell_type": "code",
   "execution_count": 18,
   "id": "24766e95",
   "metadata": {},
   "outputs": [
    {
     "data": {
      "text/html": [
       "<div>\n",
       "<style scoped>\n",
       "    .dataframe tbody tr th:only-of-type {\n",
       "        vertical-align: middle;\n",
       "    }\n",
       "\n",
       "    .dataframe tbody tr th {\n",
       "        vertical-align: top;\n",
       "    }\n",
       "\n",
       "    .dataframe thead th {\n",
       "        text-align: right;\n",
       "    }\n",
       "</style>\n",
       "<table border=\"1\" class=\"dataframe\">\n",
       "  <thead>\n",
       "    <tr style=\"text-align: right;\">\n",
       "      <th></th>\n",
       "      <th>video_id</th>\n",
       "      <th>trending_date</th>\n",
       "      <th>title</th>\n",
       "      <th>channel_title</th>\n",
       "      <th>category_id</th>\n",
       "      <th>publish_time</th>\n",
       "      <th>tags</th>\n",
       "      <th>views</th>\n",
       "      <th>likes</th>\n",
       "      <th>dislikes</th>\n",
       "      <th>...</th>\n",
       "      <th>thumbnail_link</th>\n",
       "      <th>comments_disabled</th>\n",
       "      <th>ratings_disabled</th>\n",
       "      <th>video_error_or_removed</th>\n",
       "      <th>description</th>\n",
       "      <th>title_word</th>\n",
       "      <th>firstword</th>\n",
       "      <th>high_views</th>\n",
       "      <th>count_words_upper</th>\n",
       "      <th>count_words_upper%</th>\n",
       "    </tr>\n",
       "  </thead>\n",
       "  <tbody>\n",
       "    <tr>\n",
       "      <th>42</th>\n",
       "      <td>t3FYESkzjUI</td>\n",
       "      <td>17.14.11</td>\n",
       "      <td>Emotionally Responsive Digital Human</td>\n",
       "      <td>Soul Machines</td>\n",
       "      <td>22</td>\n",
       "      <td>2017-10-31T01:11:48.000Z</td>\n",
       "      <td>artificial intelligence|\"digital human\"|\"virtu...</td>\n",
       "      <td>3684</td>\n",
       "      <td>4</td>\n",
       "      <td>5</td>\n",
       "      <td>...</td>\n",
       "      <td>https://i.ytimg.com/vi/t3FYESkzjUI/default.jpg</td>\n",
       "      <td>False</td>\n",
       "      <td>False</td>\n",
       "      <td>False</td>\n",
       "      <td>Soul Machines is making machines more human</td>\n",
       "      <td>[Emotionally, Responsive, Digital, Human]</td>\n",
       "      <td>Emotionally</td>\n",
       "      <td>0</td>\n",
       "      <td>0</td>\n",
       "      <td>0.000000</td>\n",
       "    </tr>\n",
       "    <tr>\n",
       "      <th>313</th>\n",
       "      <td>8sdQ7dP9Drs</td>\n",
       "      <td>17.15.11</td>\n",
       "      <td>Today's News: It's On - Get The Goods, Novembe...</td>\n",
       "      <td>Whistler Blackcomb</td>\n",
       "      <td>17</td>\n",
       "      <td>2017-11-14T18:18:21.000Z</td>\n",
       "      <td>[none]</td>\n",
       "      <td>4851</td>\n",
       "      <td>31</td>\n",
       "      <td>0</td>\n",
       "      <td>...</td>\n",
       "      <td>https://i.ytimg.com/vi/8sdQ7dP9Drs/default.jpg</td>\n",
       "      <td>False</td>\n",
       "      <td>False</td>\n",
       "      <td>False</td>\n",
       "      <td>Today’s news: it’s on. Whistler Mountain will ...</td>\n",
       "      <td>[Today's, News:, It's, On, -, Get, The, Goods,...</td>\n",
       "      <td>Today's</td>\n",
       "      <td>0</td>\n",
       "      <td>0</td>\n",
       "      <td>0.000000</td>\n",
       "    </tr>\n",
       "    <tr>\n",
       "      <th>385</th>\n",
       "      <td>ClwBTkLiivk</td>\n",
       "      <td>17.15.11</td>\n",
       "      <td>Week 4 Challenge: Check out “My Email Leads”</td>\n",
       "      <td>CREA | ACI</td>\n",
       "      <td>29</td>\n",
       "      <td>2017-11-13T13:46:37.000Z</td>\n",
       "      <td>CREA</td>\n",
       "      <td>1898</td>\n",
       "      <td>0</td>\n",
       "      <td>0</td>\n",
       "      <td>...</td>\n",
       "      <td>https://i.ytimg.com/vi/ClwBTkLiivk/default.jpg</td>\n",
       "      <td>True</td>\n",
       "      <td>False</td>\n",
       "      <td>False</td>\n",
       "      <td>www.realtor.ca/2mins</td>\n",
       "      <td>[Week, 4, Challenge:, Check, out, “My, Email, ...</td>\n",
       "      <td>Week</td>\n",
       "      <td>0</td>\n",
       "      <td>0</td>\n",
       "      <td>0.000000</td>\n",
       "    </tr>\n",
       "    <tr>\n",
       "      <th>510</th>\n",
       "      <td>IkQhv4qzbc4</td>\n",
       "      <td>17.16.11</td>\n",
       "      <td>Decades of memories gone</td>\n",
       "      <td>Castanet News</td>\n",
       "      <td>25</td>\n",
       "      <td>2017-11-14T22:06:48.000Z</td>\n",
       "      <td>Decades of memories gone|\"YouTube Ends\"</td>\n",
       "      <td>3663</td>\n",
       "      <td>2</td>\n",
       "      <td>0</td>\n",
       "      <td>...</td>\n",
       "      <td>https://i.ytimg.com/vi/IkQhv4qzbc4/default.jpg</td>\n",
       "      <td>False</td>\n",
       "      <td>False</td>\n",
       "      <td>False</td>\n",
       "      <td>A lady in Kelowna spent hours on Christmas pot...</td>\n",
       "      <td>[Decades, of, memories, gone]</td>\n",
       "      <td>Decades</td>\n",
       "      <td>0</td>\n",
       "      <td>0</td>\n",
       "      <td>0.000000</td>\n",
       "    </tr>\n",
       "    <tr>\n",
       "      <th>579</th>\n",
       "      <td>0ayARJdf7I4</td>\n",
       "      <td>17.16.11</td>\n",
       "      <td>018 Algebra Lineal 18-10-2011</td>\n",
       "      <td>udearroba</td>\n",
       "      <td>27</td>\n",
       "      <td>2017-11-15T18:20:06.000Z</td>\n",
       "      <td>[none]</td>\n",
       "      <td>1141</td>\n",
       "      <td>0</td>\n",
       "      <td>0</td>\n",
       "      <td>...</td>\n",
       "      <td>https://i.ytimg.com/vi/0ayARJdf7I4/default.jpg</td>\n",
       "      <td>False</td>\n",
       "      <td>False</td>\n",
       "      <td>False</td>\n",
       "      <td>Base ortogonal</td>\n",
       "      <td>[018, Algebra, Lineal, 18-10-2011]</td>\n",
       "      <td>018</td>\n",
       "      <td>0</td>\n",
       "      <td>0</td>\n",
       "      <td>0.000000</td>\n",
       "    </tr>\n",
       "    <tr>\n",
       "      <th>...</th>\n",
       "      <td>...</td>\n",
       "      <td>...</td>\n",
       "      <td>...</td>\n",
       "      <td>...</td>\n",
       "      <td>...</td>\n",
       "      <td>...</td>\n",
       "      <td>...</td>\n",
       "      <td>...</td>\n",
       "      <td>...</td>\n",
       "      <td>...</td>\n",
       "      <td>...</td>\n",
       "      <td>...</td>\n",
       "      <td>...</td>\n",
       "      <td>...</td>\n",
       "      <td>...</td>\n",
       "      <td>...</td>\n",
       "      <td>...</td>\n",
       "      <td>...</td>\n",
       "      <td>...</td>\n",
       "      <td>...</td>\n",
       "      <td>...</td>\n",
       "    </tr>\n",
       "    <tr>\n",
       "      <th>34499</th>\n",
       "      <td>JVTUsdSg6Do</td>\n",
       "      <td>18.13.05</td>\n",
       "      <td>NHL Players That Played Through Terrible Injur...</td>\n",
       "      <td>CanadianJock</td>\n",
       "      <td>17</td>\n",
       "      <td>2018-05-12T22:56:53.000Z</td>\n",
       "      <td>NHL|\"TheHockeyGuy\"|\"UrinatingTree\"|\"FivePointV...</td>\n",
       "      <td>3547</td>\n",
       "      <td>335</td>\n",
       "      <td>4</td>\n",
       "      <td>...</td>\n",
       "      <td>https://i.ytimg.com/vi/JVTUsdSg6Do/default.jpg</td>\n",
       "      <td>False</td>\n",
       "      <td>False</td>\n",
       "      <td>False</td>\n",
       "      <td>NHL Injuries in the playoffs for the Stanley C...</td>\n",
       "      <td>[NHL, Players, That, Played, Through, Terrible...</td>\n",
       "      <td>NHL</td>\n",
       "      <td>0</td>\n",
       "      <td>1</td>\n",
       "      <td>0.100000</td>\n",
       "    </tr>\n",
       "    <tr>\n",
       "      <th>34511</th>\n",
       "      <td>O0psVki3cKI</td>\n",
       "      <td>18.13.05</td>\n",
       "      <td>NBL Canada Finals Game 4 | Halifax Hurricanes ...</td>\n",
       "      <td>London Lightning</td>\n",
       "      <td>17</td>\n",
       "      <td>2018-05-13T03:14:14.000Z</td>\n",
       "      <td>[none]</td>\n",
       "      <td>3684</td>\n",
       "      <td>22</td>\n",
       "      <td>4</td>\n",
       "      <td>...</td>\n",
       "      <td>https://i.ytimg.com/vi/O0psVki3cKI/default.jpg</td>\n",
       "      <td>False</td>\n",
       "      <td>False</td>\n",
       "      <td>False</td>\n",
       "      <td>NBL Canada Finals Game 4 | Halifax Hurricanes ...</td>\n",
       "      <td>[NBL, Canada, Finals, Game, 4, |, Halifax, Hur...</td>\n",
       "      <td>NBL</td>\n",
       "      <td>0</td>\n",
       "      <td>1</td>\n",
       "      <td>0.066667</td>\n",
       "    </tr>\n",
       "    <tr>\n",
       "      <th>34625</th>\n",
       "      <td>bz91MAdY6FQ</td>\n",
       "      <td>18.14.05</td>\n",
       "      <td>''Gala Artis 2018'' Le numéro d'ouverture</td>\n",
       "      <td>mart lat</td>\n",
       "      <td>24</td>\n",
       "      <td>2018-05-14T00:43:35.000Z</td>\n",
       "      <td>gala|\"artis\"|\"2018\"|\"numéro d'ouverture\"|\"Yama...</td>\n",
       "      <td>733</td>\n",
       "      <td>10</td>\n",
       "      <td>4</td>\n",
       "      <td>...</td>\n",
       "      <td>https://i.ytimg.com/vi/bz91MAdY6FQ/default.jpg</td>\n",
       "      <td>False</td>\n",
       "      <td>False</td>\n",
       "      <td>False</td>\n",
       "      <td>Anim.: Maripier Morin et Jean-Philippe Dion. L...</td>\n",
       "      <td>[''Gala, Artis, 2018'', Le, numéro, d'ouverture]</td>\n",
       "      <td>''Gala</td>\n",
       "      <td>0</td>\n",
       "      <td>0</td>\n",
       "      <td>0.000000</td>\n",
       "    </tr>\n",
       "    <tr>\n",
       "      <th>34629</th>\n",
       "      <td>FgF3ENGluoI</td>\n",
       "      <td>18.14.05</td>\n",
       "      <td>Who Will be the NEXT Raptors Head Coach?</td>\n",
       "      <td>Raptors Digest</td>\n",
       "      <td>17</td>\n",
       "      <td>2018-05-13T20:56:45.000Z</td>\n",
       "      <td>raptors|\"toronto\"|\"dwane\"|\"casey\"|\"mike\"|\"bud\"...</td>\n",
       "      <td>2236</td>\n",
       "      <td>68</td>\n",
       "      <td>3</td>\n",
       "      <td>...</td>\n",
       "      <td>https://i.ytimg.com/vi/FgF3ENGluoI/default.jpg</td>\n",
       "      <td>False</td>\n",
       "      <td>False</td>\n",
       "      <td>False</td>\n",
       "      <td>Ben Rogers and Ryker Richard take a look at th...</td>\n",
       "      <td>[Who, Will, be, the, NEXT, Raptors, Head, Coach?]</td>\n",
       "      <td>Who</td>\n",
       "      <td>0</td>\n",
       "      <td>1</td>\n",
       "      <td>0.125000</td>\n",
       "    </tr>\n",
       "    <tr>\n",
       "      <th>34656</th>\n",
       "      <td>Mhzau3mvaiI</td>\n",
       "      <td>18.14.05</td>\n",
       "      <td>SHAHRZAD SERIES - Season 3 - Episode 14 - Teas...</td>\n",
       "      <td>Tasvir Gostar Pasargad</td>\n",
       "      <td>22</td>\n",
       "      <td>2018-05-14T03:30:00.000Z</td>\n",
       "      <td>tv shows|\"iranian series\"|\"serial irani\"|\"Seri...</td>\n",
       "      <td>2570</td>\n",
       "      <td>122</td>\n",
       "      <td>4</td>\n",
       "      <td>...</td>\n",
       "      <td>https://i.ytimg.com/vi/Mhzau3mvaiI/default.jpg</td>\n",
       "      <td>False</td>\n",
       "      <td>False</td>\n",
       "      <td>False</td>\n",
       "      <td>NaN</td>\n",
       "      <td>[SHAHRZAD, SERIES, -, Season, 3, -, Episode, 1...</td>\n",
       "      <td>SHAHRZAD</td>\n",
       "      <td>0</td>\n",
       "      <td>2</td>\n",
       "      <td>0.095238</td>\n",
       "    </tr>\n",
       "  </tbody>\n",
       "</table>\n",
       "<p>308 rows × 21 columns</p>\n",
       "</div>"
      ],
      "text/plain": [
       "          video_id trending_date  \\\n",
       "42     t3FYESkzjUI      17.14.11   \n",
       "313    8sdQ7dP9Drs      17.15.11   \n",
       "385    ClwBTkLiivk      17.15.11   \n",
       "510    IkQhv4qzbc4      17.16.11   \n",
       "579    0ayARJdf7I4      17.16.11   \n",
       "...            ...           ...   \n",
       "34499  JVTUsdSg6Do      18.13.05   \n",
       "34511  O0psVki3cKI      18.13.05   \n",
       "34625  bz91MAdY6FQ      18.14.05   \n",
       "34629  FgF3ENGluoI      18.14.05   \n",
       "34656  Mhzau3mvaiI      18.14.05   \n",
       "\n",
       "                                                   title  \\\n",
       "42                  Emotionally Responsive Digital Human   \n",
       "313    Today's News: It's On - Get The Goods, Novembe...   \n",
       "385         Week 4 Challenge: Check out “My Email Leads”   \n",
       "510                             Decades of memories gone   \n",
       "579                        018 Algebra Lineal 18-10-2011   \n",
       "...                                                  ...   \n",
       "34499  NHL Players That Played Through Terrible Injur...   \n",
       "34511  NBL Canada Finals Game 4 | Halifax Hurricanes ...   \n",
       "34625          ''Gala Artis 2018'' Le numéro d'ouverture   \n",
       "34629           Who Will be the NEXT Raptors Head Coach?   \n",
       "34656  SHAHRZAD SERIES - Season 3 - Episode 14 - Teas...   \n",
       "\n",
       "                channel_title  category_id              publish_time  \\\n",
       "42              Soul Machines           22  2017-10-31T01:11:48.000Z   \n",
       "313        Whistler Blackcomb           17  2017-11-14T18:18:21.000Z   \n",
       "385                CREA | ACI           29  2017-11-13T13:46:37.000Z   \n",
       "510             Castanet News           25  2017-11-14T22:06:48.000Z   \n",
       "579                 udearroba           27  2017-11-15T18:20:06.000Z   \n",
       "...                       ...          ...                       ...   \n",
       "34499            CanadianJock           17  2018-05-12T22:56:53.000Z   \n",
       "34511        London Lightning           17  2018-05-13T03:14:14.000Z   \n",
       "34625                mart lat           24  2018-05-14T00:43:35.000Z   \n",
       "34629          Raptors Digest           17  2018-05-13T20:56:45.000Z   \n",
       "34656  Tasvir Gostar Pasargad           22  2018-05-14T03:30:00.000Z   \n",
       "\n",
       "                                                    tags  views  likes  \\\n",
       "42     artificial intelligence|\"digital human\"|\"virtu...   3684      4   \n",
       "313                                               [none]   4851     31   \n",
       "385                                                 CREA   1898      0   \n",
       "510              Decades of memories gone|\"YouTube Ends\"   3663      2   \n",
       "579                                               [none]   1141      0   \n",
       "...                                                  ...    ...    ...   \n",
       "34499  NHL|\"TheHockeyGuy\"|\"UrinatingTree\"|\"FivePointV...   3547    335   \n",
       "34511                                             [none]   3684     22   \n",
       "34625  gala|\"artis\"|\"2018\"|\"numéro d'ouverture\"|\"Yama...    733     10   \n",
       "34629  raptors|\"toronto\"|\"dwane\"|\"casey\"|\"mike\"|\"bud\"...   2236     68   \n",
       "34656  tv shows|\"iranian series\"|\"serial irani\"|\"Seri...   2570    122   \n",
       "\n",
       "       dislikes  ...                                  thumbnail_link  \\\n",
       "42            5  ...  https://i.ytimg.com/vi/t3FYESkzjUI/default.jpg   \n",
       "313           0  ...  https://i.ytimg.com/vi/8sdQ7dP9Drs/default.jpg   \n",
       "385           0  ...  https://i.ytimg.com/vi/ClwBTkLiivk/default.jpg   \n",
       "510           0  ...  https://i.ytimg.com/vi/IkQhv4qzbc4/default.jpg   \n",
       "579           0  ...  https://i.ytimg.com/vi/0ayARJdf7I4/default.jpg   \n",
       "...         ...  ...                                             ...   \n",
       "34499         4  ...  https://i.ytimg.com/vi/JVTUsdSg6Do/default.jpg   \n",
       "34511         4  ...  https://i.ytimg.com/vi/O0psVki3cKI/default.jpg   \n",
       "34625         4  ...  https://i.ytimg.com/vi/bz91MAdY6FQ/default.jpg   \n",
       "34629         3  ...  https://i.ytimg.com/vi/FgF3ENGluoI/default.jpg   \n",
       "34656         4  ...  https://i.ytimg.com/vi/Mhzau3mvaiI/default.jpg   \n",
       "\n",
       "      comments_disabled  ratings_disabled  video_error_or_removed  \\\n",
       "42                False             False                   False   \n",
       "313               False             False                   False   \n",
       "385                True             False                   False   \n",
       "510               False             False                   False   \n",
       "579               False             False                   False   \n",
       "...                 ...               ...                     ...   \n",
       "34499             False             False                   False   \n",
       "34511             False             False                   False   \n",
       "34625             False             False                   False   \n",
       "34629             False             False                   False   \n",
       "34656             False             False                   False   \n",
       "\n",
       "                                             description  \\\n",
       "42           Soul Machines is making machines more human   \n",
       "313    Today’s news: it’s on. Whistler Mountain will ...   \n",
       "385                                 www.realtor.ca/2mins   \n",
       "510    A lady in Kelowna spent hours on Christmas pot...   \n",
       "579                                       Base ortogonal   \n",
       "...                                                  ...   \n",
       "34499  NHL Injuries in the playoffs for the Stanley C...   \n",
       "34511  NBL Canada Finals Game 4 | Halifax Hurricanes ...   \n",
       "34625  Anim.: Maripier Morin et Jean-Philippe Dion. L...   \n",
       "34629  Ben Rogers and Ryker Richard take a look at th...   \n",
       "34656                                                NaN   \n",
       "\n",
       "                                              title_word    firstword  \\\n",
       "42             [Emotionally, Responsive, Digital, Human]  Emotionally   \n",
       "313    [Today's, News:, It's, On, -, Get, The, Goods,...      Today's   \n",
       "385    [Week, 4, Challenge:, Check, out, “My, Email, ...         Week   \n",
       "510                        [Decades, of, memories, gone]      Decades   \n",
       "579                   [018, Algebra, Lineal, 18-10-2011]          018   \n",
       "...                                                  ...          ...   \n",
       "34499  [NHL, Players, That, Played, Through, Terrible...          NHL   \n",
       "34511  [NBL, Canada, Finals, Game, 4, |, Halifax, Hur...          NBL   \n",
       "34625   [''Gala, Artis, 2018'', Le, numéro, d'ouverture]       ''Gala   \n",
       "34629  [Who, Will, be, the, NEXT, Raptors, Head, Coach?]          Who   \n",
       "34656  [SHAHRZAD, SERIES, -, Season, 3, -, Episode, 1...     SHAHRZAD   \n",
       "\n",
       "      high_views  count_words_upper  count_words_upper%  \n",
       "42             0                  0            0.000000  \n",
       "313            0                  0            0.000000  \n",
       "385            0                  0            0.000000  \n",
       "510            0                  0            0.000000  \n",
       "579            0                  0            0.000000  \n",
       "...          ...                ...                 ...  \n",
       "34499          0                  1            0.100000  \n",
       "34511          0                  1            0.066667  \n",
       "34625          0                  0            0.000000  \n",
       "34629          0                  1            0.125000  \n",
       "34656          0                  2            0.095238  \n",
       "\n",
       "[308 rows x 21 columns]"
      ]
     },
     "execution_count": 18,
     "metadata": {},
     "output_type": "execute_result"
    }
   ],
   "source": [
    "data0"
   ]
  },
  {
   "cell_type": "code",
   "execution_count": 19,
   "id": "5a17e7c3",
   "metadata": {},
   "outputs": [
    {
     "data": {
      "text/plain": [
       "<matplotlib.collections.PathCollection at 0x171e7e1c0>"
      ]
     },
     "execution_count": 19,
     "metadata": {},
     "output_type": "execute_result"
    },
    {
     "data": {
      "image/png": "[encoded data removed]",
      "text/plain": [
       "<Figure size 432x288 with 1 Axes>"
      ]
     },
     "metadata": {
      "needs_background": "light"
     },
     "output_type": "display_data"
    }
   ],
   "source": [
    "x=data['count_words_upper']\n",
    "y=data['views']\n",
    "plt.scatter(x,y)"
   ]
  },
  {
   "cell_type": "code",
   "execution_count": 20,
   "id": "ad2eea01",
   "metadata": {},
   "outputs": [],
   "source": [
    "data[\"count_punctuations\"] =data[\"title\"].apply(lambda x: len([c for c in str(x) if c in string.punctuation]))"
   ]
  },
  {
   "cell_type": "code",
   "execution_count": 21,
   "id": "ef842e06",
   "metadata": {},
   "outputs": [],
   "source": [
    "data['count_word']=data[\"title\"].apply(lambda x: len(str(x).split()))"
   ]
  },
  {
   "cell_type": "code",
   "execution_count": 22,
   "id": "4fcae351",
   "metadata": {},
   "outputs": [],
   "source": [
    "data[\"count_words_upper\"] = data[\"title\"].apply(lambda x: len([w for w in str(x).split() if w.isupper()]))"
   ]
  },
  {
   "cell_type": "code",
   "execution_count": 23,
   "id": "55d89fc4",
   "metadata": {},
   "outputs": [
    {
     "data": {
      "text/plain": [
       "<matplotlib.collections.PathCollection at 0x171eabd60>"
      ]
     },
     "execution_count": 23,
     "metadata": {},
     "output_type": "execute_result"
    },
    {
     "data": {
      "image/png": "[encoded data removed]",
      "text/plain": [
       "<Figure size 432x288 with 1 Axes>"
      ]
     },
     "metadata": {
      "needs_background": "light"
     },
     "output_type": "display_data"
    }
   ],
   "source": [
    "x = data['count_word']\n",
    "y = data[\"views\"]\n",
    "plt.scatter(x, y, label='cosine', color='purple')"
   ]
  },
  {
   "cell_type": "code",
   "execution_count": 24,
   "id": "180196a6",
   "metadata": {},
   "outputs": [],
   "source": [
    "data[\"count_words_title\"] = data[\"title\"].apply(lambda x: len([w for w in str(x).split() if w.istitle()]))"
   ]
  },
  {
   "cell_type": "code",
   "execution_count": 25,
   "id": "c2b5c81d",
   "metadata": {},
   "outputs": [
    {
     "data": {
      "image/png": "[encoded data removed]",
      "text/plain": [
       "<Figure size 864x576 with 2 Axes>"
      ]
     },
     "metadata": {
      "needs_background": "light"
     },
     "output_type": "display_data"
    }
   ],
   "source": [
    "plt.figure(figsize = (12,8))\n",
    "sns.heatmap(data[['count_word', \"count_punctuations\",\"count_words_upper\", 'count_words_title','count_words_upper%','views', 'likes','dislikes','high_views']].corr(), annot=True)\n",
    "plt.show()"
   ]
  },
  {
   "cell_type": "code",
   "execution_count": 26,
   "id": "b1229805",
   "metadata": {},
   "outputs": [
    {
     "name": "stdout",
     "output_type": "stream",
     "text": [
      "x_train:  (32704, 4)\n",
      "x_test:  (8177, 4)\n",
      "y_train:  (32704,)\n",
      "y_test:  (8177,)\n"
     ]
    }
   ],
   "source": [
    "x = data[['count_word', \"count_punctuations\",\"count_words_upper\", 'count_words_title']]\n",
    "y = data['views']\n",
    "\n",
    "from sklearn.model_selection import train_test_split\n",
    "from sklearn.metrics import r2_score,mean_absolute_error\n",
    "\n",
    "x_train,x_test,y_train,y_test = train_test_split(x,y,test_size = 0.2, random_state = 0)\n",
    "print(\"x_train: \",x_train.shape)\n",
    "print(\"x_test: \",x_test.shape)\n",
    "print(\"y_train: \",y_train.shape)\n",
    "print(\"y_test: \",y_test.shape)"
   ]
  },
  {
   "cell_type": "code",
   "execution_count": 27,
   "id": "c0213e4d",
   "metadata": {},
   "outputs": [],
   "source": [
    "from sklearn.linear_model import LinearRegression"
   ]
  },
  {
   "cell_type": "code",
   "execution_count": 28,
   "id": "0ca3343f",
   "metadata": {},
   "outputs": [
    {
     "data": {
      "text/plain": [
       "LinearRegression()"
      ]
     },
     "execution_count": 28,
     "metadata": {},
     "output_type": "execute_result"
    }
   ],
   "source": [
    "model=LinearRegression()\n",
    "model.fit(x_train,y_train)"
   ]
  },
  {
   "cell_type": "code",
   "execution_count": 29,
   "id": "0e290a87",
   "metadata": {},
   "outputs": [],
   "source": [
    "y_pred=model.predict(x_test)"
   ]
  },
  {
   "cell_type": "code",
   "execution_count": 30,
   "id": "2e4c9c5c",
   "metadata": {},
   "outputs": [
    {
     "data": {
      "text/plain": [
       "array([1999235.43343769, 1269606.6242761 , 1077400.49663942, ...,\n",
       "        844801.88725232, 1277688.93610792, 1148802.01546139])"
      ]
     },
     "execution_count": 30,
     "metadata": {},
     "output_type": "execute_result"
    }
   ],
   "source": [
    "y_pred"
   ]
  },
  {
   "cell_type": "code",
   "execution_count": 31,
   "id": "af3bd3a3",
   "metadata": {},
   "outputs": [
    {
     "name": "stdout",
     "output_type": "stream",
     "text": [
      "Mean Absolute Error on Training Set:  1243907.3690431064\n",
      "Mean Absolute Error on Testing Set:  1284832.5244922051\n",
      "R-Squared Score on Training Set:  0.010718562969620593\n",
      "R-Squared Score on Testing Set:  0.00900195775636925\n"
     ]
    }
   ],
   "source": [
    "print(\"Mean Absolute Error on Training Set: \",mean_absolute_error(y_train,model.predict(x_train)))\n",
    "print(\"Mean Absolute Error on Testing Set: \",mean_absolute_error(y_test,y_pred))\n",
    "print(\"R-Squared Score on Training Set: \",r2_score(y_train,model.predict(x_train)))\n",
    "print(\"R-Squared Score on Testing Set: \",r2_score(y_test,y_pred))"
   ]
  },
  {
   "cell_type": "code",
   "execution_count": null,
   "id": "3ae74399",
   "metadata": {},
   "outputs": [],
   "source": []
  }
 ],
 "metadata": {
  "kernelspec": {
   "display_name": "Python 3 (ipykernel)",
   "language": "python",
   "name": "python3"
  },
  "language_info": {
   "codemirror_mode": {
    "name": "ipython",
    "version": 3
   },
   "file_extension": ".py",
   "mimetype": "text/x-python",
   "name": "python",
   "nbconvert_exporter": "python",
   "pygments_lexer": "ipython3",
   "version": "3.9.7"
  }
 },
 "nbformat": 4,
 "nbformat_minor": 5
}
