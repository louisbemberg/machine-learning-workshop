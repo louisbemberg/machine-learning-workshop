{
 "cells": [
  {
   "cell_type": "markdown",
   "id": "78093891",
   "metadata": {},
   "source": [
    "# Summary Statistics: Amazon Best-selling books"
   ]
  },
  {
   "cell_type": "code",
   "execution_count": 1,
   "id": "e9df13cc",
   "metadata": {},
   "outputs": [
    {
     "name": "stdout",
     "output_type": "stream",
     "text": [
      "<class 'pandas.core.frame.DataFrame'>\n",
      "RangeIndex: 550 entries, 0 to 549\n",
      "Data columns (total 7 columns):\n",
      " #   Column       Non-Null Count  Dtype  \n",
      "---  ------       --------------  -----  \n",
      " 0   Name         550 non-null    object \n",
      " 1   Author       550 non-null    object \n",
      " 2   User Rating  550 non-null    float64\n",
      " 3   Reviews      550 non-null    int64  \n",
      " 4   Price        550 non-null    int64  \n",
      " 5   Year         550 non-null    int64  \n",
      " 6   Genre        550 non-null    object \n",
      "dtypes: float64(1), int64(3), object(3)\n",
      "memory usage: 30.2+ KB\n"
     ]
    }
   ],
   "source": [
    "# Importing necessary packages\n",
    "import numpy as np # alias\n",
    "import pandas as pd # alias\n",
    "\n",
    "# Importing the data from the CSV\n",
    "books = pd.read_csv('../amazon_bestsellers.csv')\n",
    "books.info()"
   ]
  },
  {
   "cell_type": "code",
   "execution_count": 2,
   "id": "34dedb60",
   "metadata": {},
   "outputs": [
    {
     "data": {
      "text/html": [
       "<div>\n",
       "<style scoped>\n",
       "    .dataframe tbody tr th:only-of-type {\n",
       "        vertical-align: middle;\n",
       "    }\n",
       "\n",
       "    .dataframe tbody tr th {\n",
       "        vertical-align: top;\n",
       "    }\n",
       "\n",
       "    .dataframe thead th {\n",
       "        text-align: right;\n",
       "    }\n",
       "</style>\n",
       "<table border=\"1\" class=\"dataframe\">\n",
       "  <thead>\n",
       "    <tr style=\"text-align: right;\">\n",
       "      <th></th>\n",
       "      <th>Name</th>\n",
       "      <th>Author</th>\n",
       "      <th>User Rating</th>\n",
       "      <th>Reviews</th>\n",
       "      <th>Price</th>\n",
       "      <th>Year</th>\n",
       "      <th>Genre</th>\n",
       "    </tr>\n",
       "  </thead>\n",
       "  <tbody>\n",
       "    <tr>\n",
       "      <th>0</th>\n",
       "      <td>10-Day Green Smoothie Cleanse</td>\n",
       "      <td>JJ Smith</td>\n",
       "      <td>4.7</td>\n",
       "      <td>17350</td>\n",
       "      <td>8</td>\n",
       "      <td>2016</td>\n",
       "      <td>Non Fiction</td>\n",
       "    </tr>\n",
       "    <tr>\n",
       "      <th>1</th>\n",
       "      <td>11/22/63: A Novel</td>\n",
       "      <td>Stephen King</td>\n",
       "      <td>4.6</td>\n",
       "      <td>2052</td>\n",
       "      <td>22</td>\n",
       "      <td>2011</td>\n",
       "      <td>Fiction</td>\n",
       "    </tr>\n",
       "    <tr>\n",
       "      <th>2</th>\n",
       "      <td>12 Rules for Life: An Antidote to Chaos</td>\n",
       "      <td>Jordan B. Peterson</td>\n",
       "      <td>4.7</td>\n",
       "      <td>18979</td>\n",
       "      <td>15</td>\n",
       "      <td>2018</td>\n",
       "      <td>Non Fiction</td>\n",
       "    </tr>\n",
       "    <tr>\n",
       "      <th>3</th>\n",
       "      <td>1984 (Signet Classics)</td>\n",
       "      <td>George Orwell</td>\n",
       "      <td>4.7</td>\n",
       "      <td>21424</td>\n",
       "      <td>6</td>\n",
       "      <td>2017</td>\n",
       "      <td>Fiction</td>\n",
       "    </tr>\n",
       "    <tr>\n",
       "      <th>4</th>\n",
       "      <td>5,000 Awesome Facts (About Everything!) (Natio...</td>\n",
       "      <td>National Geographic Kids</td>\n",
       "      <td>4.8</td>\n",
       "      <td>7665</td>\n",
       "      <td>12</td>\n",
       "      <td>2019</td>\n",
       "      <td>Non Fiction</td>\n",
       "    </tr>\n",
       "    <tr>\n",
       "      <th>5</th>\n",
       "      <td>A Dance with Dragons (A Song of Ice and Fire)</td>\n",
       "      <td>George R. R. Martin</td>\n",
       "      <td>4.4</td>\n",
       "      <td>12643</td>\n",
       "      <td>11</td>\n",
       "      <td>2011</td>\n",
       "      <td>Fiction</td>\n",
       "    </tr>\n",
       "    <tr>\n",
       "      <th>6</th>\n",
       "      <td>A Game of Thrones / A Clash of Kings / A Storm...</td>\n",
       "      <td>George R. R. Martin</td>\n",
       "      <td>4.7</td>\n",
       "      <td>19735</td>\n",
       "      <td>30</td>\n",
       "      <td>2014</td>\n",
       "      <td>Fiction</td>\n",
       "    </tr>\n",
       "    <tr>\n",
       "      <th>7</th>\n",
       "      <td>A Gentleman in Moscow: A Novel</td>\n",
       "      <td>Amor Towles</td>\n",
       "      <td>4.7</td>\n",
       "      <td>19699</td>\n",
       "      <td>15</td>\n",
       "      <td>2017</td>\n",
       "      <td>Fiction</td>\n",
       "    </tr>\n",
       "    <tr>\n",
       "      <th>8</th>\n",
       "      <td>A Higher Loyalty: Truth, Lies, and Leadership</td>\n",
       "      <td>James Comey</td>\n",
       "      <td>4.7</td>\n",
       "      <td>5983</td>\n",
       "      <td>3</td>\n",
       "      <td>2018</td>\n",
       "      <td>Non Fiction</td>\n",
       "    </tr>\n",
       "    <tr>\n",
       "      <th>9</th>\n",
       "      <td>A Man Called Ove: A Novel</td>\n",
       "      <td>Fredrik Backman</td>\n",
       "      <td>4.6</td>\n",
       "      <td>23848</td>\n",
       "      <td>8</td>\n",
       "      <td>2016</td>\n",
       "      <td>Fiction</td>\n",
       "    </tr>\n",
       "    <tr>\n",
       "      <th>10</th>\n",
       "      <td>A Man Called Ove: A Novel</td>\n",
       "      <td>Fredrik Backman</td>\n",
       "      <td>4.6</td>\n",
       "      <td>23848</td>\n",
       "      <td>8</td>\n",
       "      <td>2017</td>\n",
       "      <td>Fiction</td>\n",
       "    </tr>\n",
       "    <tr>\n",
       "      <th>11</th>\n",
       "      <td>A Patriot's History of the United States: From...</td>\n",
       "      <td>Larry Schweikart</td>\n",
       "      <td>4.6</td>\n",
       "      <td>460</td>\n",
       "      <td>2</td>\n",
       "      <td>2010</td>\n",
       "      <td>Non Fiction</td>\n",
       "    </tr>\n",
       "    <tr>\n",
       "      <th>12</th>\n",
       "      <td>A Stolen Life: A Memoir</td>\n",
       "      <td>Jaycee Dugard</td>\n",
       "      <td>4.6</td>\n",
       "      <td>4149</td>\n",
       "      <td>32</td>\n",
       "      <td>2011</td>\n",
       "      <td>Non Fiction</td>\n",
       "    </tr>\n",
       "    <tr>\n",
       "      <th>13</th>\n",
       "      <td>A Wrinkle in Time (Time Quintet)</td>\n",
       "      <td>Madeleine L'Engle</td>\n",
       "      <td>4.5</td>\n",
       "      <td>5153</td>\n",
       "      <td>5</td>\n",
       "      <td>2018</td>\n",
       "      <td>Fiction</td>\n",
       "    </tr>\n",
       "    <tr>\n",
       "      <th>14</th>\n",
       "      <td>Act Like a Lady, Think Like a Man: What Men Re...</td>\n",
       "      <td>Steve Harvey</td>\n",
       "      <td>4.6</td>\n",
       "      <td>5013</td>\n",
       "      <td>17</td>\n",
       "      <td>2009</td>\n",
       "      <td>Non Fiction</td>\n",
       "    </tr>\n",
       "    <tr>\n",
       "      <th>15</th>\n",
       "      <td>Adult Coloring Book Designs: Stress Relief Col...</td>\n",
       "      <td>Adult Coloring Book Designs</td>\n",
       "      <td>4.5</td>\n",
       "      <td>2313</td>\n",
       "      <td>4</td>\n",
       "      <td>2016</td>\n",
       "      <td>Non Fiction</td>\n",
       "    </tr>\n",
       "    <tr>\n",
       "      <th>16</th>\n",
       "      <td>Adult Coloring Book: Stress Relieving Animal D...</td>\n",
       "      <td>Blue Star Coloring</td>\n",
       "      <td>4.6</td>\n",
       "      <td>2925</td>\n",
       "      <td>6</td>\n",
       "      <td>2015</td>\n",
       "      <td>Non Fiction</td>\n",
       "    </tr>\n",
       "    <tr>\n",
       "      <th>17</th>\n",
       "      <td>Adult Coloring Book: Stress Relieving Patterns</td>\n",
       "      <td>Blue Star Coloring</td>\n",
       "      <td>4.4</td>\n",
       "      <td>2951</td>\n",
       "      <td>6</td>\n",
       "      <td>2015</td>\n",
       "      <td>Non Fiction</td>\n",
       "    </tr>\n",
       "    <tr>\n",
       "      <th>18</th>\n",
       "      <td>Adult Coloring Books: A Coloring Book for Adul...</td>\n",
       "      <td>Coloring Books for Adults</td>\n",
       "      <td>4.5</td>\n",
       "      <td>2426</td>\n",
       "      <td>8</td>\n",
       "      <td>2015</td>\n",
       "      <td>Non Fiction</td>\n",
       "    </tr>\n",
       "    <tr>\n",
       "      <th>19</th>\n",
       "      <td>Alexander Hamilton</td>\n",
       "      <td>Ron Chernow</td>\n",
       "      <td>4.8</td>\n",
       "      <td>9198</td>\n",
       "      <td>13</td>\n",
       "      <td>2016</td>\n",
       "      <td>Non Fiction</td>\n",
       "    </tr>\n",
       "  </tbody>\n",
       "</table>\n",
       "</div>"
      ],
      "text/plain": [
       "                                                 Name  \\\n",
       "0                       10-Day Green Smoothie Cleanse   \n",
       "1                                   11/22/63: A Novel   \n",
       "2             12 Rules for Life: An Antidote to Chaos   \n",
       "3                              1984 (Signet Classics)   \n",
       "4   5,000 Awesome Facts (About Everything!) (Natio...   \n",
       "5       A Dance with Dragons (A Song of Ice and Fire)   \n",
       "6   A Game of Thrones / A Clash of Kings / A Storm...   \n",
       "7                      A Gentleman in Moscow: A Novel   \n",
       "8       A Higher Loyalty: Truth, Lies, and Leadership   \n",
       "9                           A Man Called Ove: A Novel   \n",
       "10                          A Man Called Ove: A Novel   \n",
       "11  A Patriot's History of the United States: From...   \n",
       "12                            A Stolen Life: A Memoir   \n",
       "13                   A Wrinkle in Time (Time Quintet)   \n",
       "14  Act Like a Lady, Think Like a Man: What Men Re...   \n",
       "15  Adult Coloring Book Designs: Stress Relief Col...   \n",
       "16  Adult Coloring Book: Stress Relieving Animal D...   \n",
       "17     Adult Coloring Book: Stress Relieving Patterns   \n",
       "18  Adult Coloring Books: A Coloring Book for Adul...   \n",
       "19                                 Alexander Hamilton   \n",
       "\n",
       "                         Author  User Rating  Reviews  Price  Year  \\\n",
       "0                      JJ Smith          4.7    17350      8  2016   \n",
       "1                  Stephen King          4.6     2052     22  2011   \n",
       "2            Jordan B. Peterson          4.7    18979     15  2018   \n",
       "3                 George Orwell          4.7    21424      6  2017   \n",
       "4      National Geographic Kids          4.8     7665     12  2019   \n",
       "5           George R. R. Martin          4.4    12643     11  2011   \n",
       "6           George R. R. Martin          4.7    19735     30  2014   \n",
       "7                   Amor Towles          4.7    19699     15  2017   \n",
       "8                   James Comey          4.7     5983      3  2018   \n",
       "9               Fredrik Backman          4.6    23848      8  2016   \n",
       "10              Fredrik Backman          4.6    23848      8  2017   \n",
       "11             Larry Schweikart          4.6      460      2  2010   \n",
       "12                Jaycee Dugard          4.6     4149     32  2011   \n",
       "13            Madeleine L'Engle          4.5     5153      5  2018   \n",
       "14                 Steve Harvey          4.6     5013     17  2009   \n",
       "15  Adult Coloring Book Designs          4.5     2313      4  2016   \n",
       "16           Blue Star Coloring          4.6     2925      6  2015   \n",
       "17           Blue Star Coloring          4.4     2951      6  2015   \n",
       "18    Coloring Books for Adults          4.5     2426      8  2015   \n",
       "19                  Ron Chernow          4.8     9198     13  2016   \n",
       "\n",
       "          Genre  \n",
       "0   Non Fiction  \n",
       "1       Fiction  \n",
       "2   Non Fiction  \n",
       "3       Fiction  \n",
       "4   Non Fiction  \n",
       "5       Fiction  \n",
       "6       Fiction  \n",
       "7       Fiction  \n",
       "8   Non Fiction  \n",
       "9       Fiction  \n",
       "10      Fiction  \n",
       "11  Non Fiction  \n",
       "12  Non Fiction  \n",
       "13      Fiction  \n",
       "14  Non Fiction  \n",
       "15  Non Fiction  \n",
       "16  Non Fiction  \n",
       "17  Non Fiction  \n",
       "18  Non Fiction  \n",
       "19  Non Fiction  "
      ]
     },
     "execution_count": 2,
     "metadata": {},
     "output_type": "execute_result"
    }
   ],
   "source": [
    "# let's check the first few rows:\n",
    "books.head(20)"
   ]
  },
  {
   "cell_type": "code",
   "execution_count": 3,
   "id": "b4a6825e",
   "metadata": {},
   "outputs": [
    {
     "data": {
      "text/plain": [
       "<AxesSubplot:ylabel='Frequency'>"
      ]
     },
     "execution_count": 3,
     "metadata": {},
     "output_type": "execute_result"
    },
    {
     "data": {
      "image/png": "[encoded data removed]",
      "text/plain": [
       "<Figure size 432x288 with 1 Axes>"
      ]
     },
     "metadata": {
      "needs_background": "light"
     },
     "output_type": "display_data"
    }
   ],
   "source": [
    "books['User Rating'].plot(kind='hist')"
   ]
  },
  {
   "cell_type": "code",
   "execution_count": 4,
   "id": "79f793e9",
   "metadata": {},
   "outputs": [
    {
     "name": "stdout",
     "output_type": "stream",
     "text": [
      "<class 'pandas.core.frame.DataFrame'>\n",
      "Int64Index: 351 entries, 0 to 546\n",
      "Data columns (total 7 columns):\n",
      " #   Column       Non-Null Count  Dtype  \n",
      "---  ------       --------------  -----  \n",
      " 0   Name         351 non-null    object \n",
      " 1   Author       351 non-null    object \n",
      " 2   User Rating  351 non-null    float64\n",
      " 3   Reviews      351 non-null    int64  \n",
      " 4   Price        351 non-null    int64  \n",
      " 5   Year         351 non-null    int64  \n",
      " 6   Genre        351 non-null    object \n",
      "dtypes: float64(1), int64(3), object(3)\n",
      "memory usage: 21.9+ KB\n"
     ]
    }
   ],
   "source": [
    "# Do we have any duplicate data? Let's remove books with identical author & title\n",
    "books = books.drop_duplicates(subset=['Name', 'Author'], keep='first')\n",
    "books.info() # we lost 199 books!"
   ]
  },
  {
   "cell_type": "code",
   "execution_count": 5,
   "id": "d9799663",
   "metadata": {},
   "outputs": [
    {
     "data": {
      "image/png": "[encoded data removed]",
      "text/plain": [
       "<Figure size 360x360 with 1 Axes>"
      ]
     },
     "metadata": {},
     "output_type": "display_data"
    }
   ],
   "source": [
    "# Let's build a pie-chart of the genre!\n",
    "from matplotlib import pyplot as plt\n",
    "\n",
    "\n",
    "genres = ['Fiction', 'Non Fiction']\n",
    "data = [(books.Genre == 'Fiction').sum(), (books.Genre == 'Non Fiction').sum() ]\n",
    "# Creating plot\n",
    "fig = plt.figure(figsize =(5, 5))\n",
    "plt.pie(data, labels = genres)\n",
    "# show plot\n",
    "plt.show()"
   ]
  },
  {
   "cell_type": "code",
   "execution_count": 6,
   "id": "378df7b1",
   "metadata": {},
   "outputs": [
    {
     "data": {
      "image/png": "[encoded data removed]",
      "text/plain": [
       "<Figure size 360x360 with 1 Axes>"
      ]
     },
     "metadata": {},
     "output_type": "display_data"
    },
    {
     "data": {
      "image/png": "[encoded data removed]",
      "text/plain": [
       "<Figure size 360x360 with 1 Axes>"
      ]
     },
     "metadata": {},
     "output_type": "display_data"
    },
    {
     "data": {
      "image/png": "[encoded data removed]",
      "text/plain": [
       "<Figure size 360x360 with 1 Axes>"
      ]
     },
     "metadata": {},
     "output_type": "display_data"
    }
   ],
   "source": [
    "# Are there more books from before or after 2010?\n",
    "from matplotlib import pyplot as plt\n",
    "\n",
    "\n",
    "genres = ['Before 2013', '2013 or After']\n",
    "data = [(books.Year < 2013).sum(), (books.Year >= 2013).sum() ]\n",
    "# Creating plot\n",
    "fig = plt.figure(figsize =(5, 5))\n",
    "plt.pie(data, labels = genres)\n",
    "# show plot\n",
    "plt.show()\n",
    "\n",
    "genres = ['2015 or before', 'After 2015']\n",
    "data = [(books.Year < 2015).sum(), (books.Year >= 2015).sum() ]\n",
    "# Creating plot\n",
    "fig = plt.figure(figsize =(5, 5))\n",
    "plt.pie(data, labels = genres)\n",
    "# show plot\n",
    "plt.show()\n",
    "\n",
    "genres = ['Before 2018', '2018 or After']\n",
    "data = [(books.Year < 2018).sum(), (books.Year >= 2019).sum() ]\n",
    "# Creating plot\n",
    "fig = plt.figure(figsize =(5, 5))\n",
    "plt.pie(data, labels = genres)\n",
    "# show plot\n",
    "plt.show()"
   ]
  },
  {
   "cell_type": "code",
   "execution_count": null,
   "id": "d1613898",
   "metadata": {},
   "outputs": [],
   "source": []
  },
  {
   "cell_type": "code",
   "execution_count": null,
   "id": "4481fe01",
   "metadata": {},
   "outputs": [],
   "source": []
  },
  {
   "cell_type": "code",
   "execution_count": 7,
   "id": "d3b95f49",
   "metadata": {},
   "outputs": [
    {
     "ename": "NameError",
     "evalue": "name 'order' is not defined",
     "output_type": "error",
     "traceback": [
      "\u001b[0;31m---------------------------------------------------------------------------\u001b[0m",
      "\u001b[0;31mNameError\u001b[0m                                 Traceback (most recent call last)",
      "\u001b[0;32m/var/folders/v3/1kz7xjcj2yb31_35s_2dbd0r0000gn/T/ipykernel_76486/1434320344.py\u001b[0m in \u001b[0;36m<module>\u001b[0;34m\u001b[0m\n\u001b[1;32m      7\u001b[0m \u001b[0;31m# black magic to get the x-axis sorted\u001b[0m\u001b[0;34m\u001b[0m\u001b[0;34m\u001b[0m\u001b[0;34m\u001b[0m\u001b[0m\n\u001b[1;32m      8\u001b[0m \u001b[0myears\u001b[0m \u001b[0;34m=\u001b[0m \u001b[0mbooks\u001b[0m\u001b[0;34m[\u001b[0m\u001b[0;34m'Year'\u001b[0m\u001b[0;34m]\u001b[0m\u001b[0;34m.\u001b[0m\u001b[0mastype\u001b[0m\u001b[0;34m(\u001b[0m\u001b[0mint\u001b[0m\u001b[0;34m)\u001b[0m\u001b[0;34m.\u001b[0m\u001b[0mvalue_counts\u001b[0m\u001b[0;34m(\u001b[0m\u001b[0;34m)\u001b[0m\u001b[0;34m\u001b[0m\u001b[0;34m\u001b[0m\u001b[0m\n\u001b[0;32m----> 9\u001b[0;31m \u001b[0myears\u001b[0m\u001b[0;34m.\u001b[0m\u001b[0mreindex\u001b[0m\u001b[0;34m(\u001b[0m\u001b[0mnp\u001b[0m\u001b[0;34m.\u001b[0m\u001b[0mintersect1d\u001b[0m\u001b[0;34m(\u001b[0m\u001b[0morder\u001b[0m\u001b[0;34m,\u001b[0m \u001b[0myears\u001b[0m\u001b[0;34m.\u001b[0m\u001b[0mindex\u001b[0m\u001b[0;34m)\u001b[0m\u001b[0;34m)\u001b[0m\u001b[0;34m.\u001b[0m\u001b[0mplot\u001b[0m\u001b[0;34m(\u001b[0m\u001b[0mkind\u001b[0m\u001b[0;34m=\u001b[0m\u001b[0;34m'bar'\u001b[0m\u001b[0;34m,\u001b[0m \u001b[0mfigsize\u001b[0m\u001b[0;34m=\u001b[0m\u001b[0;34m(\u001b[0m\u001b[0;36m7\u001b[0m\u001b[0;34m,\u001b[0m \u001b[0;36m6\u001b[0m\u001b[0;34m)\u001b[0m\u001b[0;34m,\u001b[0m \u001b[0mrot\u001b[0m\u001b[0;34m=\u001b[0m\u001b[0;36m0\u001b[0m\u001b[0;34m)\u001b[0m\u001b[0;34m\u001b[0m\u001b[0;34m\u001b[0m\u001b[0m\n\u001b[0m\u001b[1;32m     10\u001b[0m \u001b[0;34m\u001b[0m\u001b[0m\n\u001b[1;32m     11\u001b[0m \u001b[0;31m# design of bar chart\u001b[0m\u001b[0;34m\u001b[0m\u001b[0;34m\u001b[0m\u001b[0;34m\u001b[0m\u001b[0m\n",
      "\u001b[0;31mNameError\u001b[0m: name 'order' is not defined"
     ]
    }
   ],
   "source": [
    "import seaborn as sns\n",
    "import matplotlib.pyplot as plt\n",
    "\n",
    "\n",
    "sns.set(font_scale=1.4)\n",
    "\n",
    "# black magic to get the x-axis sorted\n",
    "years = books['Year'].astype(int).value_counts()\n",
    "years.reindex(np.intersect1d(order, years.index)).plot(kind='bar', figsize=(7, 6), rot=0)\n",
    "\n",
    "# design of bar chart\n",
    "plt.xlabel(\"Year\", labelpad=14)\n",
    "plt.ylabel(\"Number of Best Selling Books\", labelpad=14)\n",
    "plt.title(\"Count of Amazon Bestsellers per Year, 2009-2019\", y=1.02);"
   ]
  },
  {
   "cell_type": "code",
   "execution_count": null,
   "id": "1711f8d6",
   "metadata": {},
   "outputs": [],
   "source": [
    "# User Rating Statistics\n",
    "print('Average Rating:', books['User Rating'].mean())\n",
    "print('Median Rating:', books['User Rating'].median())\n",
    "print('Highest Rating:', books['User Rating'].max())\n",
    "print('Lowest Rating:', books['User Rating'].min())"
   ]
  },
  {
   "cell_type": "code",
   "execution_count": null,
   "id": "c19209e8",
   "metadata": {},
   "outputs": [],
   "source": [
    "books['User Rating'].describe()"
   ]
  },
  {
   "cell_type": "code",
   "execution_count": null,
   "id": "e716526d",
   "metadata": {},
   "outputs": [],
   "source": [
    "# What is the average rating of books per year?\n",
    "books[[\"Year\", \"User Rating\"]].groupby(\"Year\").describe()\n",
    "\n",
    "# Interpretations:\n",
    "# 1) The more readers, the more bad reviews?\n",
    "# 2) More recent book => Newer Generation => More keen to give a good review?\n",
    "# 3) Are more recent books simply better? (unlikely)"
   ]
  },
  {
   "cell_type": "code",
   "execution_count": null,
   "id": "dc8390c5",
   "metadata": {},
   "outputs": [],
   "source": [
    "# Plotting mean review for each year\n",
    "import seaborn as sns\n",
    "import matplotlib.pyplot as plt\n",
    "\n",
    "\n",
    "df = pd.DataFrame({'Years':[i for i in range(2009, 2020)], 'MeanReview':[4.58, 4.56, 4.53, 4.48, 4.58, 4.64, 4.62, 4.69, 4.65, 4.64, 4.72]})\n",
    "ax = df.plot.bar(x='Years', y='MeanReview', rot=0, figsize=(10,10))\n",
    "ax.set_ylim(4,5)"
   ]
  },
  {
   "cell_type": "code",
   "execution_count": null,
   "id": "6316f2e2",
   "metadata": {},
   "outputs": [],
   "source": [
    "books[[\"Year\", \"User Rating\"]].groupby(\"Year\").mean().plot"
   ]
  },
  {
   "cell_type": "code",
   "execution_count": null,
   "id": "968cf2c3",
   "metadata": {},
   "outputs": [],
   "source": []
  },
  {
   "cell_type": "code",
   "execution_count": null,
   "id": "b07653ca",
   "metadata": {},
   "outputs": [],
   "source": [
    "books['Author'].value_counts()"
   ]
  },
  {
   "cell_type": "code",
   "execution_count": null,
   "id": "9a72b8ed",
   "metadata": {},
   "outputs": [],
   "source": [
    "# Let's count how many times each author appears\n",
    "books['Author'].value_counts()"
   ]
  },
  {
   "cell_type": "code",
   "execution_count": null,
   "id": "f5fbac66",
   "metadata": {},
   "outputs": [],
   "source": [
    "# Which authors have more than one of their books as bestsellers?\n",
    "multiple_authors = books[books.groupby('Author')['Author'].transform('size') >= 2]\n",
    "multiple_authors['Author'].value_counts()"
   ]
  },
  {
   "cell_type": "code",
   "execution_count": null,
   "id": "ecf78112",
   "metadata": {},
   "outputs": [],
   "source": [
    "# Let's count the most frequent words in the titles!\n",
    "occurences = {}\n",
    "\n",
    "for string in books['Name']:\n",
    "    words = string.split()\n",
    "    for word in words:\n",
    "        occurences[word.lower()] = occurences.get(word.lower(), 0) + 1\n",
    "\n",
    "useless_words = ['the', 'and', 'for', 'that', 'you', 'your', 'how', 'who', 'book', 'novel', 'with', 'from', 'what']\n",
    "frequent_words = {k: v for k, v in occurences.items() if v > 1 and len(k) >= 3 and k not in useless_words}\n",
    "sorted(((v, k) for k, v in frequent_words.items()), reverse=True)"
   ]
  },
  {
   "cell_type": "code",
   "execution_count": null,
   "id": "2459b311",
   "metadata": {},
   "outputs": [],
   "source": []
  }
 ],
 "metadata": {
  "kernelspec": {
   "display_name": "Python 3 (ipykernel)",
   "language": "python",
   "name": "python3"
  },
  "language_info": {
   "codemirror_mode": {
    "name": "ipython",
    "version": 3
   },
   "file_extension": ".py",
   "mimetype": "text/x-python",
   "name": "python",
   "nbconvert_exporter": "python",
   "pygments_lexer": "ipython3",
   "version": "3.8.6"
  },
  "toc": {
   "base_numbering": 1,
   "nav_menu": {},
   "number_sections": false,
   "sideBar": true,
   "skip_h1_title": false,
   "title_cell": "Table of Contents",
   "title_sidebar": "Contents",
   "toc_cell": false,
   "toc_position": {},
   "toc_section_display": true,
   "toc_window_display": true
  }
 },
 "nbformat": 4,
 "nbformat_minor": 5
}
